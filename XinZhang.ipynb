{
 "cells": [
  {
   "cell_type": "code",
   "execution_count": 1,
   "id": "af467569",
   "metadata": {
    "ExecuteTime": {
     "end_time": "2021-09-03T21:56:55.374344Z",
     "start_time": "2021-09-03T21:56:53.115324Z"
    }
   },
   "outputs": [],
   "source": [
    "import warnings\n",
    "warnings.simplefilter('ignore')\n",
    "\n",
    "import numpy as np\n",
    "import pandas as pd\n",
    "import seaborn as sns\n",
    "import matplotlib.pyplot as plt\n",
    "\n",
    "from sklearn.model_selection import train_test_split\n",
    "from sklearn.linear_model import LogisticRegression\n",
    "from sklearn.metrics import accuracy_score, f1_score, confusion_matrix, recall_score\n",
    "\n",
    "%matplotlib inline"
   ]
  },
  {
   "cell_type": "markdown",
   "id": "8dd79577",
   "metadata": {},
   "source": [
    "# Load Dataset"
   ]
  },
  {
   "cell_type": "code",
   "execution_count": 2,
   "id": "3101094c",
   "metadata": {
    "ExecuteTime": {
     "end_time": "2021-09-03T21:56:55.425911Z",
     "start_time": "2021-09-03T21:56:55.375979Z"
    }
   },
   "outputs": [],
   "source": [
    "users=pd.read_csv('users.csv',parse_dates=['install_date'])"
   ]
  },
  {
   "cell_type": "code",
   "execution_count": 3,
   "id": "f6abfbc9",
   "metadata": {
    "ExecuteTime": {
     "end_time": "2021-09-03T21:56:55.436807Z",
     "start_time": "2021-09-03T21:56:55.427361Z"
    }
   },
   "outputs": [
    {
     "data": {
      "text/html": [
       "<div>\n",
       "<style scoped>\n",
       "    .dataframe tbody tr th:only-of-type {\n",
       "        vertical-align: middle;\n",
       "    }\n",
       "\n",
       "    .dataframe tbody tr th {\n",
       "        vertical-align: top;\n",
       "    }\n",
       "\n",
       "    .dataframe thead th {\n",
       "        text-align: right;\n",
       "    }\n",
       "</style>\n",
       "<table border=\"1\" class=\"dataframe\">\n",
       "  <thead>\n",
       "    <tr style=\"text-align: right;\">\n",
       "      <th></th>\n",
       "      <th>user_id</th>\n",
       "      <th>install_date</th>\n",
       "      <th>lang</th>\n",
       "      <th>country</th>\n",
       "      <th>hw_ver</th>\n",
       "      <th>os_ver</th>\n",
       "    </tr>\n",
       "  </thead>\n",
       "  <tbody>\n",
       "    <tr>\n",
       "      <th>0</th>\n",
       "      <td>0</td>\n",
       "      <td>2019-03-01</td>\n",
       "      <td>en</td>\n",
       "      <td>US</td>\n",
       "      <td>iPhone4,1</td>\n",
       "      <td>9.1</td>\n",
       "    </tr>\n",
       "    <tr>\n",
       "      <th>1</th>\n",
       "      <td>1</td>\n",
       "      <td>2019-03-01</td>\n",
       "      <td>en</td>\n",
       "      <td>IN</td>\n",
       "      <td>iPod5,1</td>\n",
       "      <td>8.1.2</td>\n",
       "    </tr>\n",
       "    <tr>\n",
       "      <th>2</th>\n",
       "      <td>2</td>\n",
       "      <td>2019-03-06</td>\n",
       "      <td>en</td>\n",
       "      <td>US</td>\n",
       "      <td>iPod7,1</td>\n",
       "      <td>8.4.1</td>\n",
       "    </tr>\n",
       "    <tr>\n",
       "      <th>3</th>\n",
       "      <td>3</td>\n",
       "      <td>2019-03-03</td>\n",
       "      <td>nb</td>\n",
       "      <td>NO</td>\n",
       "      <td>iPhone8,1</td>\n",
       "      <td>9.2.1</td>\n",
       "    </tr>\n",
       "    <tr>\n",
       "      <th>4</th>\n",
       "      <td>4</td>\n",
       "      <td>2019-03-03</td>\n",
       "      <td>en</td>\n",
       "      <td>GB</td>\n",
       "      <td>iPhone5,4</td>\n",
       "      <td>9.2.1</td>\n",
       "    </tr>\n",
       "  </tbody>\n",
       "</table>\n",
       "</div>"
      ],
      "text/plain": [
       "   user_id install_date lang country     hw_ver os_ver\n",
       "0        0   2019-03-01   en      US  iPhone4,1    9.1\n",
       "1        1   2019-03-01   en      IN    iPod5,1  8.1.2\n",
       "2        2   2019-03-06   en      US    iPod7,1  8.4.1\n",
       "3        3   2019-03-03   nb      NO  iPhone8,1  9.2.1\n",
       "4        4   2019-03-03   en      GB  iPhone5,4  9.2.1"
      ]
     },
     "execution_count": 3,
     "metadata": {},
     "output_type": "execute_result"
    }
   ],
   "source": [
    "users.head()"
   ]
  },
  {
   "cell_type": "code",
   "execution_count": 4,
   "id": "ffbd6e7c",
   "metadata": {
    "ExecuteTime": {
     "end_time": "2021-09-03T21:56:55.504863Z",
     "start_time": "2021-09-03T21:56:55.438069Z"
    }
   },
   "outputs": [
    {
     "name": "stdout",
     "output_type": "stream",
     "text": [
      "Install Dates are between: 2019-03-01 00:00:00 and 2019-03-07 00:00:00\n"
     ]
    }
   ],
   "source": [
    "print('Install Dates are between:',min(users['install_date']),'and', max(users['install_date']))"
   ]
  },
  {
   "cell_type": "code",
   "execution_count": 5,
   "id": "c5d1bfc2",
   "metadata": {
    "ExecuteTime": {
     "end_time": "2021-09-03T21:56:55.525146Z",
     "start_time": "2021-09-03T21:56:55.505897Z"
    }
   },
   "outputs": [
    {
     "name": "stdout",
     "output_type": "stream",
     "text": [
      "<class 'pandas.core.frame.DataFrame'>\n",
      "RangeIndex: 22576 entries, 0 to 22575\n",
      "Data columns (total 6 columns):\n",
      " #   Column        Non-Null Count  Dtype         \n",
      "---  ------        --------------  -----         \n",
      " 0   user_id       22576 non-null  int64         \n",
      " 1   install_date  22576 non-null  datetime64[ns]\n",
      " 2   lang          22576 non-null  object        \n",
      " 3   country       22564 non-null  object        \n",
      " 4   hw_ver        22576 non-null  object        \n",
      " 5   os_ver        22576 non-null  object        \n",
      "dtypes: datetime64[ns](1), int64(1), object(4)\n",
      "memory usage: 1.0+ MB\n"
     ]
    }
   ],
   "source": [
    "users.info()"
   ]
  },
  {
   "cell_type": "code",
   "execution_count": 6,
   "id": "e881e294",
   "metadata": {
    "ExecuteTime": {
     "end_time": "2021-09-03T21:56:55.529560Z",
     "start_time": "2021-09-03T21:56:55.526164Z"
    }
   },
   "outputs": [
    {
     "name": "stdout",
     "output_type": "stream",
     "text": [
      "Number of unique users: 22576\n"
     ]
    }
   ],
   "source": [
    "print('Number of unique users:',len(users['user_id'].unique()))"
   ]
  },
  {
   "cell_type": "code",
   "execution_count": 7,
   "id": "6ede51d5",
   "metadata": {
    "ExecuteTime": {
     "end_time": "2021-09-03T21:56:56.200782Z",
     "start_time": "2021-09-03T21:56:55.530656Z"
    }
   },
   "outputs": [],
   "source": [
    "sessions=pd.read_csv('sessions.csv',parse_dates=['date','ts'])"
   ]
  },
  {
   "cell_type": "code",
   "execution_count": 8,
   "id": "f07ee031",
   "metadata": {
    "ExecuteTime": {
     "end_time": "2021-09-03T21:56:56.210348Z",
     "start_time": "2021-09-03T21:56:56.204142Z"
    }
   },
   "outputs": [
    {
     "name": "stdout",
     "output_type": "stream",
     "text": [
      "Number of unique users in sessions: 22544\n"
     ]
    }
   ],
   "source": [
    "print('Number of unique users in sessions:',len(sessions['user_id'].unique()))"
   ]
  },
  {
   "cell_type": "code",
   "execution_count": 9,
   "id": "01d54839",
   "metadata": {
    "ExecuteTime": {
     "end_time": "2021-09-03T21:56:56.214637Z",
     "start_time": "2021-09-03T21:56:56.212008Z"
    }
   },
   "outputs": [],
   "source": [
    "sessions['count']=1"
   ]
  },
  {
   "cell_type": "code",
   "execution_count": 10,
   "id": "c6d851ab",
   "metadata": {
    "ExecuteTime": {
     "end_time": "2021-09-03T21:56:56.225806Z",
     "start_time": "2021-09-03T21:56:56.215607Z"
    }
   },
   "outputs": [
    {
     "name": "stdout",
     "output_type": "stream",
     "text": [
      "<class 'pandas.core.frame.DataFrame'>\n",
      "RangeIndex: 722955 entries, 0 to 722954\n",
      "Data columns (total 6 columns):\n",
      " #   Column                         Non-Null Count   Dtype         \n",
      "---  ------                         --------------   -----         \n",
      " 0   user_id                        722955 non-null  int64         \n",
      " 1   ts                             722955 non-null  datetime64[ns]\n",
      " 2   date                           722955 non-null  datetime64[ns]\n",
      " 3   session_num                    722955 non-null  int64         \n",
      " 4   last_session_termination_type  0 non-null       float64       \n",
      " 5   count                          722955 non-null  int64         \n",
      "dtypes: datetime64[ns](2), float64(1), int64(3)\n",
      "memory usage: 33.1 MB\n"
     ]
    }
   ],
   "source": [
    "sessions.info()"
   ]
  },
  {
   "cell_type": "code",
   "execution_count": 11,
   "id": "f88f6f9f",
   "metadata": {
    "ExecuteTime": {
     "end_time": "2021-09-03T21:56:56.305931Z",
     "start_time": "2021-09-03T21:56:56.226796Z"
    }
   },
   "outputs": [
    {
     "data": {
      "text/html": [
       "<div>\n",
       "<style scoped>\n",
       "    .dataframe tbody tr th:only-of-type {\n",
       "        vertical-align: middle;\n",
       "    }\n",
       "\n",
       "    .dataframe tbody tr th {\n",
       "        vertical-align: top;\n",
       "    }\n",
       "\n",
       "    .dataframe thead th {\n",
       "        text-align: right;\n",
       "    }\n",
       "</style>\n",
       "<table border=\"1\" class=\"dataframe\">\n",
       "  <thead>\n",
       "    <tr style=\"text-align: right;\">\n",
       "      <th></th>\n",
       "      <th>user_id</th>\n",
       "      <th>session_num</th>\n",
       "      <th>last_session_termination_type</th>\n",
       "      <th>count</th>\n",
       "    </tr>\n",
       "  </thead>\n",
       "  <tbody>\n",
       "    <tr>\n",
       "      <th>count</th>\n",
       "      <td>722955.000000</td>\n",
       "      <td>722955.000000</td>\n",
       "      <td>0.0</td>\n",
       "      <td>722955.0</td>\n",
       "    </tr>\n",
       "    <tr>\n",
       "      <th>mean</th>\n",
       "      <td>11310.115089</td>\n",
       "      <td>106.523894</td>\n",
       "      <td>NaN</td>\n",
       "      <td>1.0</td>\n",
       "    </tr>\n",
       "    <tr>\n",
       "      <th>std</th>\n",
       "      <td>6580.220411</td>\n",
       "      <td>169.429726</td>\n",
       "      <td>NaN</td>\n",
       "      <td>0.0</td>\n",
       "    </tr>\n",
       "    <tr>\n",
       "      <th>min</th>\n",
       "      <td>0.000000</td>\n",
       "      <td>1.000000</td>\n",
       "      <td>NaN</td>\n",
       "      <td>1.0</td>\n",
       "    </tr>\n",
       "    <tr>\n",
       "      <th>25%</th>\n",
       "      <td>5493.000000</td>\n",
       "      <td>14.000000</td>\n",
       "      <td>NaN</td>\n",
       "      <td>1.0</td>\n",
       "    </tr>\n",
       "    <tr>\n",
       "      <th>50%</th>\n",
       "      <td>11317.000000</td>\n",
       "      <td>45.000000</td>\n",
       "      <td>NaN</td>\n",
       "      <td>1.0</td>\n",
       "    </tr>\n",
       "    <tr>\n",
       "      <th>75%</th>\n",
       "      <td>17065.000000</td>\n",
       "      <td>124.000000</td>\n",
       "      <td>NaN</td>\n",
       "      <td>1.0</td>\n",
       "    </tr>\n",
       "    <tr>\n",
       "      <th>max</th>\n",
       "      <td>22575.000000</td>\n",
       "      <td>1919.000000</td>\n",
       "      <td>NaN</td>\n",
       "      <td>1.0</td>\n",
       "    </tr>\n",
       "  </tbody>\n",
       "</table>\n",
       "</div>"
      ],
      "text/plain": [
       "             user_id    session_num  last_session_termination_type     count\n",
       "count  722955.000000  722955.000000                            0.0  722955.0\n",
       "mean    11310.115089     106.523894                            NaN       1.0\n",
       "std      6580.220411     169.429726                            NaN       0.0\n",
       "min         0.000000       1.000000                            NaN       1.0\n",
       "25%      5493.000000      14.000000                            NaN       1.0\n",
       "50%     11317.000000      45.000000                            NaN       1.0\n",
       "75%     17065.000000     124.000000                            NaN       1.0\n",
       "max     22575.000000    1919.000000                            NaN       1.0"
      ]
     },
     "execution_count": 11,
     "metadata": {},
     "output_type": "execute_result"
    }
   ],
   "source": [
    "sessions.describe()"
   ]
  },
  {
   "cell_type": "code",
   "execution_count": 12,
   "id": "43b606ba",
   "metadata": {
    "ExecuteTime": {
     "end_time": "2021-09-03T21:56:56.320632Z",
     "start_time": "2021-09-03T21:56:56.307797Z"
    }
   },
   "outputs": [],
   "source": [
    "iaps=pd.read_csv('iaps.csv',parse_dates=['date','ts'])"
   ]
  },
  {
   "cell_type": "code",
   "execution_count": 13,
   "id": "bbfe4b09",
   "metadata": {
    "ExecuteTime": {
     "end_time": "2021-09-03T21:56:56.327182Z",
     "start_time": "2021-09-03T21:56:56.321602Z"
    }
   },
   "outputs": [
    {
     "data": {
      "text/html": [
       "<div>\n",
       "<style scoped>\n",
       "    .dataframe tbody tr th:only-of-type {\n",
       "        vertical-align: middle;\n",
       "    }\n",
       "\n",
       "    .dataframe tbody tr th {\n",
       "        vertical-align: top;\n",
       "    }\n",
       "\n",
       "    .dataframe thead th {\n",
       "        text-align: right;\n",
       "    }\n",
       "</style>\n",
       "<table border=\"1\" class=\"dataframe\">\n",
       "  <thead>\n",
       "    <tr style=\"text-align: right;\">\n",
       "      <th></th>\n",
       "      <th>user_id</th>\n",
       "      <th>ts</th>\n",
       "      <th>date</th>\n",
       "      <th>prod_name</th>\n",
       "      <th>prod_type</th>\n",
       "      <th>rev</th>\n",
       "    </tr>\n",
       "  </thead>\n",
       "  <tbody>\n",
       "    <tr>\n",
       "      <th>0</th>\n",
       "      <td>7480</td>\n",
       "      <td>2019-03-04 08:15:49</td>\n",
       "      <td>2019-03-04</td>\n",
       "      <td>iap_1_gems_2</td>\n",
       "      <td>gems</td>\n",
       "      <td>760</td>\n",
       "    </tr>\n",
       "    <tr>\n",
       "      <th>1</th>\n",
       "      <td>7480</td>\n",
       "      <td>2019-03-04 08:24:15</td>\n",
       "      <td>2019-03-04</td>\n",
       "      <td>iap_1_passes_2</td>\n",
       "      <td>chapterPasses</td>\n",
       "      <td>760</td>\n",
       "    </tr>\n",
       "    <tr>\n",
       "      <th>2</th>\n",
       "      <td>7480</td>\n",
       "      <td>2019-03-04 22:49:08</td>\n",
       "      <td>2019-03-04</td>\n",
       "      <td>iap_1_gems_1</td>\n",
       "      <td>gems</td>\n",
       "      <td>410</td>\n",
       "    </tr>\n",
       "    <tr>\n",
       "      <th>3</th>\n",
       "      <td>2466</td>\n",
       "      <td>2019-03-06 00:16:48</td>\n",
       "      <td>2019-03-06</td>\n",
       "      <td>iap_1_gems_2</td>\n",
       "      <td>gems</td>\n",
       "      <td>760</td>\n",
       "    </tr>\n",
       "    <tr>\n",
       "      <th>4</th>\n",
       "      <td>22001</td>\n",
       "      <td>2019-03-06 09:13:45</td>\n",
       "      <td>2019-03-06</td>\n",
       "      <td>iap_1_gems_2</td>\n",
       "      <td>gems</td>\n",
       "      <td>760</td>\n",
       "    </tr>\n",
       "  </tbody>\n",
       "</table>\n",
       "</div>"
      ],
      "text/plain": [
       "   user_id                  ts       date       prod_name      prod_type  rev\n",
       "0     7480 2019-03-04 08:15:49 2019-03-04    iap_1_gems_2           gems  760\n",
       "1     7480 2019-03-04 08:24:15 2019-03-04  iap_1_passes_2  chapterPasses  760\n",
       "2     7480 2019-03-04 22:49:08 2019-03-04    iap_1_gems_1           gems  410\n",
       "3     2466 2019-03-06 00:16:48 2019-03-06    iap_1_gems_2           gems  760\n",
       "4    22001 2019-03-06 09:13:45 2019-03-06    iap_1_gems_2           gems  760"
      ]
     },
     "execution_count": 13,
     "metadata": {},
     "output_type": "execute_result"
    }
   ],
   "source": [
    "iaps.head()"
   ]
  },
  {
   "cell_type": "code",
   "execution_count": 14,
   "id": "f2d32044",
   "metadata": {
    "ExecuteTime": {
     "end_time": "2021-09-03T21:56:56.331845Z",
     "start_time": "2021-09-03T21:56:56.328144Z"
    }
   },
   "outputs": [
    {
     "data": {
      "text/plain": [
       "19"
      ]
     },
     "execution_count": 14,
     "metadata": {},
     "output_type": "execute_result"
    }
   ],
   "source": [
    "iaps['prod_name'].nunique()"
   ]
  },
  {
   "cell_type": "code",
   "execution_count": 15,
   "id": "5015ae4f",
   "metadata": {
    "ExecuteTime": {
     "end_time": "2021-09-03T21:56:56.337635Z",
     "start_time": "2021-09-03T21:56:56.333815Z"
    }
   },
   "outputs": [
    {
     "name": "stdout",
     "output_type": "stream",
     "text": [
      "Number of unique users in iaps: 1526\n"
     ]
    }
   ],
   "source": [
    "print('Number of unique users in iaps:',len(iaps['user_id'].unique()))"
   ]
  },
  {
   "cell_type": "code",
   "execution_count": 16,
   "id": "d0b09dc3",
   "metadata": {
    "ExecuteTime": {
     "end_time": "2021-09-03T21:56:56.344825Z",
     "start_time": "2021-09-03T21:56:56.338635Z"
    }
   },
   "outputs": [
    {
     "name": "stdout",
     "output_type": "stream",
     "text": [
      "<class 'pandas.core.frame.DataFrame'>\n",
      "RangeIndex: 6685 entries, 0 to 6684\n",
      "Data columns (total 6 columns):\n",
      " #   Column     Non-Null Count  Dtype         \n",
      "---  ------     --------------  -----         \n",
      " 0   user_id    6685 non-null   int64         \n",
      " 1   ts         6685 non-null   datetime64[ns]\n",
      " 2   date       6685 non-null   datetime64[ns]\n",
      " 3   prod_name  6685 non-null   object        \n",
      " 4   prod_type  6685 non-null   object        \n",
      " 5   rev        6685 non-null   int64         \n",
      "dtypes: datetime64[ns](2), int64(2), object(2)\n",
      "memory usage: 313.5+ KB\n"
     ]
    }
   ],
   "source": [
    "iaps.info()"
   ]
  },
  {
   "cell_type": "code",
   "execution_count": 17,
   "id": "2bd4adf8",
   "metadata": {
    "ExecuteTime": {
     "end_time": "2021-09-03T21:56:56.469542Z",
     "start_time": "2021-09-03T21:56:56.345760Z"
    }
   },
   "outputs": [],
   "source": [
    "spendevents=pd.read_csv('spendevents.csv',parse_dates=['date','ts'])"
   ]
  },
  {
   "cell_type": "code",
   "execution_count": 18,
   "id": "f0cd8a7b",
   "metadata": {
    "ExecuteTime": {
     "end_time": "2021-09-03T21:56:56.476267Z",
     "start_time": "2021-09-03T21:56:56.470615Z"
    }
   },
   "outputs": [
    {
     "data": {
      "text/html": [
       "<div>\n",
       "<style scoped>\n",
       "    .dataframe tbody tr th:only-of-type {\n",
       "        vertical-align: middle;\n",
       "    }\n",
       "\n",
       "    .dataframe tbody tr th {\n",
       "        vertical-align: top;\n",
       "    }\n",
       "\n",
       "    .dataframe thead th {\n",
       "        text-align: right;\n",
       "    }\n",
       "</style>\n",
       "<table border=\"1\" class=\"dataframe\">\n",
       "  <thead>\n",
       "    <tr style=\"text-align: right;\">\n",
       "      <th></th>\n",
       "      <th>user_id</th>\n",
       "      <th>ts</th>\n",
       "      <th>date</th>\n",
       "      <th>story</th>\n",
       "      <th>chapter</th>\n",
       "      <th>spendtype</th>\n",
       "      <th>currency</th>\n",
       "      <th>amount</th>\n",
       "    </tr>\n",
       "  </thead>\n",
       "  <tbody>\n",
       "    <tr>\n",
       "      <th>0</th>\n",
       "      <td>9829</td>\n",
       "      <td>2019-03-01 03:03:04</td>\n",
       "      <td>2019-03-01</td>\n",
       "      <td>story_1</td>\n",
       "      <td>0</td>\n",
       "      <td>earnGemsCounter</td>\n",
       "      <td>gems</td>\n",
       "      <td>-22</td>\n",
       "    </tr>\n",
       "    <tr>\n",
       "      <th>1</th>\n",
       "      <td>13757</td>\n",
       "      <td>2019-03-01 03:35:53</td>\n",
       "      <td>2019-03-01</td>\n",
       "      <td>story_1</td>\n",
       "      <td>0</td>\n",
       "      <td>earnGemsCounter</td>\n",
       "      <td>gems</td>\n",
       "      <td>-22</td>\n",
       "    </tr>\n",
       "    <tr>\n",
       "      <th>2</th>\n",
       "      <td>13757</td>\n",
       "      <td>2019-03-01 03:52:10</td>\n",
       "      <td>2019-03-01</td>\n",
       "      <td>story_2</td>\n",
       "      <td>0</td>\n",
       "      <td>earnGemsCounter</td>\n",
       "      <td>gems</td>\n",
       "      <td>-22</td>\n",
       "    </tr>\n",
       "    <tr>\n",
       "      <th>3</th>\n",
       "      <td>10009</td>\n",
       "      <td>2019-03-01 04:10:00</td>\n",
       "      <td>2019-03-01</td>\n",
       "      <td>story_1</td>\n",
       "      <td>0</td>\n",
       "      <td>earnGemsCounter</td>\n",
       "      <td>gems</td>\n",
       "      <td>-22</td>\n",
       "    </tr>\n",
       "    <tr>\n",
       "      <th>4</th>\n",
       "      <td>10009</td>\n",
       "      <td>2019-03-01 04:26:46</td>\n",
       "      <td>2019-03-01</td>\n",
       "      <td>story_2</td>\n",
       "      <td>0</td>\n",
       "      <td>earnGemsCounter</td>\n",
       "      <td>gems</td>\n",
       "      <td>-22</td>\n",
       "    </tr>\n",
       "  </tbody>\n",
       "</table>\n",
       "</div>"
      ],
      "text/plain": [
       "   user_id                  ts       date    story  chapter        spendtype  \\\n",
       "0     9829 2019-03-01 03:03:04 2019-03-01  story_1        0  earnGemsCounter   \n",
       "1    13757 2019-03-01 03:35:53 2019-03-01  story_1        0  earnGemsCounter   \n",
       "2    13757 2019-03-01 03:52:10 2019-03-01  story_2        0  earnGemsCounter   \n",
       "3    10009 2019-03-01 04:10:00 2019-03-01  story_1        0  earnGemsCounter   \n",
       "4    10009 2019-03-01 04:26:46 2019-03-01  story_2        0  earnGemsCounter   \n",
       "\n",
       "  currency  amount  \n",
       "0     gems     -22  \n",
       "1     gems     -22  \n",
       "2     gems     -22  \n",
       "3     gems     -22  \n",
       "4     gems     -22  "
      ]
     },
     "execution_count": 18,
     "metadata": {},
     "output_type": "execute_result"
    }
   ],
   "source": [
    "spendevents.head()"
   ]
  },
  {
   "cell_type": "code",
   "execution_count": 19,
   "id": "c24982cd",
   "metadata": {
    "ExecuteTime": {
     "end_time": "2021-09-03T21:56:56.480198Z",
     "start_time": "2021-09-03T21:56:56.477170Z"
    }
   },
   "outputs": [
    {
     "name": "stdout",
     "output_type": "stream",
     "text": [
      "Number of unique users in spendevents: 18017\n"
     ]
    }
   ],
   "source": [
    "print('Number of unique users in spendevents:',len(spendevents['user_id'].unique()))"
   ]
  },
  {
   "cell_type": "code",
   "execution_count": 20,
   "id": "68c851d3",
   "metadata": {
    "ExecuteTime": {
     "end_time": "2021-09-03T21:56:56.498878Z",
     "start_time": "2021-09-03T21:56:56.481111Z"
    }
   },
   "outputs": [
    {
     "name": "stdout",
     "output_type": "stream",
     "text": [
      "<class 'pandas.core.frame.DataFrame'>\n",
      "RangeIndex: 107764 entries, 0 to 107763\n",
      "Data columns (total 8 columns):\n",
      " #   Column     Non-Null Count   Dtype         \n",
      "---  ------     --------------   -----         \n",
      " 0   user_id    107764 non-null  int64         \n",
      " 1   ts         107764 non-null  datetime64[ns]\n",
      " 2   date       107764 non-null  datetime64[ns]\n",
      " 3   story      107764 non-null  object        \n",
      " 4   chapter    107764 non-null  int64         \n",
      " 5   spendtype  106420 non-null  object        \n",
      " 6   currency   107764 non-null  object        \n",
      " 7   amount     107764 non-null  int64         \n",
      "dtypes: datetime64[ns](2), int64(3), object(3)\n",
      "memory usage: 6.6+ MB\n"
     ]
    }
   ],
   "source": [
    "spendevents.info()"
   ]
  },
  {
   "cell_type": "code",
   "execution_count": 21,
   "id": "d1d6e532",
   "metadata": {
    "ExecuteTime": {
     "end_time": "2021-09-03T21:56:56.518400Z",
     "start_time": "2021-09-03T21:56:56.501875Z"
    }
   },
   "outputs": [
    {
     "data": {
      "text/html": [
       "<div>\n",
       "<style scoped>\n",
       "    .dataframe tbody tr th:only-of-type {\n",
       "        vertical-align: middle;\n",
       "    }\n",
       "\n",
       "    .dataframe tbody tr th {\n",
       "        vertical-align: top;\n",
       "    }\n",
       "\n",
       "    .dataframe thead th {\n",
       "        text-align: right;\n",
       "    }\n",
       "</style>\n",
       "<table border=\"1\" class=\"dataframe\">\n",
       "  <thead>\n",
       "    <tr style=\"text-align: right;\">\n",
       "      <th></th>\n",
       "      <th>user_id</th>\n",
       "      <th>chapter</th>\n",
       "      <th>amount</th>\n",
       "    </tr>\n",
       "  </thead>\n",
       "  <tbody>\n",
       "    <tr>\n",
       "      <th>count</th>\n",
       "      <td>107764.000000</td>\n",
       "      <td>107764.000000</td>\n",
       "      <td>1.077640e+05</td>\n",
       "    </tr>\n",
       "    <tr>\n",
       "      <th>mean</th>\n",
       "      <td>11281.757062</td>\n",
       "      <td>3.017585</td>\n",
       "      <td>-4.262989e+02</td>\n",
       "    </tr>\n",
       "    <tr>\n",
       "      <th>std</th>\n",
       "      <td>6503.598235</td>\n",
       "      <td>5.292995</td>\n",
       "      <td>3.539171e+04</td>\n",
       "    </tr>\n",
       "    <tr>\n",
       "      <th>min</th>\n",
       "      <td>0.000000</td>\n",
       "      <td>0.000000</td>\n",
       "      <td>-3.000004e+06</td>\n",
       "    </tr>\n",
       "    <tr>\n",
       "      <th>25%</th>\n",
       "      <td>5682.750000</td>\n",
       "      <td>0.000000</td>\n",
       "      <td>-2.200000e+01</td>\n",
       "    </tr>\n",
       "    <tr>\n",
       "      <th>50%</th>\n",
       "      <td>11282.000000</td>\n",
       "      <td>0.000000</td>\n",
       "      <td>0.000000e+00</td>\n",
       "    </tr>\n",
       "    <tr>\n",
       "      <th>75%</th>\n",
       "      <td>16873.000000</td>\n",
       "      <td>4.000000</td>\n",
       "      <td>0.000000e+00</td>\n",
       "    </tr>\n",
       "    <tr>\n",
       "      <th>max</th>\n",
       "      <td>22575.000000</td>\n",
       "      <td>89.000000</td>\n",
       "      <td>3.360000e+02</td>\n",
       "    </tr>\n",
       "  </tbody>\n",
       "</table>\n",
       "</div>"
      ],
      "text/plain": [
       "             user_id        chapter        amount\n",
       "count  107764.000000  107764.000000  1.077640e+05\n",
       "mean    11281.757062       3.017585 -4.262989e+02\n",
       "std      6503.598235       5.292995  3.539171e+04\n",
       "min         0.000000       0.000000 -3.000004e+06\n",
       "25%      5682.750000       0.000000 -2.200000e+01\n",
       "50%     11282.000000       0.000000  0.000000e+00\n",
       "75%     16873.000000       4.000000  0.000000e+00\n",
       "max     22575.000000      89.000000  3.360000e+02"
      ]
     },
     "execution_count": 21,
     "metadata": {},
     "output_type": "execute_result"
    }
   ],
   "source": [
    "spendevents.describe()"
   ]
  },
  {
   "cell_type": "code",
   "execution_count": 22,
   "id": "a7485f95",
   "metadata": {
    "ExecuteTime": {
     "end_time": "2021-09-03T21:56:56.526744Z",
     "start_time": "2021-09-03T21:56:56.519413Z"
    }
   },
   "outputs": [
    {
     "data": {
      "text/html": [
       "<div>\n",
       "<style scoped>\n",
       "    .dataframe tbody tr th:only-of-type {\n",
       "        vertical-align: middle;\n",
       "    }\n",
       "\n",
       "    .dataframe tbody tr th {\n",
       "        vertical-align: top;\n",
       "    }\n",
       "\n",
       "    .dataframe thead th {\n",
       "        text-align: right;\n",
       "    }\n",
       "</style>\n",
       "<table border=\"1\" class=\"dataframe\">\n",
       "  <thead>\n",
       "    <tr style=\"text-align: right;\">\n",
       "      <th></th>\n",
       "      <th>user_id</th>\n",
       "      <th>ts</th>\n",
       "      <th>date</th>\n",
       "      <th>story</th>\n",
       "      <th>chapter</th>\n",
       "      <th>spendtype</th>\n",
       "      <th>currency</th>\n",
       "      <th>amount</th>\n",
       "    </tr>\n",
       "  </thead>\n",
       "  <tbody>\n",
       "    <tr>\n",
       "      <th>15694</th>\n",
       "      <td>2062</td>\n",
       "      <td>2019-03-02 20:01:22</td>\n",
       "      <td>2019-03-03</td>\n",
       "      <td>story_1</td>\n",
       "      <td>0</td>\n",
       "      <td>earnGemsCounter</td>\n",
       "      <td>gems</td>\n",
       "      <td>-22</td>\n",
       "    </tr>\n",
       "    <tr>\n",
       "      <th>15721</th>\n",
       "      <td>2062</td>\n",
       "      <td>2019-03-03 03:50:45</td>\n",
       "      <td>2019-03-03</td>\n",
       "      <td>story_1</td>\n",
       "      <td>5</td>\n",
       "      <td>IAP</td>\n",
       "      <td>gems</td>\n",
       "      <td>-73</td>\n",
       "    </tr>\n",
       "    <tr>\n",
       "      <th>15722</th>\n",
       "      <td>2062</td>\n",
       "      <td>2019-03-03 03:50:58</td>\n",
       "      <td>2019-03-03</td>\n",
       "      <td>story_1</td>\n",
       "      <td>5</td>\n",
       "      <td>IAP</td>\n",
       "      <td>gems</td>\n",
       "      <td>-73</td>\n",
       "    </tr>\n",
       "    <tr>\n",
       "      <th>15723</th>\n",
       "      <td>2062</td>\n",
       "      <td>2019-03-03 03:51:00</td>\n",
       "      <td>2019-03-03</td>\n",
       "      <td>story_1</td>\n",
       "      <td>5</td>\n",
       "      <td>premiumChoice</td>\n",
       "      <td>gems</td>\n",
       "      <td>64</td>\n",
       "    </tr>\n",
       "    <tr>\n",
       "      <th>15724</th>\n",
       "      <td>2062</td>\n",
       "      <td>2019-03-03 04:07:34</td>\n",
       "      <td>2019-03-03</td>\n",
       "      <td>story_1</td>\n",
       "      <td>6</td>\n",
       "      <td>IAP</td>\n",
       "      <td>gems</td>\n",
       "      <td>-73</td>\n",
       "    </tr>\n",
       "    <tr>\n",
       "      <th>15725</th>\n",
       "      <td>2062</td>\n",
       "      <td>2019-03-03 04:07:37</td>\n",
       "      <td>2019-03-03</td>\n",
       "      <td>story_1</td>\n",
       "      <td>6</td>\n",
       "      <td>premiumChoice</td>\n",
       "      <td>gems</td>\n",
       "      <td>55</td>\n",
       "    </tr>\n",
       "    <tr>\n",
       "      <th>15726</th>\n",
       "      <td>2062</td>\n",
       "      <td>2019-03-03 04:24:58</td>\n",
       "      <td>2019-03-03</td>\n",
       "      <td>story_1</td>\n",
       "      <td>8</td>\n",
       "      <td>premiumChoice</td>\n",
       "      <td>gems</td>\n",
       "      <td>27</td>\n",
       "    </tr>\n",
       "  </tbody>\n",
       "</table>\n",
       "</div>"
      ],
      "text/plain": [
       "       user_id                  ts       date    story  chapter  \\\n",
       "15694     2062 2019-03-02 20:01:22 2019-03-03  story_1        0   \n",
       "15721     2062 2019-03-03 03:50:45 2019-03-03  story_1        5   \n",
       "15722     2062 2019-03-03 03:50:58 2019-03-03  story_1        5   \n",
       "15723     2062 2019-03-03 03:51:00 2019-03-03  story_1        5   \n",
       "15724     2062 2019-03-03 04:07:34 2019-03-03  story_1        6   \n",
       "15725     2062 2019-03-03 04:07:37 2019-03-03  story_1        6   \n",
       "15726     2062 2019-03-03 04:24:58 2019-03-03  story_1        8   \n",
       "\n",
       "             spendtype currency  amount  \n",
       "15694  earnGemsCounter     gems     -22  \n",
       "15721              IAP     gems     -73  \n",
       "15722              IAP     gems     -73  \n",
       "15723    premiumChoice     gems      64  \n",
       "15724              IAP     gems     -73  \n",
       "15725    premiumChoice     gems      55  \n",
       "15726    premiumChoice     gems      27  "
      ]
     },
     "execution_count": 22,
     "metadata": {},
     "output_type": "execute_result"
    }
   ],
   "source": [
    "#filter to see three types of spendtype\n",
    "spendevents[spendevents['user_id']==2062].sort_values('ts')"
   ]
  },
  {
   "cell_type": "code",
   "execution_count": 23,
   "id": "b70ef4dc",
   "metadata": {
    "ExecuteTime": {
     "end_time": "2021-09-03T21:56:56.537958Z",
     "start_time": "2021-09-03T21:56:56.530172Z"
    }
   },
   "outputs": [
    {
     "data": {
      "text/plain": [
       "array(['earnGemsCounter', 'IAP', 'premiumChoice', nan, 'valuepack'],\n",
       "      dtype=object)"
      ]
     },
     "execution_count": 23,
     "metadata": {},
     "output_type": "execute_result"
    }
   ],
   "source": [
    "spendevents['spendtype'].unique()"
   ]
  },
  {
   "cell_type": "code",
   "execution_count": 24,
   "id": "f10153ea",
   "metadata": {
    "ExecuteTime": {
     "end_time": "2021-09-03T21:56:56.552289Z",
     "start_time": "2021-09-03T21:56:56.539622Z"
    }
   },
   "outputs": [
    {
     "data": {
      "text/html": [
       "<div>\n",
       "<style scoped>\n",
       "    .dataframe tbody tr th:only-of-type {\n",
       "        vertical-align: middle;\n",
       "    }\n",
       "\n",
       "    .dataframe tbody tr th {\n",
       "        vertical-align: top;\n",
       "    }\n",
       "\n",
       "    .dataframe thead th {\n",
       "        text-align: right;\n",
       "    }\n",
       "</style>\n",
       "<table border=\"1\" class=\"dataframe\">\n",
       "  <thead>\n",
       "    <tr style=\"text-align: right;\">\n",
       "      <th></th>\n",
       "      <th>user_id</th>\n",
       "      <th>ts</th>\n",
       "      <th>date</th>\n",
       "      <th>story</th>\n",
       "      <th>chapter</th>\n",
       "      <th>spendtype</th>\n",
       "      <th>currency</th>\n",
       "      <th>amount</th>\n",
       "    </tr>\n",
       "  </thead>\n",
       "  <tbody>\n",
       "    <tr>\n",
       "      <th>27107</th>\n",
       "      <td>9984</td>\n",
       "      <td>2019-04-15 20:16:49</td>\n",
       "      <td>2019-04-16</td>\n",
       "      <td>story_15</td>\n",
       "      <td>10</td>\n",
       "      <td>valuepack</td>\n",
       "      <td>gems</td>\n",
       "      <td>-322</td>\n",
       "    </tr>\n",
       "    <tr>\n",
       "      <th>32772</th>\n",
       "      <td>5782</td>\n",
       "      <td>2019-04-17 05:33:26</td>\n",
       "      <td>2019-04-17</td>\n",
       "      <td>story_1</td>\n",
       "      <td>4</td>\n",
       "      <td>valuepack</td>\n",
       "      <td>gems</td>\n",
       "      <td>-82</td>\n",
       "    </tr>\n",
       "    <tr>\n",
       "      <th>52405</th>\n",
       "      <td>5987</td>\n",
       "      <td>2019-04-17 05:02:48</td>\n",
       "      <td>2019-04-17</td>\n",
       "      <td>story_4</td>\n",
       "      <td>24</td>\n",
       "      <td>valuepack</td>\n",
       "      <td>gems</td>\n",
       "      <td>-217</td>\n",
       "    </tr>\n",
       "    <tr>\n",
       "      <th>52406</th>\n",
       "      <td>5987</td>\n",
       "      <td>2019-04-17 05:02:48</td>\n",
       "      <td>2019-04-17</td>\n",
       "      <td>story_4</td>\n",
       "      <td>24</td>\n",
       "      <td>valuepack</td>\n",
       "      <td>gems</td>\n",
       "      <td>-217</td>\n",
       "    </tr>\n",
       "    <tr>\n",
       "      <th>57519</th>\n",
       "      <td>8874</td>\n",
       "      <td>2019-04-17 07:46:03</td>\n",
       "      <td>2019-04-17</td>\n",
       "      <td>story_2</td>\n",
       "      <td>0</td>\n",
       "      <td>valuepack</td>\n",
       "      <td>gems</td>\n",
       "      <td>-217</td>\n",
       "    </tr>\n",
       "    <tr>\n",
       "      <th>59187</th>\n",
       "      <td>185</td>\n",
       "      <td>2019-04-20 07:52:28</td>\n",
       "      <td>2019-04-20</td>\n",
       "      <td>story_2</td>\n",
       "      <td>17</td>\n",
       "      <td>valuepack</td>\n",
       "      <td>gems</td>\n",
       "      <td>-322</td>\n",
       "    </tr>\n",
       "  </tbody>\n",
       "</table>\n",
       "</div>"
      ],
      "text/plain": [
       "       user_id                  ts       date     story  chapter  spendtype  \\\n",
       "27107     9984 2019-04-15 20:16:49 2019-04-16  story_15       10  valuepack   \n",
       "32772     5782 2019-04-17 05:33:26 2019-04-17   story_1        4  valuepack   \n",
       "52405     5987 2019-04-17 05:02:48 2019-04-17   story_4       24  valuepack   \n",
       "52406     5987 2019-04-17 05:02:48 2019-04-17   story_4       24  valuepack   \n",
       "57519     8874 2019-04-17 07:46:03 2019-04-17   story_2        0  valuepack   \n",
       "59187      185 2019-04-20 07:52:28 2019-04-20   story_2       17  valuepack   \n",
       "\n",
       "      currency  amount  \n",
       "27107     gems    -322  \n",
       "32772     gems     -82  \n",
       "52405     gems    -217  \n",
       "52406     gems    -217  \n",
       "57519     gems    -217  \n",
       "59187     gems    -322  "
      ]
     },
     "execution_count": 24,
     "metadata": {},
     "output_type": "execute_result"
    }
   ],
   "source": [
    "spendevents[spendevents['spendtype']=='valuepack'].head(6)"
   ]
  },
  {
   "cell_type": "code",
   "execution_count": 25,
   "id": "337bacda",
   "metadata": {
    "ExecuteTime": {
     "end_time": "2021-09-03T21:56:56.570789Z",
     "start_time": "2021-09-03T21:56:56.553200Z"
    }
   },
   "outputs": [
    {
     "name": "stdout",
     "output_type": "stream",
     "text": [
      "<class 'pandas.core.frame.DataFrame'>\n",
      "RangeIndex: 107764 entries, 0 to 107763\n",
      "Data columns (total 8 columns):\n",
      " #   Column     Non-Null Count   Dtype         \n",
      "---  ------     --------------   -----         \n",
      " 0   user_id    107764 non-null  int64         \n",
      " 1   ts         107764 non-null  datetime64[ns]\n",
      " 2   date       107764 non-null  datetime64[ns]\n",
      " 3   story      107764 non-null  object        \n",
      " 4   chapter    107764 non-null  int64         \n",
      " 5   spendtype  106420 non-null  object        \n",
      " 6   currency   107764 non-null  object        \n",
      " 7   amount     107764 non-null  int64         \n",
      "dtypes: datetime64[ns](2), int64(3), object(3)\n",
      "memory usage: 6.6+ MB\n"
     ]
    }
   ],
   "source": [
    "spendevents.info()"
   ]
  },
  {
   "cell_type": "code",
   "execution_count": 26,
   "id": "66557938",
   "metadata": {
    "ExecuteTime": {
     "end_time": "2021-09-03T21:56:56.579729Z",
     "start_time": "2021-09-03T21:56:56.571845Z"
    }
   },
   "outputs": [
    {
     "data": {
      "text/plain": [
       "1344"
      ]
     },
     "execution_count": 26,
     "metadata": {},
     "output_type": "execute_result"
    }
   ],
   "source": [
    "spendevents['spendtype'].isnull().sum()"
   ]
  },
  {
   "cell_type": "markdown",
   "id": "751f8452",
   "metadata": {},
   "source": [
    "# Data Preprocessing"
   ]
  },
  {
   "cell_type": "code",
   "execution_count": 27,
   "id": "265c4f43",
   "metadata": {
    "ExecuteTime": {
     "end_time": "2021-09-03T21:56:56.583962Z",
     "start_time": "2021-09-03T21:56:56.581266Z"
    }
   },
   "outputs": [
    {
     "data": {
      "text/plain": [
       "((22576, 6), (722955, 6), (6685, 6), (107764, 8))"
      ]
     },
     "execution_count": 27,
     "metadata": {},
     "output_type": "execute_result"
    }
   ],
   "source": [
    "users.shape, sessions.shape,iaps.shape,spendevents.shape"
   ]
  },
  {
   "cell_type": "code",
   "execution_count": 28,
   "id": "84f55eea",
   "metadata": {
    "ExecuteTime": {
     "end_time": "2021-09-03T21:56:56.685606Z",
     "start_time": "2021-09-03T21:56:56.584979Z"
    }
   },
   "outputs": [],
   "source": [
    "#Remove duplicate records \n",
    "\n",
    "iaps=iaps.drop_duplicates(subset=['user_id','ts'])\n",
    "spendevents=spendevents.drop_duplicates(subset=['user_id','ts'])\n",
    "sessions=sessions.drop_duplicates(subset=['user_id','ts'])"
   ]
  },
  {
   "cell_type": "code",
   "execution_count": 29,
   "id": "435da33b",
   "metadata": {
    "ExecuteTime": {
     "end_time": "2021-09-03T21:56:56.689697Z",
     "start_time": "2021-09-03T21:56:56.686684Z"
    }
   },
   "outputs": [
    {
     "data": {
      "text/plain": [
       "((22576, 6), (722787, 6), (6622, 6), (96603, 8))"
      ]
     },
     "execution_count": 29,
     "metadata": {},
     "output_type": "execute_result"
    }
   ],
   "source": [
    "users.shape, sessions.shape,iaps.shape,spendevents.shape"
   ]
  },
  {
   "cell_type": "markdown",
   "id": "d27dabf0",
   "metadata": {},
   "source": [
    "## Editing User Table"
   ]
  },
  {
   "cell_type": "code",
   "execution_count": 30,
   "id": "e75b3d9f",
   "metadata": {
    "ExecuteTime": {
     "end_time": "2021-09-03T21:56:56.714482Z",
     "start_time": "2021-09-03T21:56:56.690730Z"
    }
   },
   "outputs": [],
   "source": [
    "users[['device','version']]=users['hw_ver'].str.split(',',1,expand=True)"
   ]
  },
  {
   "cell_type": "code",
   "execution_count": 31,
   "id": "fdb0a78a",
   "metadata": {
    "ExecuteTime": {
     "end_time": "2021-09-03T21:56:56.777139Z",
     "start_time": "2021-09-03T21:56:56.715532Z"
    }
   },
   "outputs": [],
   "source": [
    "users['dayofweek']=users['install_date'].apply(lambda x: x.dayofweek)"
   ]
  },
  {
   "cell_type": "code",
   "execution_count": 32,
   "id": "a41ea31f",
   "metadata": {
    "ExecuteTime": {
     "end_time": "2021-09-03T21:56:56.781632Z",
     "start_time": "2021-09-03T21:56:56.778166Z"
    }
   },
   "outputs": [
    {
     "data": {
      "text/plain": [
       "31"
      ]
     },
     "execution_count": 32,
     "metadata": {},
     "output_type": "execute_result"
    }
   ],
   "source": [
    "users['os_ver'].nunique()"
   ]
  },
  {
   "cell_type": "code",
   "execution_count": 33,
   "id": "7aafa48f",
   "metadata": {
    "ExecuteTime": {
     "end_time": "2021-09-03T21:56:56.854231Z",
     "start_time": "2021-09-03T21:56:56.782543Z"
    }
   },
   "outputs": [],
   "source": [
    "users['os']=users['os_ver'].str.split('.',0,expand=True)[0]+'.'+users['os_ver'].str.split('.',0,expand=True)[1]"
   ]
  },
  {
   "cell_type": "code",
   "execution_count": 34,
   "id": "11065e74",
   "metadata": {
    "ExecuteTime": {
     "end_time": "2021-09-03T21:56:56.859166Z",
     "start_time": "2021-09-03T21:56:56.855250Z"
    }
   },
   "outputs": [
    {
     "data": {
      "text/plain": [
       "12"
      ]
     },
     "execution_count": 34,
     "metadata": {},
     "output_type": "execute_result"
    }
   ],
   "source": [
    "users['os'].nunique()"
   ]
  },
  {
   "cell_type": "code",
   "execution_count": 35,
   "id": "afce943c",
   "metadata": {
    "ExecuteTime": {
     "end_time": "2021-09-03T21:56:56.869634Z",
     "start_time": "2021-09-03T21:56:56.862654Z"
    }
   },
   "outputs": [
    {
     "data": {
      "text/html": [
       "<div>\n",
       "<style scoped>\n",
       "    .dataframe tbody tr th:only-of-type {\n",
       "        vertical-align: middle;\n",
       "    }\n",
       "\n",
       "    .dataframe tbody tr th {\n",
       "        vertical-align: top;\n",
       "    }\n",
       "\n",
       "    .dataframe thead th {\n",
       "        text-align: right;\n",
       "    }\n",
       "</style>\n",
       "<table border=\"1\" class=\"dataframe\">\n",
       "  <thead>\n",
       "    <tr style=\"text-align: right;\">\n",
       "      <th></th>\n",
       "      <th>user_id</th>\n",
       "      <th>install_date</th>\n",
       "      <th>lang</th>\n",
       "      <th>country</th>\n",
       "      <th>hw_ver</th>\n",
       "      <th>os_ver</th>\n",
       "      <th>device</th>\n",
       "      <th>version</th>\n",
       "      <th>dayofweek</th>\n",
       "      <th>os</th>\n",
       "    </tr>\n",
       "  </thead>\n",
       "  <tbody>\n",
       "    <tr>\n",
       "      <th>0</th>\n",
       "      <td>0</td>\n",
       "      <td>2019-03-01</td>\n",
       "      <td>en</td>\n",
       "      <td>US</td>\n",
       "      <td>iPhone4,1</td>\n",
       "      <td>9.1</td>\n",
       "      <td>iPhone4</td>\n",
       "      <td>1</td>\n",
       "      <td>4</td>\n",
       "      <td>9.1</td>\n",
       "    </tr>\n",
       "    <tr>\n",
       "      <th>1</th>\n",
       "      <td>1</td>\n",
       "      <td>2019-03-01</td>\n",
       "      <td>en</td>\n",
       "      <td>IN</td>\n",
       "      <td>iPod5,1</td>\n",
       "      <td>8.1.2</td>\n",
       "      <td>iPod5</td>\n",
       "      <td>1</td>\n",
       "      <td>4</td>\n",
       "      <td>8.1</td>\n",
       "    </tr>\n",
       "    <tr>\n",
       "      <th>2</th>\n",
       "      <td>2</td>\n",
       "      <td>2019-03-06</td>\n",
       "      <td>en</td>\n",
       "      <td>US</td>\n",
       "      <td>iPod7,1</td>\n",
       "      <td>8.4.1</td>\n",
       "      <td>iPod7</td>\n",
       "      <td>1</td>\n",
       "      <td>2</td>\n",
       "      <td>8.4</td>\n",
       "    </tr>\n",
       "    <tr>\n",
       "      <th>3</th>\n",
       "      <td>3</td>\n",
       "      <td>2019-03-03</td>\n",
       "      <td>nb</td>\n",
       "      <td>NO</td>\n",
       "      <td>iPhone8,1</td>\n",
       "      <td>9.2.1</td>\n",
       "      <td>iPhone8</td>\n",
       "      <td>1</td>\n",
       "      <td>6</td>\n",
       "      <td>9.2</td>\n",
       "    </tr>\n",
       "    <tr>\n",
       "      <th>4</th>\n",
       "      <td>4</td>\n",
       "      <td>2019-03-03</td>\n",
       "      <td>en</td>\n",
       "      <td>GB</td>\n",
       "      <td>iPhone5,4</td>\n",
       "      <td>9.2.1</td>\n",
       "      <td>iPhone5</td>\n",
       "      <td>4</td>\n",
       "      <td>6</td>\n",
       "      <td>9.2</td>\n",
       "    </tr>\n",
       "  </tbody>\n",
       "</table>\n",
       "</div>"
      ],
      "text/plain": [
       "   user_id install_date lang country     hw_ver os_ver   device version  \\\n",
       "0        0   2019-03-01   en      US  iPhone4,1    9.1  iPhone4       1   \n",
       "1        1   2019-03-01   en      IN    iPod5,1  8.1.2    iPod5       1   \n",
       "2        2   2019-03-06   en      US    iPod7,1  8.4.1    iPod7       1   \n",
       "3        3   2019-03-03   nb      NO  iPhone8,1  9.2.1  iPhone8       1   \n",
       "4        4   2019-03-03   en      GB  iPhone5,4  9.2.1  iPhone5       4   \n",
       "\n",
       "   dayofweek   os  \n",
       "0          4  9.1  \n",
       "1          4  8.1  \n",
       "2          2  8.4  \n",
       "3          6  9.2  \n",
       "4          6  9.2  "
      ]
     },
     "execution_count": 35,
     "metadata": {},
     "output_type": "execute_result"
    }
   ],
   "source": [
    "users.head()"
   ]
  },
  {
   "cell_type": "markdown",
   "id": "c2257b64",
   "metadata": {},
   "source": [
    "## Aggregate session table"
   ]
  },
  {
   "cell_type": "code",
   "execution_count": 36,
   "id": "8399a843",
   "metadata": {
    "ExecuteTime": {
     "end_time": "2021-09-03T21:56:59.356666Z",
     "start_time": "2021-09-03T21:56:56.870756Z"
    }
   },
   "outputs": [],
   "source": [
    "grouped1=sessions[['date','user_id']].groupby('user_id').min().reset_index()\n",
    "grouped2=sessions[['count','user_id']].groupby('user_id').sum().reset_index()\n",
    "grouped3=sessions[['date','user_id']].groupby('user_id').max().reset_index()\n",
    "grouped4=sessions.groupby(['user_id'])['session_num'].apply(lambda x: x.value_counts().index[0]).reset_index()\n",
    "groupedsession=pd.merge(left=grouped1,right=grouped2,how='left',on='user_id')\n",
    "groupedsession=pd.merge(left=groupedsession, right=grouped3,how='left',on='user_id')\n",
    "groupedsession=pd.merge(left=groupedsession, right=grouped4,how='left',on='user_id')\n",
    "groupedsession.columns=['user_id','first_session_date','total_session_count','last_session_date','most_session_played']"
   ]
  },
  {
   "cell_type": "code",
   "execution_count": 37,
   "id": "7ef3f6bd",
   "metadata": {
    "ExecuteTime": {
     "end_time": "2021-09-03T21:56:59.367472Z",
     "start_time": "2021-09-03T21:56:59.358590Z"
    }
   },
   "outputs": [],
   "source": [
    "groupedsession['session_date_diff']=(groupedsession['last_session_date']-groupedsession['first_session_date']).dt.days"
   ]
  },
  {
   "cell_type": "code",
   "execution_count": 38,
   "id": "f119e657",
   "metadata": {
    "ExecuteTime": {
     "end_time": "2021-09-03T21:56:59.393915Z",
     "start_time": "2021-09-03T21:56:59.371720Z"
    }
   },
   "outputs": [
    {
     "data": {
      "text/html": [
       "<div>\n",
       "<style scoped>\n",
       "    .dataframe tbody tr th:only-of-type {\n",
       "        vertical-align: middle;\n",
       "    }\n",
       "\n",
       "    .dataframe tbody tr th {\n",
       "        vertical-align: top;\n",
       "    }\n",
       "\n",
       "    .dataframe thead th {\n",
       "        text-align: right;\n",
       "    }\n",
       "</style>\n",
       "<table border=\"1\" class=\"dataframe\">\n",
       "  <thead>\n",
       "    <tr style=\"text-align: right;\">\n",
       "      <th></th>\n",
       "      <th>user_id</th>\n",
       "      <th>first_session_date</th>\n",
       "      <th>total_session_count</th>\n",
       "      <th>last_session_date</th>\n",
       "      <th>most_session_played</th>\n",
       "      <th>session_date_diff</th>\n",
       "    </tr>\n",
       "  </thead>\n",
       "  <tbody>\n",
       "    <tr>\n",
       "      <th>0</th>\n",
       "      <td>0</td>\n",
       "      <td>2019-03-01</td>\n",
       "      <td>12</td>\n",
       "      <td>2019-03-05</td>\n",
       "      <td>1</td>\n",
       "      <td>4</td>\n",
       "    </tr>\n",
       "    <tr>\n",
       "      <th>1</th>\n",
       "      <td>1</td>\n",
       "      <td>2019-03-01</td>\n",
       "      <td>34</td>\n",
       "      <td>2019-03-23</td>\n",
       "      <td>12</td>\n",
       "      <td>22</td>\n",
       "    </tr>\n",
       "    <tr>\n",
       "      <th>2</th>\n",
       "      <td>2</td>\n",
       "      <td>2019-03-06</td>\n",
       "      <td>39</td>\n",
       "      <td>2019-04-30</td>\n",
       "      <td>10</td>\n",
       "      <td>55</td>\n",
       "    </tr>\n",
       "    <tr>\n",
       "      <th>3</th>\n",
       "      <td>3</td>\n",
       "      <td>2019-03-03</td>\n",
       "      <td>3</td>\n",
       "      <td>2019-03-03</td>\n",
       "      <td>1</td>\n",
       "      <td>0</td>\n",
       "    </tr>\n",
       "    <tr>\n",
       "      <th>4</th>\n",
       "      <td>4</td>\n",
       "      <td>2019-03-03</td>\n",
       "      <td>3</td>\n",
       "      <td>2019-03-06</td>\n",
       "      <td>1</td>\n",
       "      <td>3</td>\n",
       "    </tr>\n",
       "  </tbody>\n",
       "</table>\n",
       "</div>"
      ],
      "text/plain": [
       "   user_id first_session_date  total_session_count last_session_date  \\\n",
       "0        0         2019-03-01                   12        2019-03-05   \n",
       "1        1         2019-03-01                   34        2019-03-23   \n",
       "2        2         2019-03-06                   39        2019-04-30   \n",
       "3        3         2019-03-03                    3        2019-03-03   \n",
       "4        4         2019-03-03                    3        2019-03-06   \n",
       "\n",
       "   most_session_played  session_date_diff  \n",
       "0                    1                  4  \n",
       "1                   12                 22  \n",
       "2                   10                 55  \n",
       "3                    1                  0  \n",
       "4                    1                  3  "
      ]
     },
     "execution_count": 38,
     "metadata": {},
     "output_type": "execute_result"
    }
   ],
   "source": [
    "groupedsession.head()"
   ]
  },
  {
   "cell_type": "markdown",
   "id": "9341fe66",
   "metadata": {},
   "source": [
    "## Cleaning iaps table"
   ]
  },
  {
   "cell_type": "markdown",
   "id": "9c0344d7",
   "metadata": {},
   "source": [
    "### Visualization of Date Feature"
   ]
  },
  {
   "cell_type": "markdown",
   "id": "49d0f47c",
   "metadata": {
    "ExecuteTime": {
     "end_time": "2021-08-30T18:01:14.180658Z",
     "start_time": "2021-08-30T18:01:14.163153Z"
    }
   },
   "source": [
    "Before aggregate, we can also look at the visulization of what iaps table looks like"
   ]
  },
  {
   "cell_type": "code",
   "execution_count": 39,
   "id": "455f3f7f",
   "metadata": {
    "ExecuteTime": {
     "end_time": "2021-09-03T21:56:59.446086Z",
     "start_time": "2021-09-03T21:56:59.395175Z"
    }
   },
   "outputs": [],
   "source": [
    "iaps['dayofweek']=iaps['date'].apply(lambda x:x.dayofweek)\n",
    "iaps['month']=iaps['date'].apply(lambda x:x.month)\n",
    "iaps['day']=iaps['date'].apply(lambda x:x.day)"
   ]
  },
  {
   "cell_type": "code",
   "execution_count": 40,
   "id": "c217f07c",
   "metadata": {
    "ExecuteTime": {
     "end_time": "2021-09-03T21:56:59.906416Z",
     "start_time": "2021-09-03T21:56:59.446996Z"
    }
   },
   "outputs": [
    {
     "data": {
      "image/png": "[encoded data removed]",
      "text/plain": [
       "<Figure size 1080x864 with 3 Axes>"
      ]
     },
     "metadata": {},
     "output_type": "display_data"
    }
   ],
   "source": [
    "sns.set_style(\"whitegrid\")\n",
    "sns.set_palette(sns.color_palette(\"Paired\"))\n",
    "\n",
    "fig, ax=plt.subplots(nrows=3,ncols=1,figsize=(15,12))\n",
    "sns.countplot(x='dayofweek', data=iaps,ax=ax[0])\n",
    "ax[0].set_xticklabels(['Monday','Tuesday','Wednesday','Thursday','Friday','Staturday','Sunday'])\n",
    "ax[0].set_title('Purchase Count Plot of Week Day', fontsize=14)\n",
    "\n",
    "sns.countplot(x='month',data=iaps,ax=ax[1])\n",
    "ax[1].set_title('Purchase Count Plot of Month', fontsize=14)\n",
    "\n",
    "sns.countplot(x='day',data=iaps,ax=ax[2])\n",
    "ax[2].set_title('Purchase Count Plot of Day', fontsize=14)\n",
    "\n",
    "plt.tight_layout()\n",
    "plt.show()"
   ]
  },
  {
   "cell_type": "code",
   "execution_count": 41,
   "id": "30efef4e",
   "metadata": {
    "ExecuteTime": {
     "end_time": "2021-09-03T21:57:00.114718Z",
     "start_time": "2021-09-03T21:56:59.907389Z"
    }
   },
   "outputs": [
    {
     "data": {
      "image/png": "[encoded data removed]",
      "text/plain": [
       "<Figure size 1080x720 with 2 Axes>"
      ]
     },
     "metadata": {},
     "output_type": "display_data"
    }
   ],
   "source": [
    "fig, ax=plt.subplots(nrows=2,ncols=1,figsize=(15,10))\n",
    "sns.countplot(x='prod_type',data=iaps,ax=ax[0])\n",
    "ax[0].set_title('Count plot of product type for different purchase',fontsize=14)\n",
    "\n",
    "sns.countplot(x='prod_name',data=iaps,ax=ax[1],\n",
    "              order=iaps.prod_name.value_counts().iloc[:10].index)\n",
    "ax[1].set_title('Top 10 Count plot of product name for different purchase',\n",
    "                fontsize=14)\n",
    "\n",
    "\n",
    "plt.tight_layout()\n",
    "plt.show()"
   ]
  },
  {
   "cell_type": "markdown",
   "id": "c1152868",
   "metadata": {},
   "source": [
    "Gems are the most bought product and ipap_1_gem_2 is the most popular product name"
   ]
  },
  {
   "cell_type": "markdown",
   "id": "18cd788a",
   "metadata": {},
   "source": [
    "### Table Aggregating"
   ]
  },
  {
   "cell_type": "code",
   "execution_count": 42,
   "id": "4531b86f",
   "metadata": {
    "ExecuteTime": {
     "end_time": "2021-09-03T21:57:00.121690Z",
     "start_time": "2021-09-03T21:57:00.115647Z"
    }
   },
   "outputs": [
    {
     "data": {
      "text/html": [
       "<div>\n",
       "<style scoped>\n",
       "    .dataframe tbody tr th:only-of-type {\n",
       "        vertical-align: middle;\n",
       "    }\n",
       "\n",
       "    .dataframe tbody tr th {\n",
       "        vertical-align: top;\n",
       "    }\n",
       "\n",
       "    .dataframe thead th {\n",
       "        text-align: right;\n",
       "    }\n",
       "</style>\n",
       "<table border=\"1\" class=\"dataframe\">\n",
       "  <thead>\n",
       "    <tr style=\"text-align: right;\">\n",
       "      <th></th>\n",
       "      <th>user_id</th>\n",
       "      <th>ts</th>\n",
       "      <th>date</th>\n",
       "      <th>prod_name</th>\n",
       "      <th>prod_type</th>\n",
       "      <th>rev</th>\n",
       "      <th>dayofweek</th>\n",
       "      <th>month</th>\n",
       "      <th>day</th>\n",
       "    </tr>\n",
       "  </thead>\n",
       "  <tbody>\n",
       "    <tr>\n",
       "      <th>0</th>\n",
       "      <td>7480</td>\n",
       "      <td>2019-03-04 08:15:49</td>\n",
       "      <td>2019-03-04</td>\n",
       "      <td>iap_1_gems_2</td>\n",
       "      <td>gems</td>\n",
       "      <td>760</td>\n",
       "      <td>0</td>\n",
       "      <td>3</td>\n",
       "      <td>4</td>\n",
       "    </tr>\n",
       "    <tr>\n",
       "      <th>1</th>\n",
       "      <td>7480</td>\n",
       "      <td>2019-03-04 08:24:15</td>\n",
       "      <td>2019-03-04</td>\n",
       "      <td>iap_1_passes_2</td>\n",
       "      <td>chapterPasses</td>\n",
       "      <td>760</td>\n",
       "      <td>0</td>\n",
       "      <td>3</td>\n",
       "      <td>4</td>\n",
       "    </tr>\n",
       "    <tr>\n",
       "      <th>2</th>\n",
       "      <td>7480</td>\n",
       "      <td>2019-03-04 22:49:08</td>\n",
       "      <td>2019-03-04</td>\n",
       "      <td>iap_1_gems_1</td>\n",
       "      <td>gems</td>\n",
       "      <td>410</td>\n",
       "      <td>0</td>\n",
       "      <td>3</td>\n",
       "      <td>4</td>\n",
       "    </tr>\n",
       "    <tr>\n",
       "      <th>3</th>\n",
       "      <td>2466</td>\n",
       "      <td>2019-03-06 00:16:48</td>\n",
       "      <td>2019-03-06</td>\n",
       "      <td>iap_1_gems_2</td>\n",
       "      <td>gems</td>\n",
       "      <td>760</td>\n",
       "      <td>2</td>\n",
       "      <td>3</td>\n",
       "      <td>6</td>\n",
       "    </tr>\n",
       "    <tr>\n",
       "      <th>4</th>\n",
       "      <td>22001</td>\n",
       "      <td>2019-03-06 09:13:45</td>\n",
       "      <td>2019-03-06</td>\n",
       "      <td>iap_1_gems_2</td>\n",
       "      <td>gems</td>\n",
       "      <td>760</td>\n",
       "      <td>2</td>\n",
       "      <td>3</td>\n",
       "      <td>6</td>\n",
       "    </tr>\n",
       "  </tbody>\n",
       "</table>\n",
       "</div>"
      ],
      "text/plain": [
       "   user_id                  ts       date       prod_name      prod_type  rev  \\\n",
       "0     7480 2019-03-04 08:15:49 2019-03-04    iap_1_gems_2           gems  760   \n",
       "1     7480 2019-03-04 08:24:15 2019-03-04  iap_1_passes_2  chapterPasses  760   \n",
       "2     7480 2019-03-04 22:49:08 2019-03-04    iap_1_gems_1           gems  410   \n",
       "3     2466 2019-03-06 00:16:48 2019-03-06    iap_1_gems_2           gems  760   \n",
       "4    22001 2019-03-06 09:13:45 2019-03-06    iap_1_gems_2           gems  760   \n",
       "\n",
       "   dayofweek  month  day  \n",
       "0          0      3    4  \n",
       "1          0      3    4  \n",
       "2          0      3    4  \n",
       "3          2      3    6  \n",
       "4          2      3    6  "
      ]
     },
     "execution_count": 42,
     "metadata": {},
     "output_type": "execute_result"
    }
   ],
   "source": [
    "iaps.head()"
   ]
  },
  {
   "cell_type": "code",
   "execution_count": 43,
   "id": "c3fd8733",
   "metadata": {
    "ExecuteTime": {
     "end_time": "2021-09-03T21:57:00.138520Z",
     "start_time": "2021-09-03T21:57:00.123790Z"
    }
   },
   "outputs": [],
   "source": [
    "grouped1=iaps[['user_id','date']].groupby('user_id').min().reset_index()\n",
    "grouped2=iaps[['user_id','date']].groupby('user_id').count().reset_index()\n",
    "grouped3=iaps[['user_id','date']].groupby('user_id').max().reset_index()\n",
    "grouped4=iaps[['user_id','rev']].groupby('user_id').sum().reset_index()\n",
    "groupediaps=pd.merge(left=grouped1,right=grouped2,how='left',on='user_id')\n",
    "groupediaps=pd.merge(left=groupediaps, right=grouped3,how='left',on='user_id')\n",
    "groupediaps=pd.merge(left=groupediaps, right=grouped4,how='left',on='user_id')\n",
    "groupediaps.columns=['user_id','first_purchase_date','total_num_purchase','last_purchase_date','total_rev']"
   ]
  },
  {
   "cell_type": "code",
   "execution_count": 44,
   "id": "8798b721",
   "metadata": {
    "ExecuteTime": {
     "end_time": "2021-09-03T21:57:00.144798Z",
     "start_time": "2021-09-03T21:57:00.140205Z"
    }
   },
   "outputs": [],
   "source": [
    "groupediaps['purchase_date_diff']=(groupediaps['last_purchase_date']-groupediaps['first_purchase_date']).dt.days\n",
    "groupediaps['rev per purchase']=groupediaps['total_rev']/groupediaps['total_num_purchase']\n",
    "groupediaps['converted']=1"
   ]
  },
  {
   "cell_type": "code",
   "execution_count": 45,
   "id": "c24c19c6",
   "metadata": {
    "ExecuteTime": {
     "end_time": "2021-09-03T21:57:00.150147Z",
     "start_time": "2021-09-03T21:57:00.146076Z"
    }
   },
   "outputs": [
    {
     "data": {
      "text/plain": [
       "Index(['user_id', 'ts', 'date', 'prod_name', 'prod_type', 'rev', 'dayofweek',\n",
       "       'month', 'day'],\n",
       "      dtype='object')"
      ]
     },
     "execution_count": 45,
     "metadata": {},
     "output_type": "execute_result"
    }
   ],
   "source": [
    "#transform the categorical features and aggregate them by users\n",
    "iaps.columns"
   ]
  },
  {
   "cell_type": "code",
   "execution_count": 46,
   "id": "ec0d7071",
   "metadata": {
    "ExecuteTime": {
     "end_time": "2021-09-03T21:57:00.153975Z",
     "start_time": "2021-09-03T21:57:00.152157Z"
    }
   },
   "outputs": [],
   "source": [
    "cate_col=['prod_name','prod_type']"
   ]
  },
  {
   "cell_type": "code",
   "execution_count": 47,
   "id": "dba1c5f6",
   "metadata": {
    "ExecuteTime": {
     "end_time": "2021-09-03T21:57:00.160903Z",
     "start_time": "2021-09-03T21:57:00.154989Z"
    }
   },
   "outputs": [],
   "source": [
    "dummy_df=pd.get_dummies(iaps,columns=cate_col)"
   ]
  },
  {
   "cell_type": "code",
   "execution_count": 48,
   "id": "a8f80811",
   "metadata": {
    "ExecuteTime": {
     "end_time": "2021-09-03T21:57:00.163343Z",
     "start_time": "2021-09-03T21:57:00.161813Z"
    }
   },
   "outputs": [],
   "source": [
    "dummy_feature=dummy_df.columns[7:]"
   ]
  },
  {
   "cell_type": "code",
   "execution_count": 49,
   "id": "36025f03",
   "metadata": {
    "ExecuteTime": {
     "end_time": "2021-09-03T21:57:00.253095Z",
     "start_time": "2021-09-03T21:57:00.164265Z"
    }
   },
   "outputs": [],
   "source": [
    "for col in dummy_feature:\n",
    "    dd=dummy_df[[col,'user_id']].groupby(['user_id']).sum().reset_index()\n",
    "    groupediaps=pd.merge(left=dd,right=groupediaps,how='left',on='user_id')"
   ]
  },
  {
   "cell_type": "code",
   "execution_count": 50,
   "id": "3287d3d7",
   "metadata": {
    "ExecuteTime": {
     "end_time": "2021-09-03T21:57:00.262992Z",
     "start_time": "2021-09-03T21:57:00.254254Z"
    }
   },
   "outputs": [
    {
     "data": {
      "text/html": [
       "<div>\n",
       "<style scoped>\n",
       "    .dataframe tbody tr th:only-of-type {\n",
       "        vertical-align: middle;\n",
       "    }\n",
       "\n",
       "    .dataframe tbody tr th {\n",
       "        vertical-align: top;\n",
       "    }\n",
       "\n",
       "    .dataframe thead th {\n",
       "        text-align: right;\n",
       "    }\n",
       "</style>\n",
       "<table border=\"1\" class=\"dataframe\">\n",
       "  <thead>\n",
       "    <tr style=\"text-align: right;\">\n",
       "      <th></th>\n",
       "      <th>user_id</th>\n",
       "      <th>prod_type_valuePack</th>\n",
       "      <th>prod_type_gems</th>\n",
       "      <th>prod_type_chapterPasses</th>\n",
       "      <th>prod_name_iap_value_pack_010</th>\n",
       "      <th>prod_name_iap_value_pack_009</th>\n",
       "      <th>prod_name_iap_value_pack_008</th>\n",
       "      <th>prod_name_iap_value_pack_007</th>\n",
       "      <th>prod_name_iap_value_pack_005</th>\n",
       "      <th>prod_name_iap_value_pack_004</th>\n",
       "      <th>...</th>\n",
       "      <th>prod_name_iap_1_gems_100</th>\n",
       "      <th>prod_name_iap_1_gems_10</th>\n",
       "      <th>prod_name_iap_1_gems_1</th>\n",
       "      <th>first_purchase_date</th>\n",
       "      <th>total_num_purchase</th>\n",
       "      <th>last_purchase_date</th>\n",
       "      <th>total_rev</th>\n",
       "      <th>purchase_date_diff</th>\n",
       "      <th>rev per purchase</th>\n",
       "      <th>converted</th>\n",
       "    </tr>\n",
       "  </thead>\n",
       "  <tbody>\n",
       "    <tr>\n",
       "      <th>0</th>\n",
       "      <td>2</td>\n",
       "      <td>0</td>\n",
       "      <td>1</td>\n",
       "      <td>0</td>\n",
       "      <td>0</td>\n",
       "      <td>0</td>\n",
       "      <td>0</td>\n",
       "      <td>0</td>\n",
       "      <td>0</td>\n",
       "      <td>0</td>\n",
       "      <td>...</td>\n",
       "      <td>0</td>\n",
       "      <td>0</td>\n",
       "      <td>0</td>\n",
       "      <td>2019-03-07</td>\n",
       "      <td>1</td>\n",
       "      <td>2019-03-07</td>\n",
       "      <td>760</td>\n",
       "      <td>0</td>\n",
       "      <td>760.0</td>\n",
       "      <td>1</td>\n",
       "    </tr>\n",
       "    <tr>\n",
       "      <th>1</th>\n",
       "      <td>21</td>\n",
       "      <td>0</td>\n",
       "      <td>1</td>\n",
       "      <td>2</td>\n",
       "      <td>0</td>\n",
       "      <td>0</td>\n",
       "      <td>0</td>\n",
       "      <td>0</td>\n",
       "      <td>0</td>\n",
       "      <td>0</td>\n",
       "      <td>...</td>\n",
       "      <td>0</td>\n",
       "      <td>0</td>\n",
       "      <td>0</td>\n",
       "      <td>2019-03-09</td>\n",
       "      <td>3</td>\n",
       "      <td>2019-03-10</td>\n",
       "      <td>2280</td>\n",
       "      <td>1</td>\n",
       "      <td>760.0</td>\n",
       "      <td>1</td>\n",
       "    </tr>\n",
       "    <tr>\n",
       "      <th>2</th>\n",
       "      <td>36</td>\n",
       "      <td>0</td>\n",
       "      <td>5</td>\n",
       "      <td>1</td>\n",
       "      <td>0</td>\n",
       "      <td>0</td>\n",
       "      <td>0</td>\n",
       "      <td>0</td>\n",
       "      <td>0</td>\n",
       "      <td>0</td>\n",
       "      <td>...</td>\n",
       "      <td>0</td>\n",
       "      <td>0</td>\n",
       "      <td>3</td>\n",
       "      <td>2019-03-02</td>\n",
       "      <td>6</td>\n",
       "      <td>2019-03-03</td>\n",
       "      <td>4560</td>\n",
       "      <td>1</td>\n",
       "      <td>760.0</td>\n",
       "      <td>1</td>\n",
       "    </tr>\n",
       "  </tbody>\n",
       "</table>\n",
       "<p>3 rows × 30 columns</p>\n",
       "</div>"
      ],
      "text/plain": [
       "   user_id  prod_type_valuePack  prod_type_gems  prod_type_chapterPasses  \\\n",
       "0        2                    0               1                        0   \n",
       "1       21                    0               1                        2   \n",
       "2       36                    0               5                        1   \n",
       "\n",
       "   prod_name_iap_value_pack_010  prod_name_iap_value_pack_009  \\\n",
       "0                             0                             0   \n",
       "1                             0                             0   \n",
       "2                             0                             0   \n",
       "\n",
       "   prod_name_iap_value_pack_008  prod_name_iap_value_pack_007  \\\n",
       "0                             0                             0   \n",
       "1                             0                             0   \n",
       "2                             0                             0   \n",
       "\n",
       "   prod_name_iap_value_pack_005  prod_name_iap_value_pack_004  ...  \\\n",
       "0                             0                             0  ...   \n",
       "1                             0                             0  ...   \n",
       "2                             0                             0  ...   \n",
       "\n",
       "   prod_name_iap_1_gems_100  prod_name_iap_1_gems_10  prod_name_iap_1_gems_1  \\\n",
       "0                         0                        0                       0   \n",
       "1                         0                        0                       0   \n",
       "2                         0                        0                       3   \n",
       "\n",
       "   first_purchase_date  total_num_purchase  last_purchase_date  total_rev  \\\n",
       "0           2019-03-07                   1          2019-03-07        760   \n",
       "1           2019-03-09                   3          2019-03-10       2280   \n",
       "2           2019-03-02                   6          2019-03-03       4560   \n",
       "\n",
       "   purchase_date_diff  rev per purchase  converted  \n",
       "0                   0             760.0          1  \n",
       "1                   1             760.0          1  \n",
       "2                   1             760.0          1  \n",
       "\n",
       "[3 rows x 30 columns]"
      ]
     },
     "execution_count": 50,
     "metadata": {},
     "output_type": "execute_result"
    }
   ],
   "source": [
    "groupediaps.head(3)"
   ]
  },
  {
   "cell_type": "code",
   "execution_count": 51,
   "id": "fd48b2e5",
   "metadata": {
    "ExecuteTime": {
     "end_time": "2021-09-03T21:57:00.279002Z",
     "start_time": "2021-09-03T21:57:00.263943Z"
    }
   },
   "outputs": [],
   "source": [
    "#we can also join the users table to look at the demographic information of the converted users\n",
    "iaps_users=pd.merge(left=groupediaps,right=users,how='left',on='user_id')\n",
    "iaps_users['days_to_first_purchase']=(iaps_users['first_purchase_date']-iaps_users['install_date']).dt.days"
   ]
  },
  {
   "cell_type": "code",
   "execution_count": 52,
   "id": "dd22fec3",
   "metadata": {
    "ExecuteTime": {
     "end_time": "2021-09-03T21:57:00.461010Z",
     "start_time": "2021-09-03T21:57:00.280013Z"
    }
   },
   "outputs": [
    {
     "data": {
      "image/png": "[encoded data removed]",
      "text/plain": [
       "<Figure size 1080x720 with 2 Axes>"
      ]
     },
     "metadata": {},
     "output_type": "display_data"
    }
   ],
   "source": [
    "# look at language and country\n",
    "\n",
    "fig, ax=plt.subplots(nrows=2, ncols=1, figsize=(15,10))\n",
    "\n",
    "sns.countplot(x='lang',data=iaps_users,\n",
    "               order=iaps_users.lang.value_counts().iloc[:5].index,ax=ax[0])\n",
    "ax[0].set_title('Top 5 languages of the purchase users',fontsize=14)\n",
    "\n",
    "sns.countplot(x='country',data=iaps_users,\n",
    "              order=iaps_users.country.value_counts().iloc[:5].index,ax=ax[1])\n",
    "ax[1].set_title('Top 5 countries of the purchase users',fontsize=14)\n",
    "\n",
    "plt.tight_layout()\n",
    "plt.show()\n"
   ]
  },
  {
   "cell_type": "code",
   "execution_count": 53,
   "id": "5c72739f",
   "metadata": {
    "ExecuteTime": {
     "end_time": "2021-09-03T21:57:00.466193Z",
     "start_time": "2021-09-03T21:57:00.461991Z"
    }
   },
   "outputs": [
    {
     "data": {
      "text/plain": [
       "en    93.71%\n",
       "de     1.25%\n",
       "nb     0.66%\n",
       "sv     0.59%\n",
       "es     0.59%\n",
       "Name: lang, dtype: object"
      ]
     },
     "execution_count": 53,
     "metadata": {},
     "output_type": "execute_result"
    }
   ],
   "source": [
    "df=iaps_users.lang.value_counts().iloc[:5]/1526\n",
    "df.apply(lambda x: '{:.2f}%'.format(x*100))"
   ]
  },
  {
   "cell_type": "code",
   "execution_count": 54,
   "id": "43c484cb",
   "metadata": {
    "ExecuteTime": {
     "end_time": "2021-09-03T21:57:00.471401Z",
     "start_time": "2021-09-03T21:57:00.467510Z"
    }
   },
   "outputs": [
    {
     "data": {
      "text/plain": [
       "US    68.87%\n",
       "GB    11.53%\n",
       "AU     4.78%\n",
       "CA     4.00%\n",
       "NZ     1.11%\n",
       "Name: country, dtype: object"
      ]
     },
     "execution_count": 54,
     "metadata": {},
     "output_type": "execute_result"
    }
   ],
   "source": [
    "df=iaps_users.country.value_counts().iloc[:5]/1526\n",
    "df.apply(lambda x: '{:.2f}%'.format(x*100))"
   ]
  },
  {
   "cell_type": "markdown",
   "id": "c6f5dbad",
   "metadata": {},
   "source": [
    "There are 1526 unique users who spent money to purchase, more than 90% of them use English in their app and approximately 70% of them are from the US. "
   ]
  },
  {
   "cell_type": "code",
   "execution_count": 55,
   "id": "718a93e2",
   "metadata": {
    "ExecuteTime": {
     "end_time": "2021-09-03T21:57:00.715289Z",
     "start_time": "2021-09-03T21:57:00.472355Z"
    }
   },
   "outputs": [
    {
     "data": {
      "image/png": "[encoded data removed]",
      "text/plain": [
       "<Figure size 1080x720 with 2 Axes>"
      ]
     },
     "metadata": {},
     "output_type": "display_data"
    }
   ],
   "source": [
    "#device and os version\n",
    "fig, ax=plt.subplots(nrows=2, ncols=1, figsize=(15,10))\n",
    "sns.countplot(x='device',data=iaps_users,\n",
    "              ax=ax[0])\n",
    "ax[0].set_title('Device Countplot the purchase users',fontsize=14)\n",
    "\n",
    "sns.countplot(x='os',data=iaps_users,\n",
    "            ax=ax[1])\n",
    "ax[1].set_title('OS version Countplot of the purchase users',fontsize=14)\n",
    "\n",
    "plt.tight_layout()\n",
    "plt.show()"
   ]
  },
  {
   "cell_type": "markdown",
   "id": "6eec70a4",
   "metadata": {},
   "source": [
    "Compare with ipads, most users play game using their iphone, and iphone7, iphone8, iphone6 are the top 3 devices. The majority of the purchase users use ios version 9.2. "
   ]
  },
  {
   "cell_type": "code",
   "execution_count": 56,
   "id": "9383fc16",
   "metadata": {
    "ExecuteTime": {
     "end_time": "2021-09-03T21:57:00.873212Z",
     "start_time": "2021-09-03T21:57:00.716428Z"
    }
   },
   "outputs": [
    {
     "data": {
      "image/png": "[encoded data removed]",
      "text/plain": [
       "<Figure size 1296x432 with 1 Axes>"
      ]
     },
     "metadata": {},
     "output_type": "display_data"
    }
   ],
   "source": [
    "#days tooken for the first purchase\n",
    "hist_kws={'histtype': 'bar', 'edgecolor':'black', 'alpha': 0.2}\n",
    "sns.set_style(\"whitegrid\")\n",
    "sns.set_palette(sns.color_palette(\"Paired\"))\n",
    "\n",
    "\n",
    "fig, ax = plt.subplots(figsize=(18, 6))\n",
    "sns.distplot(iaps_users['days_to_first_purchase'], hist_kws=hist_kws)\n",
    "ax.set_ylabel('Distibution')\n",
    "ax.set_xlabel('Days to first purchase')\n",
    "ax.set_title('Distribution plot of Days to first purchase', fontsize=15)\n",
    "plt.show()\n"
   ]
  },
  {
   "cell_type": "code",
   "execution_count": 57,
   "id": "6a5bed8b",
   "metadata": {
    "ExecuteTime": {
     "end_time": "2021-09-03T21:57:00.876405Z",
     "start_time": "2021-09-03T21:57:00.874176Z"
    }
   },
   "outputs": [
    {
     "name": "stdout",
     "output_type": "stream",
     "text": [
      "averge days took after installation to purchase: 5.0\n",
      "maximum days took after installation to purchase: 60\n"
     ]
    }
   ],
   "source": [
    "print('averge days took after installation to purchase:', round(np.mean(iaps_users['days_to_first_purchase']),0))\n",
    "print('maximum days took after installation to purchase:',np.max(iaps_users['days_to_first_purchase']))"
   ]
  },
  {
   "cell_type": "code",
   "execution_count": 58,
   "id": "1f211efd",
   "metadata": {
    "ExecuteTime": {
     "end_time": "2021-09-03T21:57:00.884308Z",
     "start_time": "2021-09-03T21:57:00.879996Z"
    }
   },
   "outputs": [
    {
     "name": "stdout",
     "output_type": "stream",
     "text": [
      "There are 84.40%  of converted users made their first purchase within 7 days\n",
      "There are 47.44%  of converted users made their first purchase on install day\n"
     ]
    }
   ],
   "source": [
    "\n",
    "iaps_users['days_to_first_purchase'].value_counts()\n",
    "df=iaps_users['days_to_first_purchase'].value_counts()/iaps_users.shape[0]\n",
    "df.apply(lambda x: '{:.2f}%'.format(x*100))\n",
    "print('There are', '{:.2f}% '.format(df[0:7].sum()*100), 'of converted users made their first purchase within 7 days')\n",
    "print('There are', '{:.2f}% '.format(df[0].sum()*100), 'of converted users made their first purchase on install day')"
   ]
  },
  {
   "cell_type": "markdown",
   "id": "608a8f4b",
   "metadata": {},
   "source": [
    "Majority of the purchase are made within one week after the game is installed. "
   ]
  },
  {
   "cell_type": "code",
   "execution_count": 59,
   "id": "696bf106",
   "metadata": {
    "ExecuteTime": {
     "end_time": "2021-09-03T21:57:01.085337Z",
     "start_time": "2021-09-03T21:57:00.885501Z"
    }
   },
   "outputs": [
    {
     "data": {
      "image/png": "[encoded data removed]",
      "text/plain": [
       "<Figure size 1296x432 with 1 Axes>"
      ]
     },
     "metadata": {},
     "output_type": "display_data"
    }
   ],
   "source": [
    "hist_kws={'histtype': 'bar', 'edgecolor':'black', 'alpha': 0.2}\n",
    "sns.set_style(\"whitegrid\")\n",
    "sns.set_palette(sns.color_palette(\"Paired\"))\n",
    "\n",
    "\n",
    "fig, ax = plt.subplots(figsize=(18, 6))\n",
    "sns.distplot(groupediaps['total_rev']/100, hist_kws=hist_kws)\n",
    "ax.set_ylabel('Distibution')\n",
    "ax.set_xlabel('Revenue in dollars')\n",
    "ax.set_title('Distribution plot of User Revenue', fontsize=15)\n",
    "plt.show()"
   ]
  },
  {
   "cell_type": "markdown",
   "id": "9bc4f08b",
   "metadata": {},
   "source": [
    "Majority of the users spend less than 200 dollars in the time given, but there are some big outliers at the right tail"
   ]
  },
  {
   "cell_type": "code",
   "execution_count": 60,
   "id": "7a2c353f",
   "metadata": {
    "ExecuteTime": {
     "end_time": "2021-09-03T21:57:01.089499Z",
     "start_time": "2021-09-03T21:57:01.086500Z"
    }
   },
   "outputs": [
    {
     "name": "stdout",
     "output_type": "stream",
     "text": [
      "User average spending: 49.51 dollars\n",
      "User minimum spending: 4.1 dollars\n",
      "User maximum spending: 774.1 dollars\n"
     ]
    }
   ],
   "source": [
    "print('User average spending:',round(np.mean(groupediaps['total_rev'])/100,2),'dollars')\n",
    "print('User minimum spending:',round(np.min(groupediaps['total_rev'])/100,2),'dollars')\n",
    "print('User maximum spending:',round(np.max(groupediaps['total_rev'])/100,2),'dollars')"
   ]
  },
  {
   "cell_type": "code",
   "execution_count": 61,
   "id": "d12f3409",
   "metadata": {
    "ExecuteTime": {
     "end_time": "2021-09-03T21:57:01.288855Z",
     "start_time": "2021-09-03T21:57:01.142689Z"
    }
   },
   "outputs": [
    {
     "data": {
      "image/png": "[encoded data removed]",
      "text/plain": [
       "<Figure size 1296x432 with 1 Axes>"
      ]
     },
     "metadata": {},
     "output_type": "display_data"
    }
   ],
   "source": [
    "hist_kws={'histtype': 'bar', 'edgecolor':'black', 'alpha': 0.2}\n",
    "sns.set_style(\"whitegrid\")\n",
    "sns.set_palette(sns.color_palette(\"Paired\"))\n",
    "\n",
    "\n",
    "fig, ax = plt.subplots(figsize=(18, 6))\n",
    "sns.distplot(groupediaps['total_num_purchase'], hist_kws=hist_kws)\n",
    "ax.set_ylabel('Distibution')\n",
    "ax.set_xlabel('Number of purchase')\n",
    "ax.set_title('Distribution plot of User number number of purchase', fontsize=15)\n",
    "plt.show()"
   ]
  },
  {
   "cell_type": "markdown",
   "id": "0f98e923",
   "metadata": {},
   "source": [
    "Majority of the users have less than 10 of total number purchases, but still there are outliers at the right tail and the distribution is right skewed. "
   ]
  },
  {
   "cell_type": "code",
   "execution_count": 62,
   "id": "3595b9e0",
   "metadata": {
    "ExecuteTime": {
     "end_time": "2021-09-03T21:57:02.054446Z",
     "start_time": "2021-09-03T21:57:02.048795Z"
    }
   },
   "outputs": [
    {
     "name": "stdout",
     "output_type": "stream",
     "text": [
      "User average number of purchase: 4.0\n",
      "User minimum number of purchase: 1\n",
      "User maximum number of purchase: 106\n"
     ]
    }
   ],
   "source": [
    "print('User average number of purchase:',round(np.mean(groupediaps['total_num_purchase']),0))\n",
    "print('User minimum number of purchase:',np.min(groupediaps['total_num_purchase']))\n",
    "print('User maximum number of purchase:',np.max(groupediaps['total_num_purchase']))"
   ]
  },
  {
   "cell_type": "code",
   "execution_count": 63,
   "id": "40e29330",
   "metadata": {
    "ExecuteTime": {
     "end_time": "2021-09-03T21:57:02.492930Z",
     "start_time": "2021-09-03T21:57:02.482680Z"
    }
   },
   "outputs": [
    {
     "name": "stdout",
     "output_type": "stream",
     "text": [
      "There are 91.68%  of converted users spent less than 10 times\n",
      "There are 32.37%  of converted users spent only once\n"
     ]
    }
   ],
   "source": [
    "df=groupediaps['total_num_purchase'].value_counts()/groupediaps.shape[0]\n",
    "df.apply(lambda x: '{:.2f}%'.format(x*100))\n",
    "print('There are', '{:.2f}% '.format(df[0:10].sum()*100), 'of converted users spent less than 10 times')\n",
    "print('There are', '{:.2f}% '.format(df[0:1].sum()*100), 'of converted users spent only once')"
   ]
  },
  {
   "cell_type": "code",
   "execution_count": 64,
   "id": "31c7d31f",
   "metadata": {
    "ExecuteTime": {
     "end_time": "2021-09-03T21:57:03.677092Z",
     "start_time": "2021-09-03T21:57:03.669888Z"
    }
   },
   "outputs": [
    {
     "data": {
      "text/plain": [
       "(1526, 30)"
      ]
     },
     "execution_count": 64,
     "metadata": {},
     "output_type": "execute_result"
    }
   ],
   "source": [
    "groupediaps.shape"
   ]
  },
  {
   "cell_type": "code",
   "execution_count": 65,
   "id": "beb1b0a5",
   "metadata": {
    "ExecuteTime": {
     "end_time": "2021-09-03T21:57:04.404027Z",
     "start_time": "2021-09-03T21:57:04.378775Z"
    }
   },
   "outputs": [],
   "source": [
    "iaps_sessions=pd.merge(left=groupediaps,right=groupedsession,how='left',on='user_id')"
   ]
  },
  {
   "cell_type": "code",
   "execution_count": 66,
   "id": "fd1ee134",
   "metadata": {
    "ExecuteTime": {
     "end_time": "2021-09-03T21:57:04.713357Z",
     "start_time": "2021-09-03T21:57:04.686481Z"
    }
   },
   "outputs": [
    {
     "data": {
      "text/html": [
       "<div>\n",
       "<style scoped>\n",
       "    .dataframe tbody tr th:only-of-type {\n",
       "        vertical-align: middle;\n",
       "    }\n",
       "\n",
       "    .dataframe tbody tr th {\n",
       "        vertical-align: top;\n",
       "    }\n",
       "\n",
       "    .dataframe thead th {\n",
       "        text-align: right;\n",
       "    }\n",
       "</style>\n",
       "<table border=\"1\" class=\"dataframe\">\n",
       "  <thead>\n",
       "    <tr style=\"text-align: right;\">\n",
       "      <th></th>\n",
       "      <th>user_id</th>\n",
       "      <th>prod_type_valuePack</th>\n",
       "      <th>prod_type_gems</th>\n",
       "      <th>prod_type_chapterPasses</th>\n",
       "      <th>prod_name_iap_value_pack_010</th>\n",
       "      <th>prod_name_iap_value_pack_009</th>\n",
       "      <th>prod_name_iap_value_pack_008</th>\n",
       "      <th>prod_name_iap_value_pack_007</th>\n",
       "      <th>prod_name_iap_value_pack_005</th>\n",
       "      <th>prod_name_iap_value_pack_004</th>\n",
       "      <th>...</th>\n",
       "      <th>last_purchase_date</th>\n",
       "      <th>total_rev</th>\n",
       "      <th>purchase_date_diff</th>\n",
       "      <th>rev per purchase</th>\n",
       "      <th>converted</th>\n",
       "      <th>first_session_date</th>\n",
       "      <th>total_session_count</th>\n",
       "      <th>last_session_date</th>\n",
       "      <th>most_session_played</th>\n",
       "      <th>session_date_diff</th>\n",
       "    </tr>\n",
       "  </thead>\n",
       "  <tbody>\n",
       "    <tr>\n",
       "      <th>0</th>\n",
       "      <td>2</td>\n",
       "      <td>0</td>\n",
       "      <td>1</td>\n",
       "      <td>0</td>\n",
       "      <td>0</td>\n",
       "      <td>0</td>\n",
       "      <td>0</td>\n",
       "      <td>0</td>\n",
       "      <td>0</td>\n",
       "      <td>0</td>\n",
       "      <td>...</td>\n",
       "      <td>2019-03-07</td>\n",
       "      <td>760</td>\n",
       "      <td>0</td>\n",
       "      <td>760.0</td>\n",
       "      <td>1</td>\n",
       "      <td>2019-03-06</td>\n",
       "      <td>39</td>\n",
       "      <td>2019-04-30</td>\n",
       "      <td>10</td>\n",
       "      <td>55</td>\n",
       "    </tr>\n",
       "    <tr>\n",
       "      <th>1</th>\n",
       "      <td>21</td>\n",
       "      <td>0</td>\n",
       "      <td>1</td>\n",
       "      <td>2</td>\n",
       "      <td>0</td>\n",
       "      <td>0</td>\n",
       "      <td>0</td>\n",
       "      <td>0</td>\n",
       "      <td>0</td>\n",
       "      <td>0</td>\n",
       "      <td>...</td>\n",
       "      <td>2019-03-10</td>\n",
       "      <td>2280</td>\n",
       "      <td>1</td>\n",
       "      <td>760.0</td>\n",
       "      <td>1</td>\n",
       "      <td>2019-03-07</td>\n",
       "      <td>74</td>\n",
       "      <td>2019-04-11</td>\n",
       "      <td>61</td>\n",
       "      <td>35</td>\n",
       "    </tr>\n",
       "    <tr>\n",
       "      <th>2</th>\n",
       "      <td>36</td>\n",
       "      <td>0</td>\n",
       "      <td>5</td>\n",
       "      <td>1</td>\n",
       "      <td>0</td>\n",
       "      <td>0</td>\n",
       "      <td>0</td>\n",
       "      <td>0</td>\n",
       "      <td>0</td>\n",
       "      <td>0</td>\n",
       "      <td>...</td>\n",
       "      <td>2019-03-03</td>\n",
       "      <td>4560</td>\n",
       "      <td>1</td>\n",
       "      <td>760.0</td>\n",
       "      <td>1</td>\n",
       "      <td>2019-03-02</td>\n",
       "      <td>21</td>\n",
       "      <td>2019-03-13</td>\n",
       "      <td>18</td>\n",
       "      <td>11</td>\n",
       "    </tr>\n",
       "    <tr>\n",
       "      <th>3</th>\n",
       "      <td>51</td>\n",
       "      <td>0</td>\n",
       "      <td>7</td>\n",
       "      <td>3</td>\n",
       "      <td>0</td>\n",
       "      <td>0</td>\n",
       "      <td>0</td>\n",
       "      <td>0</td>\n",
       "      <td>0</td>\n",
       "      <td>0</td>\n",
       "      <td>...</td>\n",
       "      <td>2019-04-13</td>\n",
       "      <td>6550</td>\n",
       "      <td>42</td>\n",
       "      <td>655.0</td>\n",
       "      <td>1</td>\n",
       "      <td>2019-03-02</td>\n",
       "      <td>226</td>\n",
       "      <td>2019-04-29</td>\n",
       "      <td>117</td>\n",
       "      <td>58</td>\n",
       "    </tr>\n",
       "    <tr>\n",
       "      <th>4</th>\n",
       "      <td>85</td>\n",
       "      <td>0</td>\n",
       "      <td>1</td>\n",
       "      <td>0</td>\n",
       "      <td>0</td>\n",
       "      <td>0</td>\n",
       "      <td>0</td>\n",
       "      <td>0</td>\n",
       "      <td>0</td>\n",
       "      <td>0</td>\n",
       "      <td>...</td>\n",
       "      <td>2019-04-17</td>\n",
       "      <td>760</td>\n",
       "      <td>0</td>\n",
       "      <td>760.0</td>\n",
       "      <td>1</td>\n",
       "      <td>2019-03-07</td>\n",
       "      <td>13</td>\n",
       "      <td>2019-04-17</td>\n",
       "      <td>1</td>\n",
       "      <td>41</td>\n",
       "    </tr>\n",
       "  </tbody>\n",
       "</table>\n",
       "<p>5 rows × 35 columns</p>\n",
       "</div>"
      ],
      "text/plain": [
       "   user_id  prod_type_valuePack  prod_type_gems  prod_type_chapterPasses  \\\n",
       "0        2                    0               1                        0   \n",
       "1       21                    0               1                        2   \n",
       "2       36                    0               5                        1   \n",
       "3       51                    0               7                        3   \n",
       "4       85                    0               1                        0   \n",
       "\n",
       "   prod_name_iap_value_pack_010  prod_name_iap_value_pack_009  \\\n",
       "0                             0                             0   \n",
       "1                             0                             0   \n",
       "2                             0                             0   \n",
       "3                             0                             0   \n",
       "4                             0                             0   \n",
       "\n",
       "   prod_name_iap_value_pack_008  prod_name_iap_value_pack_007  \\\n",
       "0                             0                             0   \n",
       "1                             0                             0   \n",
       "2                             0                             0   \n",
       "3                             0                             0   \n",
       "4                             0                             0   \n",
       "\n",
       "   prod_name_iap_value_pack_005  prod_name_iap_value_pack_004  ...  \\\n",
       "0                             0                             0  ...   \n",
       "1                             0                             0  ...   \n",
       "2                             0                             0  ...   \n",
       "3                             0                             0  ...   \n",
       "4                             0                             0  ...   \n",
       "\n",
       "   last_purchase_date  total_rev  purchase_date_diff  rev per purchase  \\\n",
       "0          2019-03-07        760                   0             760.0   \n",
       "1          2019-03-10       2280                   1             760.0   \n",
       "2          2019-03-03       4560                   1             760.0   \n",
       "3          2019-04-13       6550                  42             655.0   \n",
       "4          2019-04-17        760                   0             760.0   \n",
       "\n",
       "   converted  first_session_date  total_session_count  last_session_date  \\\n",
       "0          1          2019-03-06                   39         2019-04-30   \n",
       "1          1          2019-03-07                   74         2019-04-11   \n",
       "2          1          2019-03-02                   21         2019-03-13   \n",
       "3          1          2019-03-02                  226         2019-04-29   \n",
       "4          1          2019-03-07                   13         2019-04-17   \n",
       "\n",
       "   most_session_played  session_date_diff  \n",
       "0                   10                 55  \n",
       "1                   61                 35  \n",
       "2                   18                 11  \n",
       "3                  117                 58  \n",
       "4                    1                 41  \n",
       "\n",
       "[5 rows x 35 columns]"
      ]
     },
     "execution_count": 66,
     "metadata": {},
     "output_type": "execute_result"
    }
   ],
   "source": [
    "iaps_sessions.head()"
   ]
  },
  {
   "cell_type": "code",
   "execution_count": 67,
   "id": "c6269731",
   "metadata": {
    "ExecuteTime": {
     "end_time": "2021-09-03T21:57:05.698819Z",
     "start_time": "2021-09-03T21:57:05.532840Z"
    }
   },
   "outputs": [
    {
     "data": {
      "image/png": "[encoded data removed]",
      "text/plain": [
       "<Figure size 1296x432 with 1 Axes>"
      ]
     },
     "metadata": {},
     "output_type": "display_data"
    }
   ],
   "source": [
    "hist_kws={'histtype': 'bar', 'edgecolor':'black', 'alpha': 0.2}\n",
    "sns.set_style(\"whitegrid\")\n",
    "sns.set_palette(sns.color_palette(\"Paired\"))\n",
    "\n",
    "\n",
    "fig, ax = plt.subplots(figsize=(18, 6))\n",
    "sns.distplot(iaps_sessions['total_session_count'], hist_kws=hist_kws)\n",
    "ax.set_ylabel('Distibution')\n",
    "ax.set_xlabel('Number of session')\n",
    "ax.set_title('Distribution plot of number of session played', fontsize=15)\n",
    "plt.show()"
   ]
  },
  {
   "cell_type": "code",
   "execution_count": 68,
   "id": "dd46754e",
   "metadata": {
    "ExecuteTime": {
     "end_time": "2021-09-03T21:57:05.941095Z",
     "start_time": "2021-09-03T21:57:05.933558Z"
    }
   },
   "outputs": [
    {
     "name": "stdout",
     "output_type": "stream",
     "text": [
      "The converted users played 86.0 sessions on average.\n"
     ]
    }
   ],
   "source": [
    "print('The converted users played', round(np.mean(iaps_sessions['total_session_count']),0), 'sessions on average.')\n"
   ]
  },
  {
   "cell_type": "code",
   "execution_count": 69,
   "id": "81245c9a",
   "metadata": {
    "ExecuteTime": {
     "end_time": "2021-09-03T21:57:06.676919Z",
     "start_time": "2021-09-03T21:57:06.567344Z"
    }
   },
   "outputs": [
    {
     "data": {
      "image/png": "[encoded data removed]",
      "text/plain": [
       "<Figure size 864x576 with 1 Axes>"
      ]
     },
     "metadata": {},
     "output_type": "display_data"
    }
   ],
   "source": [
    "fig, ax=plt.subplots( figsize=(12,8))\n",
    "\n",
    "sns.countplot(x='most_session_played',data=iaps_sessions,\n",
    "               order=iaps_sessions.most_session_played.value_counts().iloc[:5].index)\n",
    "ax.set_title('Top 5 sessions played of the converted users',fontsize=14)\n",
    "\n",
    "\n",
    "plt.show()\n"
   ]
  },
  {
   "cell_type": "markdown",
   "id": "88d05bde",
   "metadata": {},
   "source": [
    "Sessions 1 is the most played sessions for the converted users"
   ]
  },
  {
   "cell_type": "markdown",
   "id": "7f91b168",
   "metadata": {},
   "source": [
    "## Aggregate Spendevents table"
   ]
  },
  {
   "cell_type": "code",
   "execution_count": 70,
   "id": "717a7e34",
   "metadata": {
    "ExecuteTime": {
     "end_time": "2021-09-03T21:57:08.231387Z",
     "start_time": "2021-09-03T21:57:08.211769Z"
    }
   },
   "outputs": [
    {
     "data": {
      "text/html": [
       "<div>\n",
       "<style scoped>\n",
       "    .dataframe tbody tr th:only-of-type {\n",
       "        vertical-align: middle;\n",
       "    }\n",
       "\n",
       "    .dataframe tbody tr th {\n",
       "        vertical-align: top;\n",
       "    }\n",
       "\n",
       "    .dataframe thead th {\n",
       "        text-align: right;\n",
       "    }\n",
       "</style>\n",
       "<table border=\"1\" class=\"dataframe\">\n",
       "  <thead>\n",
       "    <tr style=\"text-align: right;\">\n",
       "      <th></th>\n",
       "      <th>user_id</th>\n",
       "      <th>ts</th>\n",
       "      <th>date</th>\n",
       "      <th>story</th>\n",
       "      <th>chapter</th>\n",
       "      <th>spendtype</th>\n",
       "      <th>currency</th>\n",
       "      <th>amount</th>\n",
       "    </tr>\n",
       "  </thead>\n",
       "  <tbody>\n",
       "    <tr>\n",
       "      <th>0</th>\n",
       "      <td>9829</td>\n",
       "      <td>2019-03-01 03:03:04</td>\n",
       "      <td>2019-03-01</td>\n",
       "      <td>story_1</td>\n",
       "      <td>0</td>\n",
       "      <td>earnGemsCounter</td>\n",
       "      <td>gems</td>\n",
       "      <td>-22</td>\n",
       "    </tr>\n",
       "    <tr>\n",
       "      <th>1</th>\n",
       "      <td>13757</td>\n",
       "      <td>2019-03-01 03:35:53</td>\n",
       "      <td>2019-03-01</td>\n",
       "      <td>story_1</td>\n",
       "      <td>0</td>\n",
       "      <td>earnGemsCounter</td>\n",
       "      <td>gems</td>\n",
       "      <td>-22</td>\n",
       "    </tr>\n",
       "    <tr>\n",
       "      <th>2</th>\n",
       "      <td>13757</td>\n",
       "      <td>2019-03-01 03:52:10</td>\n",
       "      <td>2019-03-01</td>\n",
       "      <td>story_2</td>\n",
       "      <td>0</td>\n",
       "      <td>earnGemsCounter</td>\n",
       "      <td>gems</td>\n",
       "      <td>-22</td>\n",
       "    </tr>\n",
       "    <tr>\n",
       "      <th>3</th>\n",
       "      <td>10009</td>\n",
       "      <td>2019-03-01 04:10:00</td>\n",
       "      <td>2019-03-01</td>\n",
       "      <td>story_1</td>\n",
       "      <td>0</td>\n",
       "      <td>earnGemsCounter</td>\n",
       "      <td>gems</td>\n",
       "      <td>-22</td>\n",
       "    </tr>\n",
       "    <tr>\n",
       "      <th>4</th>\n",
       "      <td>10009</td>\n",
       "      <td>2019-03-01 04:26:46</td>\n",
       "      <td>2019-03-01</td>\n",
       "      <td>story_2</td>\n",
       "      <td>0</td>\n",
       "      <td>earnGemsCounter</td>\n",
       "      <td>gems</td>\n",
       "      <td>-22</td>\n",
       "    </tr>\n",
       "  </tbody>\n",
       "</table>\n",
       "</div>"
      ],
      "text/plain": [
       "   user_id                  ts       date    story  chapter        spendtype  \\\n",
       "0     9829 2019-03-01 03:03:04 2019-03-01  story_1        0  earnGemsCounter   \n",
       "1    13757 2019-03-01 03:35:53 2019-03-01  story_1        0  earnGemsCounter   \n",
       "2    13757 2019-03-01 03:52:10 2019-03-01  story_2        0  earnGemsCounter   \n",
       "3    10009 2019-03-01 04:10:00 2019-03-01  story_1        0  earnGemsCounter   \n",
       "4    10009 2019-03-01 04:26:46 2019-03-01  story_2        0  earnGemsCounter   \n",
       "\n",
       "  currency  amount  \n",
       "0     gems     -22  \n",
       "1     gems     -22  \n",
       "2     gems     -22  \n",
       "3     gems     -22  \n",
       "4     gems     -22  "
      ]
     },
     "execution_count": 70,
     "metadata": {},
     "output_type": "execute_result"
    }
   ],
   "source": [
    "spendevents.head()"
   ]
  },
  {
   "cell_type": "code",
   "execution_count": 71,
   "id": "4dc45e72",
   "metadata": {
    "ExecuteTime": {
     "end_time": "2021-09-03T21:57:08.699280Z",
     "start_time": "2021-09-03T21:57:08.640640Z"
    }
   },
   "outputs": [],
   "source": [
    "grouped1=spendevents[['user_id','date']].groupby('user_id').min().reset_index()\n",
    "grouped2=spendevents[['user_id','date']].groupby('user_id').count().reset_index()\n",
    "grouped3=spendevents[['user_id','date']].groupby('user_id').max().reset_index()\n",
    "grouped4=spendevents[['user_id','amount']].groupby('user_id').sum().reset_index()\n",
    "groupedspend=pd.merge(left=grouped1,right=grouped2,how='left',on='user_id')\n",
    "groupedspend=pd.merge(left=groupedspend, right=grouped3,how='left',on='user_id')\n",
    "groupedspend=pd.merge(left=groupedspend, right=grouped4,how='left',on='user_id')\n",
    "groupedspend.columns=['user_id','first_spend_date','total_num_spend','last_spend_date','total_amount']"
   ]
  },
  {
   "cell_type": "code",
   "execution_count": 72,
   "id": "ee005b8e",
   "metadata": {
    "ExecuteTime": {
     "end_time": "2021-09-03T21:57:09.073255Z",
     "start_time": "2021-09-03T21:57:09.063456Z"
    }
   },
   "outputs": [],
   "source": [
    "groupedspend['spend_date_diff']=(groupedspend['last_spend_date']-groupedspend['first_spend_date']).dt.days"
   ]
  },
  {
   "cell_type": "code",
   "execution_count": 73,
   "id": "e346376b",
   "metadata": {
    "ExecuteTime": {
     "end_time": "2021-09-03T21:57:09.477842Z",
     "start_time": "2021-09-03T21:57:09.464137Z"
    }
   },
   "outputs": [
    {
     "data": {
      "text/html": [
       "<div>\n",
       "<style scoped>\n",
       "    .dataframe tbody tr th:only-of-type {\n",
       "        vertical-align: middle;\n",
       "    }\n",
       "\n",
       "    .dataframe tbody tr th {\n",
       "        vertical-align: top;\n",
       "    }\n",
       "\n",
       "    .dataframe thead th {\n",
       "        text-align: right;\n",
       "    }\n",
       "</style>\n",
       "<table border=\"1\" class=\"dataframe\">\n",
       "  <thead>\n",
       "    <tr style=\"text-align: right;\">\n",
       "      <th></th>\n",
       "      <th>user_id</th>\n",
       "      <th>first_spend_date</th>\n",
       "      <th>total_num_spend</th>\n",
       "      <th>last_spend_date</th>\n",
       "      <th>total_amount</th>\n",
       "      <th>spend_date_diff</th>\n",
       "    </tr>\n",
       "  </thead>\n",
       "  <tbody>\n",
       "    <tr>\n",
       "      <th>0</th>\n",
       "      <td>0</td>\n",
       "      <td>2019-03-01</td>\n",
       "      <td>1</td>\n",
       "      <td>2019-03-01</td>\n",
       "      <td>-22</td>\n",
       "      <td>0</td>\n",
       "    </tr>\n",
       "    <tr>\n",
       "      <th>1</th>\n",
       "      <td>1</td>\n",
       "      <td>2019-03-02</td>\n",
       "      <td>2</td>\n",
       "      <td>2019-03-03</td>\n",
       "      <td>-44</td>\n",
       "      <td>1</td>\n",
       "    </tr>\n",
       "    <tr>\n",
       "      <th>2</th>\n",
       "      <td>2</td>\n",
       "      <td>2019-03-06</td>\n",
       "      <td>7</td>\n",
       "      <td>2019-03-31</td>\n",
       "      <td>-43</td>\n",
       "      <td>25</td>\n",
       "    </tr>\n",
       "    <tr>\n",
       "      <th>3</th>\n",
       "      <td>3</td>\n",
       "      <td>2019-03-03</td>\n",
       "      <td>1</td>\n",
       "      <td>2019-03-03</td>\n",
       "      <td>-22</td>\n",
       "      <td>0</td>\n",
       "    </tr>\n",
       "    <tr>\n",
       "      <th>4</th>\n",
       "      <td>4</td>\n",
       "      <td>2019-03-03</td>\n",
       "      <td>1</td>\n",
       "      <td>2019-03-03</td>\n",
       "      <td>-22</td>\n",
       "      <td>0</td>\n",
       "    </tr>\n",
       "  </tbody>\n",
       "</table>\n",
       "</div>"
      ],
      "text/plain": [
       "   user_id first_spend_date  total_num_spend last_spend_date  total_amount  \\\n",
       "0        0       2019-03-01                1      2019-03-01           -22   \n",
       "1        1       2019-03-02                2      2019-03-03           -44   \n",
       "2        2       2019-03-06                7      2019-03-31           -43   \n",
       "3        3       2019-03-03                1      2019-03-03           -22   \n",
       "4        4       2019-03-03                1      2019-03-03           -22   \n",
       "\n",
       "   spend_date_diff  \n",
       "0                0  \n",
       "1                1  \n",
       "2               25  \n",
       "3                0  \n",
       "4                0  "
      ]
     },
     "execution_count": 73,
     "metadata": {},
     "output_type": "execute_result"
    }
   ],
   "source": [
    "groupedspend.head()"
   ]
  },
  {
   "cell_type": "code",
   "execution_count": 74,
   "id": "a5cfcf90",
   "metadata": {
    "ExecuteTime": {
     "end_time": "2021-09-03T21:57:10.096606Z",
     "start_time": "2021-09-03T21:57:10.090721Z"
    }
   },
   "outputs": [
    {
     "data": {
      "text/plain": [
       "Index(['user_id', 'ts', 'date', 'story', 'chapter', 'spendtype', 'currency',\n",
       "       'amount'],\n",
       "      dtype='object')"
      ]
     },
     "execution_count": 74,
     "metadata": {},
     "output_type": "execute_result"
    }
   ],
   "source": [
    "#transform the categorical features and aggregate them by users\n",
    "spendevents.columns"
   ]
  },
  {
   "cell_type": "code",
   "execution_count": 75,
   "id": "b2f13fd9",
   "metadata": {
    "ExecuteTime": {
     "end_time": "2021-09-03T21:57:10.717372Z",
     "start_time": "2021-09-03T21:57:10.694837Z"
    }
   },
   "outputs": [
    {
     "data": {
      "text/plain": [
       "earnGemsCounter    80.97%\n",
       "premiumChoice      13.14%\n",
       "IAP                 4.60%\n",
       "valuepack           0.04%\n",
       "Name: spendtype, dtype: object"
      ]
     },
     "execution_count": 75,
     "metadata": {},
     "output_type": "execute_result"
    }
   ],
   "source": [
    "df=spendevents['spendtype'].value_counts()/spendevents.shape[0]\n",
    "df.apply(lambda x: '{:.2f}%'.format(x*100))"
   ]
  },
  {
   "cell_type": "code",
   "execution_count": 76,
   "id": "c3249d89",
   "metadata": {
    "ExecuteTime": {
     "end_time": "2021-09-03T21:57:11.849688Z",
     "start_time": "2021-09-03T21:57:11.830672Z"
    }
   },
   "outputs": [
    {
     "data": {
      "text/plain": [
       "1201"
      ]
     },
     "execution_count": 76,
     "metadata": {},
     "output_type": "execute_result"
    }
   ],
   "source": [
    "#for spendevents, there are some missing values for spendtype, and most of them have amount greater than 0, few has \n",
    "#amount 0, for simplicity, just use premiumChoice to fill the missing ones\n",
    "spendevents['spendtype'].isnull().sum()"
   ]
  },
  {
   "cell_type": "code",
   "execution_count": 77,
   "id": "fbe72327",
   "metadata": {
    "ExecuteTime": {
     "end_time": "2021-09-03T21:57:12.319020Z",
     "start_time": "2021-09-03T21:57:12.302649Z"
    }
   },
   "outputs": [],
   "source": [
    "spendevents['spendtype']=spendevents['spendtype'].fillna('premiumChoice')"
   ]
  },
  {
   "cell_type": "code",
   "execution_count": 78,
   "id": "bf828795",
   "metadata": {
    "ExecuteTime": {
     "end_time": "2021-09-03T21:57:13.051874Z",
     "start_time": "2021-09-03T21:57:13.047508Z"
    }
   },
   "outputs": [],
   "source": [
    "cate_col=['story','chapter','spendtype']"
   ]
  },
  {
   "cell_type": "code",
   "execution_count": 79,
   "id": "41ff4276",
   "metadata": {
    "ExecuteTime": {
     "end_time": "2021-09-03T21:57:13.406896Z",
     "start_time": "2021-09-03T21:57:13.380712Z"
    }
   },
   "outputs": [
    {
     "name": "stdout",
     "output_type": "stream",
     "text": [
      "Number of total classes in story: 32\n",
      "Number of total classes in chapter: 30\n",
      "Number of total classes in spendtype: 4\n"
     ]
    }
   ],
   "source": [
    "print('Number of total classes in story:',spendevents['story'].nunique())\n",
    "print('Number of total classes in chapter:',spendevents['chapter'].nunique())\n",
    "print('Number of total classes in spendtype:',spendevents['spendtype'].nunique())"
   ]
  },
  {
   "cell_type": "code",
   "execution_count": 80,
   "id": "8fdb3c05",
   "metadata": {
    "ExecuteTime": {
     "end_time": "2021-09-03T21:57:14.024161Z",
     "start_time": "2021-09-03T21:57:13.948089Z"
    }
   },
   "outputs": [],
   "source": [
    "dummy_df=pd.get_dummies(spendevents,columns=cate_col)"
   ]
  },
  {
   "cell_type": "code",
   "execution_count": 81,
   "id": "4e8c5427",
   "metadata": {
    "ExecuteTime": {
     "end_time": "2021-09-03T21:57:14.748917Z",
     "start_time": "2021-09-03T21:57:14.743005Z"
    }
   },
   "outputs": [
    {
     "data": {
      "text/plain": [
       "Index(['story_story_1', 'story_story_10', 'story_story_11', 'story_story_12',\n",
       "       'story_story_13', 'story_story_14', 'story_story_15', 'story_story_16',\n",
       "       'story_story_17', 'story_story_18', 'story_story_19', 'story_story_2',\n",
       "       'story_story_20', 'story_story_21', 'story_story_22', 'story_story_23',\n",
       "       'story_story_24', 'story_story_25', 'story_story_26', 'story_story_27',\n",
       "       'story_story_28', 'story_story_29', 'story_story_3', 'story_story_30',\n",
       "       'story_story_31', 'story_story_32', 'story_story_4', 'story_story_5',\n",
       "       'story_story_6', 'story_story_7', 'story_story_8', 'story_story_9',\n",
       "       'chapter_0', 'chapter_2', 'chapter_3', 'chapter_4', 'chapter_5',\n",
       "       'chapter_6', 'chapter_7', 'chapter_8', 'chapter_9', 'chapter_10',\n",
       "       'chapter_11', 'chapter_12', 'chapter_13', 'chapter_14', 'chapter_15',\n",
       "       'chapter_16', 'chapter_17', 'chapter_18', 'chapter_19', 'chapter_20',\n",
       "       'chapter_21', 'chapter_22', 'chapter_23', 'chapter_24', 'chapter_25',\n",
       "       'chapter_26', 'chapter_31', 'chapter_32', 'chapter_46', 'chapter_89',\n",
       "       'spendtype_IAP', 'spendtype_earnGemsCounter', 'spendtype_premiumChoice',\n",
       "       'spendtype_valuepack'],\n",
       "      dtype='object')"
      ]
     },
     "execution_count": 81,
     "metadata": {},
     "output_type": "execute_result"
    }
   ],
   "source": [
    "dummy_df.columns[5:]"
   ]
  },
  {
   "cell_type": "code",
   "execution_count": 82,
   "id": "51a516c1",
   "metadata": {
    "ExecuteTime": {
     "end_time": "2021-09-03T21:57:15.269917Z",
     "start_time": "2021-09-03T21:57:15.266781Z"
    }
   },
   "outputs": [],
   "source": [
    "dummy_feature=dummy_df.columns[5:]"
   ]
  },
  {
   "cell_type": "code",
   "execution_count": 83,
   "id": "025e7af6",
   "metadata": {
    "ExecuteTime": {
     "end_time": "2021-09-03T21:57:16.698796Z",
     "start_time": "2021-09-03T21:57:15.942934Z"
    }
   },
   "outputs": [],
   "source": [
    "for col in dummy_feature:\n",
    "    dd=dummy_df[[col,'user_id']].groupby(['user_id']).sum().reset_index()\n",
    "    groupedspend=pd.merge(left=dd,right=groupedspend,how='left',on='user_id')"
   ]
  },
  {
   "cell_type": "code",
   "execution_count": 84,
   "id": "f4032235",
   "metadata": {
    "ExecuteTime": {
     "end_time": "2021-09-03T21:57:16.708044Z",
     "start_time": "2021-09-03T21:57:16.699914Z"
    }
   },
   "outputs": [
    {
     "data": {
      "text/html": [
       "<div>\n",
       "<style scoped>\n",
       "    .dataframe tbody tr th:only-of-type {\n",
       "        vertical-align: middle;\n",
       "    }\n",
       "\n",
       "    .dataframe tbody tr th {\n",
       "        vertical-align: top;\n",
       "    }\n",
       "\n",
       "    .dataframe thead th {\n",
       "        text-align: right;\n",
       "    }\n",
       "</style>\n",
       "<table border=\"1\" class=\"dataframe\">\n",
       "  <thead>\n",
       "    <tr style=\"text-align: right;\">\n",
       "      <th></th>\n",
       "      <th>user_id</th>\n",
       "      <th>spendtype_valuepack</th>\n",
       "      <th>spendtype_premiumChoice</th>\n",
       "      <th>spendtype_earnGemsCounter</th>\n",
       "      <th>spendtype_IAP</th>\n",
       "      <th>chapter_89</th>\n",
       "      <th>chapter_46</th>\n",
       "      <th>chapter_32</th>\n",
       "      <th>chapter_31</th>\n",
       "      <th>chapter_26</th>\n",
       "      <th>...</th>\n",
       "      <th>story_story_13</th>\n",
       "      <th>story_story_12</th>\n",
       "      <th>story_story_11</th>\n",
       "      <th>story_story_10</th>\n",
       "      <th>story_story_1</th>\n",
       "      <th>first_spend_date</th>\n",
       "      <th>total_num_spend</th>\n",
       "      <th>last_spend_date</th>\n",
       "      <th>total_amount</th>\n",
       "      <th>spend_date_diff</th>\n",
       "    </tr>\n",
       "  </thead>\n",
       "  <tbody>\n",
       "    <tr>\n",
       "      <th>0</th>\n",
       "      <td>0</td>\n",
       "      <td>0</td>\n",
       "      <td>0</td>\n",
       "      <td>1</td>\n",
       "      <td>0</td>\n",
       "      <td>0</td>\n",
       "      <td>0</td>\n",
       "      <td>0</td>\n",
       "      <td>0</td>\n",
       "      <td>0</td>\n",
       "      <td>...</td>\n",
       "      <td>0</td>\n",
       "      <td>0</td>\n",
       "      <td>0</td>\n",
       "      <td>0</td>\n",
       "      <td>1</td>\n",
       "      <td>2019-03-01</td>\n",
       "      <td>1</td>\n",
       "      <td>2019-03-01</td>\n",
       "      <td>-22</td>\n",
       "      <td>0</td>\n",
       "    </tr>\n",
       "    <tr>\n",
       "      <th>1</th>\n",
       "      <td>1</td>\n",
       "      <td>0</td>\n",
       "      <td>0</td>\n",
       "      <td>2</td>\n",
       "      <td>0</td>\n",
       "      <td>0</td>\n",
       "      <td>0</td>\n",
       "      <td>0</td>\n",
       "      <td>0</td>\n",
       "      <td>0</td>\n",
       "      <td>...</td>\n",
       "      <td>0</td>\n",
       "      <td>0</td>\n",
       "      <td>0</td>\n",
       "      <td>0</td>\n",
       "      <td>1</td>\n",
       "      <td>2019-03-02</td>\n",
       "      <td>2</td>\n",
       "      <td>2019-03-03</td>\n",
       "      <td>-44</td>\n",
       "      <td>1</td>\n",
       "    </tr>\n",
       "    <tr>\n",
       "      <th>2</th>\n",
       "      <td>2</td>\n",
       "      <td>0</td>\n",
       "      <td>2</td>\n",
       "      <td>4</td>\n",
       "      <td>1</td>\n",
       "      <td>0</td>\n",
       "      <td>0</td>\n",
       "      <td>0</td>\n",
       "      <td>0</td>\n",
       "      <td>0</td>\n",
       "      <td>...</td>\n",
       "      <td>0</td>\n",
       "      <td>0</td>\n",
       "      <td>0</td>\n",
       "      <td>0</td>\n",
       "      <td>4</td>\n",
       "      <td>2019-03-06</td>\n",
       "      <td>7</td>\n",
       "      <td>2019-03-31</td>\n",
       "      <td>-43</td>\n",
       "      <td>25</td>\n",
       "    </tr>\n",
       "    <tr>\n",
       "      <th>3</th>\n",
       "      <td>3</td>\n",
       "      <td>0</td>\n",
       "      <td>0</td>\n",
       "      <td>1</td>\n",
       "      <td>0</td>\n",
       "      <td>0</td>\n",
       "      <td>0</td>\n",
       "      <td>0</td>\n",
       "      <td>0</td>\n",
       "      <td>0</td>\n",
       "      <td>...</td>\n",
       "      <td>0</td>\n",
       "      <td>0</td>\n",
       "      <td>0</td>\n",
       "      <td>0</td>\n",
       "      <td>1</td>\n",
       "      <td>2019-03-03</td>\n",
       "      <td>1</td>\n",
       "      <td>2019-03-03</td>\n",
       "      <td>-22</td>\n",
       "      <td>0</td>\n",
       "    </tr>\n",
       "    <tr>\n",
       "      <th>4</th>\n",
       "      <td>4</td>\n",
       "      <td>0</td>\n",
       "      <td>0</td>\n",
       "      <td>1</td>\n",
       "      <td>0</td>\n",
       "      <td>0</td>\n",
       "      <td>0</td>\n",
       "      <td>0</td>\n",
       "      <td>0</td>\n",
       "      <td>0</td>\n",
       "      <td>...</td>\n",
       "      <td>0</td>\n",
       "      <td>0</td>\n",
       "      <td>0</td>\n",
       "      <td>0</td>\n",
       "      <td>1</td>\n",
       "      <td>2019-03-03</td>\n",
       "      <td>1</td>\n",
       "      <td>2019-03-03</td>\n",
       "      <td>-22</td>\n",
       "      <td>0</td>\n",
       "    </tr>\n",
       "  </tbody>\n",
       "</table>\n",
       "<p>5 rows × 72 columns</p>\n",
       "</div>"
      ],
      "text/plain": [
       "   user_id  spendtype_valuepack  spendtype_premiumChoice  \\\n",
       "0        0                    0                        0   \n",
       "1        1                    0                        0   \n",
       "2        2                    0                        2   \n",
       "3        3                    0                        0   \n",
       "4        4                    0                        0   \n",
       "\n",
       "   spendtype_earnGemsCounter  spendtype_IAP  chapter_89  chapter_46  \\\n",
       "0                          1              0           0           0   \n",
       "1                          2              0           0           0   \n",
       "2                          4              1           0           0   \n",
       "3                          1              0           0           0   \n",
       "4                          1              0           0           0   \n",
       "\n",
       "   chapter_32  chapter_31  chapter_26  ...  story_story_13  story_story_12  \\\n",
       "0           0           0           0  ...               0               0   \n",
       "1           0           0           0  ...               0               0   \n",
       "2           0           0           0  ...               0               0   \n",
       "3           0           0           0  ...               0               0   \n",
       "4           0           0           0  ...               0               0   \n",
       "\n",
       "   story_story_11  story_story_10  story_story_1  first_spend_date  \\\n",
       "0               0               0              1        2019-03-01   \n",
       "1               0               0              1        2019-03-02   \n",
       "2               0               0              4        2019-03-06   \n",
       "3               0               0              1        2019-03-03   \n",
       "4               0               0              1        2019-03-03   \n",
       "\n",
       "   total_num_spend  last_spend_date  total_amount  spend_date_diff  \n",
       "0                1       2019-03-01           -22                0  \n",
       "1                2       2019-03-03           -44                1  \n",
       "2                7       2019-03-31           -43               25  \n",
       "3                1       2019-03-03           -22                0  \n",
       "4                1       2019-03-03           -22                0  \n",
       "\n",
       "[5 rows x 72 columns]"
      ]
     },
     "execution_count": 84,
     "metadata": {},
     "output_type": "execute_result"
    }
   ],
   "source": [
    "groupedspend.head()"
   ]
  },
  {
   "cell_type": "code",
   "execution_count": 85,
   "id": "2b9533f4",
   "metadata": {
    "ExecuteTime": {
     "end_time": "2021-09-03T21:57:17.156554Z",
     "start_time": "2021-09-03T21:57:17.151760Z"
    }
   },
   "outputs": [
    {
     "data": {
      "text/plain": [
       "(18017, 72)"
      ]
     },
     "execution_count": 85,
     "metadata": {},
     "output_type": "execute_result"
    }
   ],
   "source": [
    "groupedspend.shape"
   ]
  },
  {
   "cell_type": "markdown",
   "id": "627edc77",
   "metadata": {},
   "source": [
    "## Combine all tables together"
   ]
  },
  {
   "cell_type": "code",
   "execution_count": 86,
   "id": "d2c2466e",
   "metadata": {
    "ExecuteTime": {
     "end_time": "2021-09-03T21:57:17.609044Z",
     "start_time": "2021-09-03T21:57:17.601374Z"
    }
   },
   "outputs": [
    {
     "data": {
      "text/plain": [
       "((22576, 10), (22544, 6), (1526, 30), (18017, 72))"
      ]
     },
     "execution_count": 86,
     "metadata": {},
     "output_type": "execute_result"
    }
   ],
   "source": [
    "users.shape, groupedsession.shape,groupediaps.shape,groupedspend.shape"
   ]
  },
  {
   "cell_type": "code",
   "execution_count": 87,
   "id": "d02716d7",
   "metadata": {
    "ExecuteTime": {
     "end_time": "2021-09-03T21:57:17.963691Z",
     "start_time": "2021-09-03T21:57:17.951115Z"
    }
   },
   "outputs": [],
   "source": [
    "#drop columns duo to duplicate inforamtion\n",
    "users=users.drop(['hw_ver','os_ver'],axis=1)"
   ]
  },
  {
   "cell_type": "code",
   "execution_count": 88,
   "id": "3a558c5f",
   "metadata": {
    "ExecuteTime": {
     "end_time": "2021-09-03T21:57:18.203468Z",
     "start_time": "2021-09-03T21:57:18.176338Z"
    }
   },
   "outputs": [],
   "source": [
    "full_data=pd.merge(left=users,right=groupedsession, how='left',on='user_id')"
   ]
  },
  {
   "cell_type": "code",
   "execution_count": 89,
   "id": "2e4c0a5c",
   "metadata": {
    "ExecuteTime": {
     "end_time": "2021-09-03T21:57:18.391001Z",
     "start_time": "2021-09-03T21:57:18.379412Z"
    }
   },
   "outputs": [],
   "source": [
    "full_data=full_data.drop(['first_session_date','last_session_date'],axis=1)"
   ]
  },
  {
   "cell_type": "code",
   "execution_count": 90,
   "id": "72a0f601",
   "metadata": {
    "ExecuteTime": {
     "end_time": "2021-09-03T21:57:18.653277Z",
     "start_time": "2021-09-03T21:57:18.611972Z"
    }
   },
   "outputs": [],
   "source": [
    "full_data=pd.merge(left=full_data,right=groupedspend, how='left', on='user_id')"
   ]
  },
  {
   "cell_type": "code",
   "execution_count": 91,
   "id": "2823121a",
   "metadata": {
    "ExecuteTime": {
     "end_time": "2021-09-03T21:57:18.860649Z",
     "start_time": "2021-09-03T21:57:18.837315Z"
    }
   },
   "outputs": [],
   "source": [
    "full_data=full_data.drop(['first_spend_date','last_spend_date'],axis=1)"
   ]
  },
  {
   "cell_type": "code",
   "execution_count": 92,
   "id": "845b6b8a",
   "metadata": {
    "ExecuteTime": {
     "end_time": "2021-09-03T21:57:19.369353Z",
     "start_time": "2021-09-03T21:57:19.339740Z"
    }
   },
   "outputs": [],
   "source": [
    "full_data=pd.merge(left=full_data,right=groupediaps, how='left',on='user_id')"
   ]
  },
  {
   "cell_type": "code",
   "execution_count": 93,
   "id": "7308d9fe",
   "metadata": {
    "ExecuteTime": {
     "end_time": "2021-09-03T21:57:19.432486Z",
     "start_time": "2021-09-03T21:57:19.422196Z"
    }
   },
   "outputs": [],
   "source": [
    "full_data['install_to_first_purchase']=(full_data['first_purchase_date']-full_data['install_date']).dt.days"
   ]
  },
  {
   "cell_type": "code",
   "execution_count": 94,
   "id": "95ecba82",
   "metadata": {
    "ExecuteTime": {
     "end_time": "2021-09-03T21:57:19.542303Z",
     "start_time": "2021-09-03T21:57:19.505298Z"
    }
   },
   "outputs": [],
   "source": [
    "#drop all date informaiton since we have differenced in days\n",
    "full_data=full_data.drop(['install_date','first_purchase_date','last_purchase_date','rev per purchase'],axis=1)"
   ]
  },
  {
   "cell_type": "code",
   "execution_count": 95,
   "id": "845c4240",
   "metadata": {
    "ExecuteTime": {
     "end_time": "2021-09-03T21:57:19.628679Z",
     "start_time": "2021-09-03T21:57:19.596291Z"
    }
   },
   "outputs": [],
   "source": [
    "#fill all the missing values with 0\n",
    "full_data=full_data.fillna(0)"
   ]
  },
  {
   "cell_type": "code",
   "execution_count": 96,
   "id": "506a3e48",
   "metadata": {
    "ExecuteTime": {
     "end_time": "2021-09-03T21:57:19.697839Z",
     "start_time": "2021-09-03T21:57:19.676084Z"
    }
   },
   "outputs": [],
   "source": [
    "full_data['conv']=full_data['converted']\n",
    "full_data.drop(['converted','user_id'],axis=1,inplace=True)"
   ]
  },
  {
   "cell_type": "code",
   "execution_count": 97,
   "id": "fb852dee",
   "metadata": {
    "ExecuteTime": {
     "end_time": "2021-09-03T21:57:20.153884Z",
     "start_time": "2021-09-03T21:57:20.122716Z"
    }
   },
   "outputs": [
    {
     "data": {
      "text/html": [
       "<div>\n",
       "<style scoped>\n",
       "    .dataframe tbody tr th:only-of-type {\n",
       "        vertical-align: middle;\n",
       "    }\n",
       "\n",
       "    .dataframe tbody tr th {\n",
       "        vertical-align: top;\n",
       "    }\n",
       "\n",
       "    .dataframe thead th {\n",
       "        text-align: right;\n",
       "    }\n",
       "</style>\n",
       "<table border=\"1\" class=\"dataframe\">\n",
       "  <thead>\n",
       "    <tr style=\"text-align: right;\">\n",
       "      <th></th>\n",
       "      <th>lang</th>\n",
       "      <th>country</th>\n",
       "      <th>device</th>\n",
       "      <th>version</th>\n",
       "      <th>dayofweek</th>\n",
       "      <th>os</th>\n",
       "      <th>total_session_count</th>\n",
       "      <th>most_session_played</th>\n",
       "      <th>session_date_diff</th>\n",
       "      <th>spendtype_valuepack</th>\n",
       "      <th>...</th>\n",
       "      <th>prod_name_iap_1_gems_20</th>\n",
       "      <th>prod_name_iap_1_gems_2</th>\n",
       "      <th>prod_name_iap_1_gems_100</th>\n",
       "      <th>prod_name_iap_1_gems_10</th>\n",
       "      <th>prod_name_iap_1_gems_1</th>\n",
       "      <th>total_num_purchase</th>\n",
       "      <th>total_rev</th>\n",
       "      <th>purchase_date_diff</th>\n",
       "      <th>install_to_first_purchase</th>\n",
       "      <th>conv</th>\n",
       "    </tr>\n",
       "  </thead>\n",
       "  <tbody>\n",
       "    <tr>\n",
       "      <th>0</th>\n",
       "      <td>en</td>\n",
       "      <td>US</td>\n",
       "      <td>iPhone4</td>\n",
       "      <td>1</td>\n",
       "      <td>4</td>\n",
       "      <td>9.1</td>\n",
       "      <td>12.0</td>\n",
       "      <td>1.0</td>\n",
       "      <td>4.0</td>\n",
       "      <td>0.0</td>\n",
       "      <td>...</td>\n",
       "      <td>0.0</td>\n",
       "      <td>0.0</td>\n",
       "      <td>0.0</td>\n",
       "      <td>0.0</td>\n",
       "      <td>0.0</td>\n",
       "      <td>0.0</td>\n",
       "      <td>0.0</td>\n",
       "      <td>0.0</td>\n",
       "      <td>0.0</td>\n",
       "      <td>0.0</td>\n",
       "    </tr>\n",
       "    <tr>\n",
       "      <th>1</th>\n",
       "      <td>en</td>\n",
       "      <td>IN</td>\n",
       "      <td>iPod5</td>\n",
       "      <td>1</td>\n",
       "      <td>4</td>\n",
       "      <td>8.1</td>\n",
       "      <td>34.0</td>\n",
       "      <td>12.0</td>\n",
       "      <td>22.0</td>\n",
       "      <td>0.0</td>\n",
       "      <td>...</td>\n",
       "      <td>0.0</td>\n",
       "      <td>0.0</td>\n",
       "      <td>0.0</td>\n",
       "      <td>0.0</td>\n",
       "      <td>0.0</td>\n",
       "      <td>0.0</td>\n",
       "      <td>0.0</td>\n",
       "      <td>0.0</td>\n",
       "      <td>0.0</td>\n",
       "      <td>0.0</td>\n",
       "    </tr>\n",
       "    <tr>\n",
       "      <th>2</th>\n",
       "      <td>en</td>\n",
       "      <td>US</td>\n",
       "      <td>iPod7</td>\n",
       "      <td>1</td>\n",
       "      <td>2</td>\n",
       "      <td>8.4</td>\n",
       "      <td>39.0</td>\n",
       "      <td>10.0</td>\n",
       "      <td>55.0</td>\n",
       "      <td>0.0</td>\n",
       "      <td>...</td>\n",
       "      <td>0.0</td>\n",
       "      <td>1.0</td>\n",
       "      <td>0.0</td>\n",
       "      <td>0.0</td>\n",
       "      <td>0.0</td>\n",
       "      <td>1.0</td>\n",
       "      <td>760.0</td>\n",
       "      <td>0.0</td>\n",
       "      <td>1.0</td>\n",
       "      <td>1.0</td>\n",
       "    </tr>\n",
       "    <tr>\n",
       "      <th>3</th>\n",
       "      <td>nb</td>\n",
       "      <td>NO</td>\n",
       "      <td>iPhone8</td>\n",
       "      <td>1</td>\n",
       "      <td>6</td>\n",
       "      <td>9.2</td>\n",
       "      <td>3.0</td>\n",
       "      <td>1.0</td>\n",
       "      <td>0.0</td>\n",
       "      <td>0.0</td>\n",
       "      <td>...</td>\n",
       "      <td>0.0</td>\n",
       "      <td>0.0</td>\n",
       "      <td>0.0</td>\n",
       "      <td>0.0</td>\n",
       "      <td>0.0</td>\n",
       "      <td>0.0</td>\n",
       "      <td>0.0</td>\n",
       "      <td>0.0</td>\n",
       "      <td>0.0</td>\n",
       "      <td>0.0</td>\n",
       "    </tr>\n",
       "    <tr>\n",
       "      <th>4</th>\n",
       "      <td>en</td>\n",
       "      <td>GB</td>\n",
       "      <td>iPhone5</td>\n",
       "      <td>4</td>\n",
       "      <td>6</td>\n",
       "      <td>9.2</td>\n",
       "      <td>3.0</td>\n",
       "      <td>1.0</td>\n",
       "      <td>3.0</td>\n",
       "      <td>0.0</td>\n",
       "      <td>...</td>\n",
       "      <td>0.0</td>\n",
       "      <td>0.0</td>\n",
       "      <td>0.0</td>\n",
       "      <td>0.0</td>\n",
       "      <td>0.0</td>\n",
       "      <td>0.0</td>\n",
       "      <td>0.0</td>\n",
       "      <td>0.0</td>\n",
       "      <td>0.0</td>\n",
       "      <td>0.0</td>\n",
       "    </tr>\n",
       "  </tbody>\n",
       "</table>\n",
       "<p>5 rows × 105 columns</p>\n",
       "</div>"
      ],
      "text/plain": [
       "  lang country   device version  dayofweek   os  total_session_count  \\\n",
       "0   en      US  iPhone4       1          4  9.1                 12.0   \n",
       "1   en      IN    iPod5       1          4  8.1                 34.0   \n",
       "2   en      US    iPod7       1          2  8.4                 39.0   \n",
       "3   nb      NO  iPhone8       1          6  9.2                  3.0   \n",
       "4   en      GB  iPhone5       4          6  9.2                  3.0   \n",
       "\n",
       "   most_session_played  session_date_diff  spendtype_valuepack  ...  \\\n",
       "0                  1.0                4.0                  0.0  ...   \n",
       "1                 12.0               22.0                  0.0  ...   \n",
       "2                 10.0               55.0                  0.0  ...   \n",
       "3                  1.0                0.0                  0.0  ...   \n",
       "4                  1.0                3.0                  0.0  ...   \n",
       "\n",
       "   prod_name_iap_1_gems_20  prod_name_iap_1_gems_2  prod_name_iap_1_gems_100  \\\n",
       "0                      0.0                     0.0                       0.0   \n",
       "1                      0.0                     0.0                       0.0   \n",
       "2                      0.0                     1.0                       0.0   \n",
       "3                      0.0                     0.0                       0.0   \n",
       "4                      0.0                     0.0                       0.0   \n",
       "\n",
       "   prod_name_iap_1_gems_10  prod_name_iap_1_gems_1  total_num_purchase  \\\n",
       "0                      0.0                     0.0                 0.0   \n",
       "1                      0.0                     0.0                 0.0   \n",
       "2                      0.0                     0.0                 1.0   \n",
       "3                      0.0                     0.0                 0.0   \n",
       "4                      0.0                     0.0                 0.0   \n",
       "\n",
       "   total_rev  purchase_date_diff  install_to_first_purchase  conv  \n",
       "0        0.0                 0.0                        0.0   0.0  \n",
       "1        0.0                 0.0                        0.0   0.0  \n",
       "2      760.0                 0.0                        1.0   1.0  \n",
       "3        0.0                 0.0                        0.0   0.0  \n",
       "4        0.0                 0.0                        0.0   0.0  \n",
       "\n",
       "[5 rows x 105 columns]"
      ]
     },
     "execution_count": 97,
     "metadata": {},
     "output_type": "execute_result"
    }
   ],
   "source": [
    "full_data.head()"
   ]
  },
  {
   "cell_type": "code",
   "execution_count": 98,
   "id": "74043bc8",
   "metadata": {
    "ExecuteTime": {
     "end_time": "2021-09-03T21:57:20.488081Z",
     "start_time": "2021-09-03T21:57:20.484098Z"
    }
   },
   "outputs": [],
   "source": [
    "full_data.rename(columns={'conv':'converted'},inplace=True)\n"
   ]
  },
  {
   "cell_type": "code",
   "execution_count": 99,
   "id": "a248afb9",
   "metadata": {
    "ExecuteTime": {
     "end_time": "2021-09-03T21:57:20.830375Z",
     "start_time": "2021-09-03T21:57:20.818107Z"
    }
   },
   "outputs": [
    {
     "data": {
      "text/plain": [
       "0.0    0.932406\n",
       "1.0    0.067594\n",
       "Name: converted, dtype: float64"
      ]
     },
     "execution_count": 99,
     "metadata": {},
     "output_type": "execute_result"
    }
   ],
   "source": [
    "#data is highly imblanced\n",
    "full_data['converted'].value_counts()/full_data.shape[0]"
   ]
  },
  {
   "cell_type": "code",
   "execution_count": 100,
   "id": "ee41b870",
   "metadata": {
    "ExecuteTime": {
     "end_time": "2021-09-03T21:57:21.484237Z",
     "start_time": "2021-09-03T21:57:21.377428Z"
    }
   },
   "outputs": [
    {
     "data": {
      "image/png": "[encoded data removed]",
      "text/plain": [
       "<Figure size 576x432 with 1 Axes>"
      ]
     },
     "metadata": {},
     "output_type": "display_data"
    }
   ],
   "source": [
    "fig,ax=plt.subplots(figsize=(8,6))\n",
    "\n",
    "g=sns.countplot(full_data['converted'])\n",
    "g.set_xticklabels(['Not Converted', 'Converted'])\n",
    "g.set_title('Count Plot of Converted and Non-Converted Users',fontsize=14)\n",
    "g.set_xlabel('')\n",
    "\n",
    "def show_values_on_bars(axs):\n",
    "    def _show_on_single_plot(ax):        \n",
    "        for p in ax.patches:\n",
    "            _x = p.get_x() + p.get_width() / 2\n",
    "            _y = p.get_y() + p.get_height()\n",
    "            value = '{:.0f}'.format(p.get_height())\n",
    "            ax.text(_x, _y, value, ha=\"center\") \n",
    "\n",
    "    if isinstance(axs, np.ndarray):\n",
    "        for idx, ax in np.ndenumerate(axs):\n",
    "            _show_on_single_plot(ax)\n",
    "    else:\n",
    "        _show_on_single_plot(axs)\n",
    "show_values_on_bars(ax)\n",
    "\n",
    "\n",
    "\n",
    "plt.show()"
   ]
  },
  {
   "cell_type": "markdown",
   "id": "9ce775ec",
   "metadata": {},
   "source": [
    "There are three methods that can be used to solve the problems\n",
    "1. Upsampling the converted users\n",
    "2. Use SMOTE to generate more similar points for the purchase users\n",
    "3. Downsampling the unconverted users, which does not work for this datasets due to small number "
   ]
  },
  {
   "cell_type": "markdown",
   "id": "a24560e0",
   "metadata": {},
   "source": [
    "# Building Model "
   ]
  },
  {
   "cell_type": "code",
   "execution_count": 101,
   "id": "fa1859c9",
   "metadata": {
    "ExecuteTime": {
     "end_time": "2021-09-03T21:57:23.437772Z",
     "start_time": "2021-09-03T21:57:23.405318Z"
    }
   },
   "outputs": [
    {
     "data": {
      "text/html": [
       "<div>\n",
       "<style scoped>\n",
       "    .dataframe tbody tr th:only-of-type {\n",
       "        vertical-align: middle;\n",
       "    }\n",
       "\n",
       "    .dataframe tbody tr th {\n",
       "        vertical-align: top;\n",
       "    }\n",
       "\n",
       "    .dataframe thead th {\n",
       "        text-align: right;\n",
       "    }\n",
       "</style>\n",
       "<table border=\"1\" class=\"dataframe\">\n",
       "  <thead>\n",
       "    <tr style=\"text-align: right;\">\n",
       "      <th></th>\n",
       "      <th>lang</th>\n",
       "      <th>country</th>\n",
       "      <th>device</th>\n",
       "      <th>version</th>\n",
       "      <th>dayofweek</th>\n",
       "      <th>os</th>\n",
       "      <th>total_session_count</th>\n",
       "      <th>most_session_played</th>\n",
       "      <th>session_date_diff</th>\n",
       "      <th>spendtype_valuepack</th>\n",
       "      <th>...</th>\n",
       "      <th>prod_name_iap_1_gems_20</th>\n",
       "      <th>prod_name_iap_1_gems_2</th>\n",
       "      <th>prod_name_iap_1_gems_100</th>\n",
       "      <th>prod_name_iap_1_gems_10</th>\n",
       "      <th>prod_name_iap_1_gems_1</th>\n",
       "      <th>total_num_purchase</th>\n",
       "      <th>total_rev</th>\n",
       "      <th>purchase_date_diff</th>\n",
       "      <th>install_to_first_purchase</th>\n",
       "      <th>converted</th>\n",
       "    </tr>\n",
       "  </thead>\n",
       "  <tbody>\n",
       "    <tr>\n",
       "      <th>0</th>\n",
       "      <td>en</td>\n",
       "      <td>US</td>\n",
       "      <td>iPhone4</td>\n",
       "      <td>1</td>\n",
       "      <td>4</td>\n",
       "      <td>9.1</td>\n",
       "      <td>12.0</td>\n",
       "      <td>1.0</td>\n",
       "      <td>4.0</td>\n",
       "      <td>0.0</td>\n",
       "      <td>...</td>\n",
       "      <td>0.0</td>\n",
       "      <td>0.0</td>\n",
       "      <td>0.0</td>\n",
       "      <td>0.0</td>\n",
       "      <td>0.0</td>\n",
       "      <td>0.0</td>\n",
       "      <td>0.0</td>\n",
       "      <td>0.0</td>\n",
       "      <td>0.0</td>\n",
       "      <td>0.0</td>\n",
       "    </tr>\n",
       "    <tr>\n",
       "      <th>1</th>\n",
       "      <td>en</td>\n",
       "      <td>IN</td>\n",
       "      <td>iPod5</td>\n",
       "      <td>1</td>\n",
       "      <td>4</td>\n",
       "      <td>8.1</td>\n",
       "      <td>34.0</td>\n",
       "      <td>12.0</td>\n",
       "      <td>22.0</td>\n",
       "      <td>0.0</td>\n",
       "      <td>...</td>\n",
       "      <td>0.0</td>\n",
       "      <td>0.0</td>\n",
       "      <td>0.0</td>\n",
       "      <td>0.0</td>\n",
       "      <td>0.0</td>\n",
       "      <td>0.0</td>\n",
       "      <td>0.0</td>\n",
       "      <td>0.0</td>\n",
       "      <td>0.0</td>\n",
       "      <td>0.0</td>\n",
       "    </tr>\n",
       "    <tr>\n",
       "      <th>2</th>\n",
       "      <td>en</td>\n",
       "      <td>US</td>\n",
       "      <td>iPod7</td>\n",
       "      <td>1</td>\n",
       "      <td>2</td>\n",
       "      <td>8.4</td>\n",
       "      <td>39.0</td>\n",
       "      <td>10.0</td>\n",
       "      <td>55.0</td>\n",
       "      <td>0.0</td>\n",
       "      <td>...</td>\n",
       "      <td>0.0</td>\n",
       "      <td>1.0</td>\n",
       "      <td>0.0</td>\n",
       "      <td>0.0</td>\n",
       "      <td>0.0</td>\n",
       "      <td>1.0</td>\n",
       "      <td>760.0</td>\n",
       "      <td>0.0</td>\n",
       "      <td>1.0</td>\n",
       "      <td>1.0</td>\n",
       "    </tr>\n",
       "    <tr>\n",
       "      <th>3</th>\n",
       "      <td>nb</td>\n",
       "      <td>NO</td>\n",
       "      <td>iPhone8</td>\n",
       "      <td>1</td>\n",
       "      <td>6</td>\n",
       "      <td>9.2</td>\n",
       "      <td>3.0</td>\n",
       "      <td>1.0</td>\n",
       "      <td>0.0</td>\n",
       "      <td>0.0</td>\n",
       "      <td>...</td>\n",
       "      <td>0.0</td>\n",
       "      <td>0.0</td>\n",
       "      <td>0.0</td>\n",
       "      <td>0.0</td>\n",
       "      <td>0.0</td>\n",
       "      <td>0.0</td>\n",
       "      <td>0.0</td>\n",
       "      <td>0.0</td>\n",
       "      <td>0.0</td>\n",
       "      <td>0.0</td>\n",
       "    </tr>\n",
       "    <tr>\n",
       "      <th>4</th>\n",
       "      <td>en</td>\n",
       "      <td>GB</td>\n",
       "      <td>iPhone5</td>\n",
       "      <td>4</td>\n",
       "      <td>6</td>\n",
       "      <td>9.2</td>\n",
       "      <td>3.0</td>\n",
       "      <td>1.0</td>\n",
       "      <td>3.0</td>\n",
       "      <td>0.0</td>\n",
       "      <td>...</td>\n",
       "      <td>0.0</td>\n",
       "      <td>0.0</td>\n",
       "      <td>0.0</td>\n",
       "      <td>0.0</td>\n",
       "      <td>0.0</td>\n",
       "      <td>0.0</td>\n",
       "      <td>0.0</td>\n",
       "      <td>0.0</td>\n",
       "      <td>0.0</td>\n",
       "      <td>0.0</td>\n",
       "    </tr>\n",
       "  </tbody>\n",
       "</table>\n",
       "<p>5 rows × 105 columns</p>\n",
       "</div>"
      ],
      "text/plain": [
       "  lang country   device version  dayofweek   os  total_session_count  \\\n",
       "0   en      US  iPhone4       1          4  9.1                 12.0   \n",
       "1   en      IN    iPod5       1          4  8.1                 34.0   \n",
       "2   en      US    iPod7       1          2  8.4                 39.0   \n",
       "3   nb      NO  iPhone8       1          6  9.2                  3.0   \n",
       "4   en      GB  iPhone5       4          6  9.2                  3.0   \n",
       "\n",
       "   most_session_played  session_date_diff  spendtype_valuepack  ...  \\\n",
       "0                  1.0                4.0                  0.0  ...   \n",
       "1                 12.0               22.0                  0.0  ...   \n",
       "2                 10.0               55.0                  0.0  ...   \n",
       "3                  1.0                0.0                  0.0  ...   \n",
       "4                  1.0                3.0                  0.0  ...   \n",
       "\n",
       "   prod_name_iap_1_gems_20  prod_name_iap_1_gems_2  prod_name_iap_1_gems_100  \\\n",
       "0                      0.0                     0.0                       0.0   \n",
       "1                      0.0                     0.0                       0.0   \n",
       "2                      0.0                     1.0                       0.0   \n",
       "3                      0.0                     0.0                       0.0   \n",
       "4                      0.0                     0.0                       0.0   \n",
       "\n",
       "   prod_name_iap_1_gems_10  prod_name_iap_1_gems_1  total_num_purchase  \\\n",
       "0                      0.0                     0.0                 0.0   \n",
       "1                      0.0                     0.0                 0.0   \n",
       "2                      0.0                     0.0                 1.0   \n",
       "3                      0.0                     0.0                 0.0   \n",
       "4                      0.0                     0.0                 0.0   \n",
       "\n",
       "   total_rev  purchase_date_diff  install_to_first_purchase  converted  \n",
       "0        0.0                 0.0                        0.0        0.0  \n",
       "1        0.0                 0.0                        0.0        0.0  \n",
       "2      760.0                 0.0                        1.0        1.0  \n",
       "3        0.0                 0.0                        0.0        0.0  \n",
       "4        0.0                 0.0                        0.0        0.0  \n",
       "\n",
       "[5 rows x 105 columns]"
      ]
     },
     "execution_count": 101,
     "metadata": {},
     "output_type": "execute_result"
    }
   ],
   "source": [
    "full_data.head()"
   ]
  },
  {
   "cell_type": "code",
   "execution_count": 102,
   "id": "956b5802",
   "metadata": {
    "ExecuteTime": {
     "end_time": "2021-09-03T21:57:24.101649Z",
     "start_time": "2021-09-03T21:57:24.092812Z"
    }
   },
   "outputs": [
    {
     "data": {
      "text/plain": [
       "(22576, 105)"
      ]
     },
     "execution_count": 102,
     "metadata": {},
     "output_type": "execute_result"
    }
   ],
   "source": [
    "full_data.shape"
   ]
  },
  {
   "cell_type": "code",
   "execution_count": 103,
   "id": "1449a716",
   "metadata": {
    "ExecuteTime": {
     "end_time": "2021-09-03T21:57:25.250053Z",
     "start_time": "2021-09-03T21:57:25.242293Z"
    }
   },
   "outputs": [
    {
     "data": {
      "text/plain": [
       "Index(['lang', 'country', 'device', 'version', 'dayofweek', 'os',\n",
       "       'total_session_count', 'most_session_played', 'session_date_diff',\n",
       "       'spendtype_valuepack',\n",
       "       ...\n",
       "       'prod_name_iap_1_gems_20', 'prod_name_iap_1_gems_2',\n",
       "       'prod_name_iap_1_gems_100', 'prod_name_iap_1_gems_10',\n",
       "       'prod_name_iap_1_gems_1', 'total_num_purchase', 'total_rev',\n",
       "       'purchase_date_diff', 'install_to_first_purchase', 'converted'],\n",
       "      dtype='object', length=105)"
      ]
     },
     "execution_count": 103,
     "metadata": {},
     "output_type": "execute_result"
    }
   ],
   "source": [
    "full_data.columns"
   ]
  },
  {
   "cell_type": "code",
   "execution_count": 104,
   "id": "d9e6d743",
   "metadata": {
    "ExecuteTime": {
     "end_time": "2021-09-03T21:57:25.738444Z",
     "start_time": "2021-09-03T21:57:25.734979Z"
    }
   },
   "outputs": [],
   "source": [
    "#seperate numeric and categorical features\n",
    "cate_feat=full_data.columns[0:6]\n",
    "num_feat=full_data.columns[6:104]"
   ]
  },
  {
   "cell_type": "code",
   "execution_count": 105,
   "id": "936f5c5f",
   "metadata": {
    "ExecuteTime": {
     "end_time": "2021-09-03T21:57:25.822479Z",
     "start_time": "2021-09-03T21:57:25.817842Z"
    }
   },
   "outputs": [
    {
     "data": {
      "text/plain": [
       "104"
      ]
     },
     "execution_count": 105,
     "metadata": {},
     "output_type": "execute_result"
    }
   ],
   "source": [
    "#check total number of features\n",
    "len(cate_feat)+len(num_feat)"
   ]
  },
  {
   "cell_type": "code",
   "execution_count": 106,
   "id": "0c83861f",
   "metadata": {
    "ExecuteTime": {
     "end_time": "2021-09-03T21:57:25.906041Z",
     "start_time": "2021-09-03T21:57:25.900560Z"
    }
   },
   "outputs": [],
   "source": [
    "full_data['dayofweek']=full_data['dayofweek'].astype('object')"
   ]
  },
  {
   "cell_type": "code",
   "execution_count": 107,
   "id": "be55c0c5",
   "metadata": {
    "ExecuteTime": {
     "end_time": "2021-09-03T21:57:26.013590Z",
     "start_time": "2021-09-03T21:57:25.986187Z"
    }
   },
   "outputs": [
    {
     "name": "stdout",
     "output_type": "stream",
     "text": [
      "<class 'pandas.core.frame.DataFrame'>\n",
      "Int64Index: 22576 entries, 0 to 22575\n",
      "Data columns (total 6 columns):\n",
      " #   Column     Non-Null Count  Dtype \n",
      "---  ------     --------------  ----- \n",
      " 0   lang       22576 non-null  object\n",
      " 1   country    22576 non-null  object\n",
      " 2   device     22576 non-null  object\n",
      " 3   version    22576 non-null  object\n",
      " 4   dayofweek  22576 non-null  object\n",
      " 5   os         22576 non-null  object\n",
      "dtypes: object(6)\n",
      "memory usage: 1.7+ MB\n"
     ]
    }
   ],
   "source": [
    "full_data[cate_feat].info()"
   ]
  },
  {
   "cell_type": "markdown",
   "id": "f97b5507",
   "metadata": {
    "ExecuteTime": {
     "end_time": "2021-09-01T18:12:14.208793Z",
     "start_time": "2021-09-01T18:12:14.199257Z"
    }
   },
   "source": [
    "## Apply Standard Scaling"
   ]
  },
  {
   "cell_type": "code",
   "execution_count": 108,
   "id": "c5efb495",
   "metadata": {
    "ExecuteTime": {
     "end_time": "2021-09-03T21:57:27.250088Z",
     "start_time": "2021-09-03T21:57:27.246474Z"
    }
   },
   "outputs": [],
   "source": [
    "from sklearn import preprocessing"
   ]
  },
  {
   "cell_type": "code",
   "execution_count": 109,
   "id": "8e856f4d",
   "metadata": {
    "ExecuteTime": {
     "end_time": "2021-09-03T21:57:27.530013Z",
     "start_time": "2021-09-03T21:57:27.527100Z"
    }
   },
   "outputs": [],
   "source": [
    "scaler=preprocessing.StandardScaler()"
   ]
  },
  {
   "cell_type": "code",
   "execution_count": 110,
   "id": "03e4944c",
   "metadata": {
    "ExecuteTime": {
     "end_time": "2021-09-03T21:57:27.763655Z",
     "start_time": "2021-09-03T21:57:27.714737Z"
    }
   },
   "outputs": [],
   "source": [
    "full_data[num_feat]=scaler.fit_transform(full_data[num_feat])"
   ]
  },
  {
   "cell_type": "code",
   "execution_count": 111,
   "id": "1d129f6b",
   "metadata": {
    "ExecuteTime": {
     "end_time": "2021-09-03T21:57:27.939957Z",
     "start_time": "2021-09-03T21:57:27.911411Z"
    }
   },
   "outputs": [
    {
     "data": {
      "text/html": [
       "<div>\n",
       "<style scoped>\n",
       "    .dataframe tbody tr th:only-of-type {\n",
       "        vertical-align: middle;\n",
       "    }\n",
       "\n",
       "    .dataframe tbody tr th {\n",
       "        vertical-align: top;\n",
       "    }\n",
       "\n",
       "    .dataframe thead th {\n",
       "        text-align: right;\n",
       "    }\n",
       "</style>\n",
       "<table border=\"1\" class=\"dataframe\">\n",
       "  <thead>\n",
       "    <tr style=\"text-align: right;\">\n",
       "      <th></th>\n",
       "      <th>lang</th>\n",
       "      <th>country</th>\n",
       "      <th>device</th>\n",
       "      <th>version</th>\n",
       "      <th>dayofweek</th>\n",
       "      <th>os</th>\n",
       "      <th>total_session_count</th>\n",
       "      <th>most_session_played</th>\n",
       "      <th>session_date_diff</th>\n",
       "      <th>spendtype_valuepack</th>\n",
       "      <th>...</th>\n",
       "      <th>prod_name_iap_1_gems_20</th>\n",
       "      <th>prod_name_iap_1_gems_2</th>\n",
       "      <th>prod_name_iap_1_gems_100</th>\n",
       "      <th>prod_name_iap_1_gems_10</th>\n",
       "      <th>prod_name_iap_1_gems_1</th>\n",
       "      <th>total_num_purchase</th>\n",
       "      <th>total_rev</th>\n",
       "      <th>purchase_date_diff</th>\n",
       "      <th>install_to_first_purchase</th>\n",
       "      <th>converted</th>\n",
       "    </tr>\n",
       "  </thead>\n",
       "  <tbody>\n",
       "    <tr>\n",
       "      <th>0</th>\n",
       "      <td>en</td>\n",
       "      <td>US</td>\n",
       "      <td>iPhone4</td>\n",
       "      <td>1</td>\n",
       "      <td>4</td>\n",
       "      <td>9.1</td>\n",
       "      <td>-0.262962</td>\n",
       "      <td>-0.224135</td>\n",
       "      <td>-0.531623</td>\n",
       "      <td>-0.037741</td>\n",
       "      <td>...</td>\n",
       "      <td>-0.041008</td>\n",
       "      <td>-0.133631</td>\n",
       "      <td>-0.009413</td>\n",
       "      <td>-0.062186</td>\n",
       "      <td>-0.064576</td>\n",
       "      <td>-0.151673</td>\n",
       "      <td>-0.148598</td>\n",
       "      <td>-0.115324</td>\n",
       "      <td>-0.103748</td>\n",
       "      <td>0.0</td>\n",
       "    </tr>\n",
       "    <tr>\n",
       "      <th>1</th>\n",
       "      <td>en</td>\n",
       "      <td>IN</td>\n",
       "      <td>iPod5</td>\n",
       "      <td>1</td>\n",
       "      <td>4</td>\n",
       "      <td>8.1</td>\n",
       "      <td>0.026069</td>\n",
       "      <td>0.011369</td>\n",
       "      <td>0.397710</td>\n",
       "      <td>-0.037741</td>\n",
       "      <td>...</td>\n",
       "      <td>-0.041008</td>\n",
       "      <td>-0.133631</td>\n",
       "      <td>-0.009413</td>\n",
       "      <td>-0.062186</td>\n",
       "      <td>-0.064576</td>\n",
       "      <td>-0.151673</td>\n",
       "      <td>-0.148598</td>\n",
       "      <td>-0.115324</td>\n",
       "      <td>-0.103748</td>\n",
       "      <td>0.0</td>\n",
       "    </tr>\n",
       "    <tr>\n",
       "      <th>2</th>\n",
       "      <td>en</td>\n",
       "      <td>US</td>\n",
       "      <td>iPod7</td>\n",
       "      <td>1</td>\n",
       "      <td>2</td>\n",
       "      <td>8.4</td>\n",
       "      <td>0.091758</td>\n",
       "      <td>-0.031450</td>\n",
       "      <td>2.101485</td>\n",
       "      <td>-0.037741</td>\n",
       "      <td>...</td>\n",
       "      <td>-0.041008</td>\n",
       "      <td>1.040699</td>\n",
       "      <td>-0.009413</td>\n",
       "      <td>-0.062186</td>\n",
       "      <td>-0.064576</td>\n",
       "      <td>0.365417</td>\n",
       "      <td>0.188872</td>\n",
       "      <td>-0.115324</td>\n",
       "      <td>0.229379</td>\n",
       "      <td>1.0</td>\n",
       "    </tr>\n",
       "    <tr>\n",
       "      <th>3</th>\n",
       "      <td>nb</td>\n",
       "      <td>NO</td>\n",
       "      <td>iPhone8</td>\n",
       "      <td>1</td>\n",
       "      <td>6</td>\n",
       "      <td>9.2</td>\n",
       "      <td>-0.381202</td>\n",
       "      <td>-0.224135</td>\n",
       "      <td>-0.738141</td>\n",
       "      <td>-0.037741</td>\n",
       "      <td>...</td>\n",
       "      <td>-0.041008</td>\n",
       "      <td>-0.133631</td>\n",
       "      <td>-0.009413</td>\n",
       "      <td>-0.062186</td>\n",
       "      <td>-0.064576</td>\n",
       "      <td>-0.151673</td>\n",
       "      <td>-0.148598</td>\n",
       "      <td>-0.115324</td>\n",
       "      <td>-0.103748</td>\n",
       "      <td>0.0</td>\n",
       "    </tr>\n",
       "    <tr>\n",
       "      <th>4</th>\n",
       "      <td>en</td>\n",
       "      <td>GB</td>\n",
       "      <td>iPhone5</td>\n",
       "      <td>4</td>\n",
       "      <td>6</td>\n",
       "      <td>9.2</td>\n",
       "      <td>-0.381202</td>\n",
       "      <td>-0.224135</td>\n",
       "      <td>-0.583252</td>\n",
       "      <td>-0.037741</td>\n",
       "      <td>...</td>\n",
       "      <td>-0.041008</td>\n",
       "      <td>-0.133631</td>\n",
       "      <td>-0.009413</td>\n",
       "      <td>-0.062186</td>\n",
       "      <td>-0.064576</td>\n",
       "      <td>-0.151673</td>\n",
       "      <td>-0.148598</td>\n",
       "      <td>-0.115324</td>\n",
       "      <td>-0.103748</td>\n",
       "      <td>0.0</td>\n",
       "    </tr>\n",
       "  </tbody>\n",
       "</table>\n",
       "<p>5 rows × 105 columns</p>\n",
       "</div>"
      ],
      "text/plain": [
       "  lang country   device version dayofweek   os  total_session_count  \\\n",
       "0   en      US  iPhone4       1         4  9.1            -0.262962   \n",
       "1   en      IN    iPod5       1         4  8.1             0.026069   \n",
       "2   en      US    iPod7       1         2  8.4             0.091758   \n",
       "3   nb      NO  iPhone8       1         6  9.2            -0.381202   \n",
       "4   en      GB  iPhone5       4         6  9.2            -0.381202   \n",
       "\n",
       "   most_session_played  session_date_diff  spendtype_valuepack  ...  \\\n",
       "0            -0.224135          -0.531623            -0.037741  ...   \n",
       "1             0.011369           0.397710            -0.037741  ...   \n",
       "2            -0.031450           2.101485            -0.037741  ...   \n",
       "3            -0.224135          -0.738141            -0.037741  ...   \n",
       "4            -0.224135          -0.583252            -0.037741  ...   \n",
       "\n",
       "   prod_name_iap_1_gems_20  prod_name_iap_1_gems_2  prod_name_iap_1_gems_100  \\\n",
       "0                -0.041008               -0.133631                 -0.009413   \n",
       "1                -0.041008               -0.133631                 -0.009413   \n",
       "2                -0.041008                1.040699                 -0.009413   \n",
       "3                -0.041008               -0.133631                 -0.009413   \n",
       "4                -0.041008               -0.133631                 -0.009413   \n",
       "\n",
       "   prod_name_iap_1_gems_10  prod_name_iap_1_gems_1  total_num_purchase  \\\n",
       "0                -0.062186               -0.064576           -0.151673   \n",
       "1                -0.062186               -0.064576           -0.151673   \n",
       "2                -0.062186               -0.064576            0.365417   \n",
       "3                -0.062186               -0.064576           -0.151673   \n",
       "4                -0.062186               -0.064576           -0.151673   \n",
       "\n",
       "   total_rev  purchase_date_diff  install_to_first_purchase  converted  \n",
       "0  -0.148598           -0.115324                  -0.103748        0.0  \n",
       "1  -0.148598           -0.115324                  -0.103748        0.0  \n",
       "2   0.188872           -0.115324                   0.229379        1.0  \n",
       "3  -0.148598           -0.115324                  -0.103748        0.0  \n",
       "4  -0.148598           -0.115324                  -0.103748        0.0  \n",
       "\n",
       "[5 rows x 105 columns]"
      ]
     },
     "execution_count": 111,
     "metadata": {},
     "output_type": "execute_result"
    }
   ],
   "source": [
    "full_data.head()"
   ]
  },
  {
   "cell_type": "markdown",
   "id": "21190f72",
   "metadata": {
    "ExecuteTime": {
     "end_time": "2021-09-01T18:13:58.613146Z",
     "start_time": "2021-09-01T18:13:58.582129Z"
    }
   },
   "source": [
    "## Label Encoding for categorical features"
   ]
  },
  {
   "cell_type": "code",
   "execution_count": 112,
   "id": "ce6f90ab",
   "metadata": {
    "ExecuteTime": {
     "end_time": "2021-09-03T21:57:28.848127Z",
     "start_time": "2021-09-03T21:57:28.844352Z"
    }
   },
   "outputs": [],
   "source": [
    "LBL = preprocessing.LabelEncoder()"
   ]
  },
  {
   "cell_type": "code",
   "execution_count": 113,
   "id": "50b37cc5",
   "metadata": {
    "ExecuteTime": {
     "end_time": "2021-09-03T21:57:29.248574Z",
     "start_time": "2021-09-03T21:57:29.237926Z"
    }
   },
   "outputs": [
    {
     "data": {
      "text/plain": [
       "array(['US', 'IN', 'NO', 'GB', 'TR', 'DK', 'PT', 'LT', 'PH', 'MX', 'VN',\n",
       "       'ID', 'JP', 'BR', 'LY', 'PE', 'CH', 'CA', 'NL', 'BE', 'TH', 'ES',\n",
       "       'IT', 'CZ', 'RU', 'RO', 'SE', 'ZA', 'AU', 'IL', 'HU', 'OM', 'AT',\n",
       "       'EE', 'MY', 'CO', 'LA', 'EG', 'NZ', 'DE', 'IS', 'Ha', 'DZ', 'SA',\n",
       "       'AE', 'ZW', '_C', 'SG', 'FR', 'FJ', 'AR', 'LB', 'KH', 'CL', 'BY',\n",
       "       'HK', 'JO', 'AF', 'FI', 'KW', 'CN', 'GY', 'GM', 'KR', 'EC', 'BS',\n",
       "       'TW', 'GE', 'UM', 'DO', 'IE', 'PA', 'NG', 'AL', 'AS', 'MK', 'Ko',\n",
       "       'PS', 'HR', 'GR', 'VI', 'SK', 'AW', 0, 'TT', 'UG', 'BN', 'RS',\n",
       "       'FO', 'HT', 'MM', 'VG', 'PR', 'PL', 'TN', 'GT', 'AD', 'MT', 'BD',\n",
       "       'BB', 'QA', 'VU', 'AG', 'PK', 'MD', 'VE', 'CR', 'BH', 'LV', 'IQ',\n",
       "       'CY', 'CF', 'YE', 'BZ', 'AZ', 'NC', 'UY', 'BT', 'UZ', 'LU', 'MA',\n",
       "       'MR', 'BG', 'LK', 'SC', 'JM', 'KG', 'HN', 'IM', 'JE', 'BA', 'GH',\n",
       "       'AM', 'AO', 'VC', 'GL', 'MO', 'GA', 'ME', 'TO', 'BO', 'UA', 'SI',\n",
       "       'ZM', 'BW', 'MN', 'BM', 'GU', 'AX', 'KN', 'KZ', '15', 'SO', 'SV',\n",
       "       'MQ', 'MG', 'PY', 'XK', 'TZ', 'GP', 'PF', 'KE', 'SL', '_U', 'GG',\n",
       "       'MU', 'SS', '_P', 'BJ', 'ET', 'MS', 'DM', 'La', 'CI', 'NP', 'TM',\n",
       "       'CV', 'NI'], dtype=object)"
      ]
     },
     "execution_count": 113,
     "metadata": {},
     "output_type": "execute_result"
    }
   ],
   "source": [
    "#there are some countries with 0,15\n",
    "full_data['country'].unique()"
   ]
  },
  {
   "cell_type": "code",
   "execution_count": 114,
   "id": "453cec56",
   "metadata": {
    "ExecuteTime": {
     "end_time": "2021-09-03T21:57:29.682371Z",
     "start_time": "2021-09-03T21:57:29.667339Z"
    }
   },
   "outputs": [],
   "source": [
    "#replace 0, 15 with Mode US\n",
    "full_data.country.loc[(full_data['country']==0) | (full_data['country']=='15')]='US'"
   ]
  },
  {
   "cell_type": "code",
   "execution_count": 115,
   "id": "b9c359f7",
   "metadata": {
    "ExecuteTime": {
     "end_time": "2021-09-03T21:57:30.156340Z",
     "start_time": "2021-09-03T21:57:30.128366Z"
    }
   },
   "outputs": [
    {
     "data": {
      "text/html": [
       "<div>\n",
       "<style scoped>\n",
       "    .dataframe tbody tr th:only-of-type {\n",
       "        vertical-align: middle;\n",
       "    }\n",
       "\n",
       "    .dataframe tbody tr th {\n",
       "        vertical-align: top;\n",
       "    }\n",
       "\n",
       "    .dataframe thead th {\n",
       "        text-align: right;\n",
       "    }\n",
       "</style>\n",
       "<table border=\"1\" class=\"dataframe\">\n",
       "  <thead>\n",
       "    <tr style=\"text-align: right;\">\n",
       "      <th></th>\n",
       "      <th>lang</th>\n",
       "      <th>country</th>\n",
       "      <th>device</th>\n",
       "      <th>version</th>\n",
       "      <th>dayofweek</th>\n",
       "      <th>os</th>\n",
       "      <th>total_session_count</th>\n",
       "      <th>most_session_played</th>\n",
       "      <th>session_date_diff</th>\n",
       "      <th>spendtype_valuepack</th>\n",
       "      <th>...</th>\n",
       "      <th>prod_name_iap_1_gems_20</th>\n",
       "      <th>prod_name_iap_1_gems_2</th>\n",
       "      <th>prod_name_iap_1_gems_100</th>\n",
       "      <th>prod_name_iap_1_gems_10</th>\n",
       "      <th>prod_name_iap_1_gems_1</th>\n",
       "      <th>total_num_purchase</th>\n",
       "      <th>total_rev</th>\n",
       "      <th>purchase_date_diff</th>\n",
       "      <th>install_to_first_purchase</th>\n",
       "      <th>converted</th>\n",
       "    </tr>\n",
       "  </thead>\n",
       "  <tbody>\n",
       "    <tr>\n",
       "      <th>0</th>\n",
       "      <td>en</td>\n",
       "      <td>US</td>\n",
       "      <td>iPhone4</td>\n",
       "      <td>1</td>\n",
       "      <td>4</td>\n",
       "      <td>9.1</td>\n",
       "      <td>-0.262962</td>\n",
       "      <td>-0.224135</td>\n",
       "      <td>-0.531623</td>\n",
       "      <td>-0.037741</td>\n",
       "      <td>...</td>\n",
       "      <td>-0.041008</td>\n",
       "      <td>-0.133631</td>\n",
       "      <td>-0.009413</td>\n",
       "      <td>-0.062186</td>\n",
       "      <td>-0.064576</td>\n",
       "      <td>-0.151673</td>\n",
       "      <td>-0.148598</td>\n",
       "      <td>-0.115324</td>\n",
       "      <td>-0.103748</td>\n",
       "      <td>0.0</td>\n",
       "    </tr>\n",
       "    <tr>\n",
       "      <th>1</th>\n",
       "      <td>en</td>\n",
       "      <td>IN</td>\n",
       "      <td>iPod5</td>\n",
       "      <td>1</td>\n",
       "      <td>4</td>\n",
       "      <td>8.1</td>\n",
       "      <td>0.026069</td>\n",
       "      <td>0.011369</td>\n",
       "      <td>0.397710</td>\n",
       "      <td>-0.037741</td>\n",
       "      <td>...</td>\n",
       "      <td>-0.041008</td>\n",
       "      <td>-0.133631</td>\n",
       "      <td>-0.009413</td>\n",
       "      <td>-0.062186</td>\n",
       "      <td>-0.064576</td>\n",
       "      <td>-0.151673</td>\n",
       "      <td>-0.148598</td>\n",
       "      <td>-0.115324</td>\n",
       "      <td>-0.103748</td>\n",
       "      <td>0.0</td>\n",
       "    </tr>\n",
       "    <tr>\n",
       "      <th>2</th>\n",
       "      <td>en</td>\n",
       "      <td>US</td>\n",
       "      <td>iPod7</td>\n",
       "      <td>1</td>\n",
       "      <td>2</td>\n",
       "      <td>8.4</td>\n",
       "      <td>0.091758</td>\n",
       "      <td>-0.031450</td>\n",
       "      <td>2.101485</td>\n",
       "      <td>-0.037741</td>\n",
       "      <td>...</td>\n",
       "      <td>-0.041008</td>\n",
       "      <td>1.040699</td>\n",
       "      <td>-0.009413</td>\n",
       "      <td>-0.062186</td>\n",
       "      <td>-0.064576</td>\n",
       "      <td>0.365417</td>\n",
       "      <td>0.188872</td>\n",
       "      <td>-0.115324</td>\n",
       "      <td>0.229379</td>\n",
       "      <td>1.0</td>\n",
       "    </tr>\n",
       "    <tr>\n",
       "      <th>3</th>\n",
       "      <td>nb</td>\n",
       "      <td>NO</td>\n",
       "      <td>iPhone8</td>\n",
       "      <td>1</td>\n",
       "      <td>6</td>\n",
       "      <td>9.2</td>\n",
       "      <td>-0.381202</td>\n",
       "      <td>-0.224135</td>\n",
       "      <td>-0.738141</td>\n",
       "      <td>-0.037741</td>\n",
       "      <td>...</td>\n",
       "      <td>-0.041008</td>\n",
       "      <td>-0.133631</td>\n",
       "      <td>-0.009413</td>\n",
       "      <td>-0.062186</td>\n",
       "      <td>-0.064576</td>\n",
       "      <td>-0.151673</td>\n",
       "      <td>-0.148598</td>\n",
       "      <td>-0.115324</td>\n",
       "      <td>-0.103748</td>\n",
       "      <td>0.0</td>\n",
       "    </tr>\n",
       "    <tr>\n",
       "      <th>4</th>\n",
       "      <td>en</td>\n",
       "      <td>GB</td>\n",
       "      <td>iPhone5</td>\n",
       "      <td>4</td>\n",
       "      <td>6</td>\n",
       "      <td>9.2</td>\n",
       "      <td>-0.381202</td>\n",
       "      <td>-0.224135</td>\n",
       "      <td>-0.583252</td>\n",
       "      <td>-0.037741</td>\n",
       "      <td>...</td>\n",
       "      <td>-0.041008</td>\n",
       "      <td>-0.133631</td>\n",
       "      <td>-0.009413</td>\n",
       "      <td>-0.062186</td>\n",
       "      <td>-0.064576</td>\n",
       "      <td>-0.151673</td>\n",
       "      <td>-0.148598</td>\n",
       "      <td>-0.115324</td>\n",
       "      <td>-0.103748</td>\n",
       "      <td>0.0</td>\n",
       "    </tr>\n",
       "  </tbody>\n",
       "</table>\n",
       "<p>5 rows × 105 columns</p>\n",
       "</div>"
      ],
      "text/plain": [
       "  lang country   device version dayofweek   os  total_session_count  \\\n",
       "0   en      US  iPhone4       1         4  9.1            -0.262962   \n",
       "1   en      IN    iPod5       1         4  8.1             0.026069   \n",
       "2   en      US    iPod7       1         2  8.4             0.091758   \n",
       "3   nb      NO  iPhone8       1         6  9.2            -0.381202   \n",
       "4   en      GB  iPhone5       4         6  9.2            -0.381202   \n",
       "\n",
       "   most_session_played  session_date_diff  spendtype_valuepack  ...  \\\n",
       "0            -0.224135          -0.531623            -0.037741  ...   \n",
       "1             0.011369           0.397710            -0.037741  ...   \n",
       "2            -0.031450           2.101485            -0.037741  ...   \n",
       "3            -0.224135          -0.738141            -0.037741  ...   \n",
       "4            -0.224135          -0.583252            -0.037741  ...   \n",
       "\n",
       "   prod_name_iap_1_gems_20  prod_name_iap_1_gems_2  prod_name_iap_1_gems_100  \\\n",
       "0                -0.041008               -0.133631                 -0.009413   \n",
       "1                -0.041008               -0.133631                 -0.009413   \n",
       "2                -0.041008                1.040699                 -0.009413   \n",
       "3                -0.041008               -0.133631                 -0.009413   \n",
       "4                -0.041008               -0.133631                 -0.009413   \n",
       "\n",
       "   prod_name_iap_1_gems_10  prod_name_iap_1_gems_1  total_num_purchase  \\\n",
       "0                -0.062186               -0.064576           -0.151673   \n",
       "1                -0.062186               -0.064576           -0.151673   \n",
       "2                -0.062186               -0.064576            0.365417   \n",
       "3                -0.062186               -0.064576           -0.151673   \n",
       "4                -0.062186               -0.064576           -0.151673   \n",
       "\n",
       "   total_rev  purchase_date_diff  install_to_first_purchase  converted  \n",
       "0  -0.148598           -0.115324                  -0.103748        0.0  \n",
       "1  -0.148598           -0.115324                  -0.103748        0.0  \n",
       "2   0.188872           -0.115324                   0.229379        1.0  \n",
       "3  -0.148598           -0.115324                  -0.103748        0.0  \n",
       "4  -0.148598           -0.115324                  -0.103748        0.0  \n",
       "\n",
       "[5 rows x 105 columns]"
      ]
     },
     "execution_count": 115,
     "metadata": {},
     "output_type": "execute_result"
    }
   ],
   "source": [
    "full_data.head()"
   ]
  },
  {
   "cell_type": "code",
   "execution_count": 116,
   "id": "abccf50d",
   "metadata": {
    "ExecuteTime": {
     "end_time": "2021-09-03T21:57:30.637147Z",
     "start_time": "2021-09-03T21:57:30.594429Z"
    }
   },
   "outputs": [],
   "source": [
    "for cat_col in cate_feat:\n",
    "\n",
    "    full_data[cat_col] = LBL.fit_transform(full_data[cat_col])\n",
    "\n"
   ]
  },
  {
   "cell_type": "code",
   "execution_count": 117,
   "id": "e3368387",
   "metadata": {
    "ExecuteTime": {
     "end_time": "2021-09-03T21:57:30.993676Z",
     "start_time": "2021-09-03T21:57:30.965159Z"
    }
   },
   "outputs": [
    {
     "data": {
      "text/html": [
       "<div>\n",
       "<style scoped>\n",
       "    .dataframe tbody tr th:only-of-type {\n",
       "        vertical-align: middle;\n",
       "    }\n",
       "\n",
       "    .dataframe tbody tr th {\n",
       "        vertical-align: top;\n",
       "    }\n",
       "\n",
       "    .dataframe thead th {\n",
       "        text-align: right;\n",
       "    }\n",
       "</style>\n",
       "<table border=\"1\" class=\"dataframe\">\n",
       "  <thead>\n",
       "    <tr style=\"text-align: right;\">\n",
       "      <th></th>\n",
       "      <th>lang</th>\n",
       "      <th>country</th>\n",
       "      <th>device</th>\n",
       "      <th>version</th>\n",
       "      <th>dayofweek</th>\n",
       "      <th>os</th>\n",
       "      <th>total_session_count</th>\n",
       "      <th>most_session_played</th>\n",
       "      <th>session_date_diff</th>\n",
       "      <th>spendtype_valuepack</th>\n",
       "      <th>...</th>\n",
       "      <th>prod_name_iap_1_gems_20</th>\n",
       "      <th>prod_name_iap_1_gems_2</th>\n",
       "      <th>prod_name_iap_1_gems_100</th>\n",
       "      <th>prod_name_iap_1_gems_10</th>\n",
       "      <th>prod_name_iap_1_gems_1</th>\n",
       "      <th>total_num_purchase</th>\n",
       "      <th>total_rev</th>\n",
       "      <th>purchase_date_diff</th>\n",
       "      <th>install_to_first_purchase</th>\n",
       "      <th>converted</th>\n",
       "    </tr>\n",
       "  </thead>\n",
       "  <tbody>\n",
       "    <tr>\n",
       "      <th>0</th>\n",
       "      <td>9</td>\n",
       "      <td>159</td>\n",
       "      <td>7</td>\n",
       "      <td>0</td>\n",
       "      <td>4</td>\n",
       "      <td>9</td>\n",
       "      <td>-0.262962</td>\n",
       "      <td>-0.224135</td>\n",
       "      <td>-0.531623</td>\n",
       "      <td>-0.037741</td>\n",
       "      <td>...</td>\n",
       "      <td>-0.041008</td>\n",
       "      <td>-0.133631</td>\n",
       "      <td>-0.009413</td>\n",
       "      <td>-0.062186</td>\n",
       "      <td>-0.064576</td>\n",
       "      <td>-0.151673</td>\n",
       "      <td>-0.148598</td>\n",
       "      <td>-0.115324</td>\n",
       "      <td>-0.103748</td>\n",
       "      <td>0.0</td>\n",
       "    </tr>\n",
       "    <tr>\n",
       "      <th>1</th>\n",
       "      <td>9</td>\n",
       "      <td>77</td>\n",
       "      <td>13</td>\n",
       "      <td>0</td>\n",
       "      <td>4</td>\n",
       "      <td>4</td>\n",
       "      <td>0.026069</td>\n",
       "      <td>0.011369</td>\n",
       "      <td>0.397710</td>\n",
       "      <td>-0.037741</td>\n",
       "      <td>...</td>\n",
       "      <td>-0.041008</td>\n",
       "      <td>-0.133631</td>\n",
       "      <td>-0.009413</td>\n",
       "      <td>-0.062186</td>\n",
       "      <td>-0.064576</td>\n",
       "      <td>-0.151673</td>\n",
       "      <td>-0.148598</td>\n",
       "      <td>-0.115324</td>\n",
       "      <td>-0.103748</td>\n",
       "      <td>0.0</td>\n",
       "    </tr>\n",
       "    <tr>\n",
       "      <th>2</th>\n",
       "      <td>9</td>\n",
       "      <td>159</td>\n",
       "      <td>14</td>\n",
       "      <td>0</td>\n",
       "      <td>2</td>\n",
       "      <td>7</td>\n",
       "      <td>0.091758</td>\n",
       "      <td>-0.031450</td>\n",
       "      <td>2.101485</td>\n",
       "      <td>-0.037741</td>\n",
       "      <td>...</td>\n",
       "      <td>-0.041008</td>\n",
       "      <td>1.040699</td>\n",
       "      <td>-0.009413</td>\n",
       "      <td>-0.062186</td>\n",
       "      <td>-0.064576</td>\n",
       "      <td>0.365417</td>\n",
       "      <td>0.188872</td>\n",
       "      <td>-0.115324</td>\n",
       "      <td>0.229379</td>\n",
       "      <td>1.0</td>\n",
       "    </tr>\n",
       "    <tr>\n",
       "      <th>3</th>\n",
       "      <td>35</td>\n",
       "      <td>120</td>\n",
       "      <td>11</td>\n",
       "      <td>0</td>\n",
       "      <td>6</td>\n",
       "      <td>10</td>\n",
       "      <td>-0.381202</td>\n",
       "      <td>-0.224135</td>\n",
       "      <td>-0.738141</td>\n",
       "      <td>-0.037741</td>\n",
       "      <td>...</td>\n",
       "      <td>-0.041008</td>\n",
       "      <td>-0.133631</td>\n",
       "      <td>-0.009413</td>\n",
       "      <td>-0.062186</td>\n",
       "      <td>-0.064576</td>\n",
       "      <td>-0.151673</td>\n",
       "      <td>-0.148598</td>\n",
       "      <td>-0.115324</td>\n",
       "      <td>-0.103748</td>\n",
       "      <td>0.0</td>\n",
       "    </tr>\n",
       "    <tr>\n",
       "      <th>4</th>\n",
       "      <td>9</td>\n",
       "      <td>56</td>\n",
       "      <td>8</td>\n",
       "      <td>3</td>\n",
       "      <td>6</td>\n",
       "      <td>10</td>\n",
       "      <td>-0.381202</td>\n",
       "      <td>-0.224135</td>\n",
       "      <td>-0.583252</td>\n",
       "      <td>-0.037741</td>\n",
       "      <td>...</td>\n",
       "      <td>-0.041008</td>\n",
       "      <td>-0.133631</td>\n",
       "      <td>-0.009413</td>\n",
       "      <td>-0.062186</td>\n",
       "      <td>-0.064576</td>\n",
       "      <td>-0.151673</td>\n",
       "      <td>-0.148598</td>\n",
       "      <td>-0.115324</td>\n",
       "      <td>-0.103748</td>\n",
       "      <td>0.0</td>\n",
       "    </tr>\n",
       "  </tbody>\n",
       "</table>\n",
       "<p>5 rows × 105 columns</p>\n",
       "</div>"
      ],
      "text/plain": [
       "   lang  country  device  version  dayofweek  os  total_session_count  \\\n",
       "0     9      159       7        0          4   9            -0.262962   \n",
       "1     9       77      13        0          4   4             0.026069   \n",
       "2     9      159      14        0          2   7             0.091758   \n",
       "3    35      120      11        0          6  10            -0.381202   \n",
       "4     9       56       8        3          6  10            -0.381202   \n",
       "\n",
       "   most_session_played  session_date_diff  spendtype_valuepack  ...  \\\n",
       "0            -0.224135          -0.531623            -0.037741  ...   \n",
       "1             0.011369           0.397710            -0.037741  ...   \n",
       "2            -0.031450           2.101485            -0.037741  ...   \n",
       "3            -0.224135          -0.738141            -0.037741  ...   \n",
       "4            -0.224135          -0.583252            -0.037741  ...   \n",
       "\n",
       "   prod_name_iap_1_gems_20  prod_name_iap_1_gems_2  prod_name_iap_1_gems_100  \\\n",
       "0                -0.041008               -0.133631                 -0.009413   \n",
       "1                -0.041008               -0.133631                 -0.009413   \n",
       "2                -0.041008                1.040699                 -0.009413   \n",
       "3                -0.041008               -0.133631                 -0.009413   \n",
       "4                -0.041008               -0.133631                 -0.009413   \n",
       "\n",
       "   prod_name_iap_1_gems_10  prod_name_iap_1_gems_1  total_num_purchase  \\\n",
       "0                -0.062186               -0.064576           -0.151673   \n",
       "1                -0.062186               -0.064576           -0.151673   \n",
       "2                -0.062186               -0.064576            0.365417   \n",
       "3                -0.062186               -0.064576           -0.151673   \n",
       "4                -0.062186               -0.064576           -0.151673   \n",
       "\n",
       "   total_rev  purchase_date_diff  install_to_first_purchase  converted  \n",
       "0  -0.148598           -0.115324                  -0.103748        0.0  \n",
       "1  -0.148598           -0.115324                  -0.103748        0.0  \n",
       "2   0.188872           -0.115324                   0.229379        1.0  \n",
       "3  -0.148598           -0.115324                  -0.103748        0.0  \n",
       "4  -0.148598           -0.115324                  -0.103748        0.0  \n",
       "\n",
       "[5 rows x 105 columns]"
      ]
     },
     "execution_count": 117,
     "metadata": {},
     "output_type": "execute_result"
    }
   ],
   "source": [
    "full_data.head()"
   ]
  },
  {
   "cell_type": "code",
   "execution_count": 118,
   "id": "caa3fa98",
   "metadata": {
    "ExecuteTime": {
     "end_time": "2021-09-03T21:57:31.405360Z",
     "start_time": "2021-09-03T21:57:31.395699Z"
    }
   },
   "outputs": [],
   "source": [
    "from sklearn.model_selection import train_test_split\n",
    "from sklearn.linear_model import LogisticRegression\n",
    "from sklearn.dummy import DummyClassifier\n",
    "from sklearn.metrics import accuracy_score, f1_score, confusion_matrix, recall_score"
   ]
  },
  {
   "cell_type": "markdown",
   "id": "eb8b4e0b",
   "metadata": {},
   "source": [
    "## Resampling the minority groups with SMOTE"
   ]
  },
  {
   "cell_type": "code",
   "execution_count": 119,
   "id": "b32e739d",
   "metadata": {
    "ExecuteTime": {
     "end_time": "2021-09-03T21:57:32.674911Z",
     "start_time": "2021-09-03T21:57:32.640439Z"
    }
   },
   "outputs": [],
   "source": [
    "#To avoid data leakage problem, we need to split train and test first before doing upsampling\n",
    "y=full_data['converted']\n",
    "X=full_data.drop(['converted'],axis=1)\n",
    "\n",
    "#train, test split\n",
    "X_train, X_test, y_train, y_test = train_test_split(X, y, test_size=0.25, random_state=27)"
   ]
  },
  {
   "cell_type": "code",
   "execution_count": 120,
   "id": "6597af2f",
   "metadata": {
    "ExecuteTime": {
     "end_time": "2021-09-03T21:57:33.218700Z",
     "start_time": "2021-09-03T21:57:33.213299Z"
    }
   },
   "outputs": [
    {
     "name": "stdout",
     "output_type": "stream",
     "text": [
      "Number of users X_train dataset:  (16932, 104)\n",
      "Number of users y_train dataset:  (16932,)\n",
      "Number of users X_test dataset:  (5644, 104)\n",
      "Number of users y_test dataset:  (5644,)\n"
     ]
    }
   ],
   "source": [
    "print(\"Number of users X_train dataset: \", X_train.shape)\n",
    "print(\"Number of users y_train dataset: \", y_train.shape)\n",
    "print(\"Number of users X_test dataset: \", X_test.shape)\n",
    "print(\"Number of users y_test dataset: \", y_test.shape)"
   ]
  },
  {
   "cell_type": "code",
   "execution_count": 121,
   "id": "ea734629",
   "metadata": {
    "ExecuteTime": {
     "end_time": "2021-09-03T21:57:34.026460Z",
     "start_time": "2021-09-03T21:57:34.011269Z"
    }
   },
   "outputs": [
    {
     "name": "stdout",
     "output_type": "stream",
     "text": [
      "Before OverSampling, number of converted': 1159\n",
      "Before OverSampling, number of not converted: 15773 \n",
      "\n"
     ]
    }
   ],
   "source": [
    "print(\"Before OverSampling, number of converted': {}\".format(sum(y_train==1)))\n",
    "print(\"Before OverSampling, number of not converted: {} \\n\".format(sum(y_train==0)))\n"
   ]
  },
  {
   "cell_type": "code",
   "execution_count": 122,
   "id": "2623089b",
   "metadata": {
    "ExecuteTime": {
     "end_time": "2021-09-03T21:57:35.382585Z",
     "start_time": "2021-09-03T21:57:35.214613Z"
    }
   },
   "outputs": [],
   "source": [
    "from imblearn.over_sampling import SMOTE"
   ]
  },
  {
   "cell_type": "code",
   "execution_count": 123,
   "id": "bc2c8acb",
   "metadata": {
    "ExecuteTime": {
     "end_time": "2021-09-03T21:57:35.657758Z",
     "start_time": "2021-09-03T21:57:35.544956Z"
    }
   },
   "outputs": [],
   "source": [
    "sm = SMOTE(random_state=2)\n",
    "X_train_sm, y_train_sm = sm.fit_resample(X_train, y_train.ravel())\n"
   ]
  },
  {
   "cell_type": "code",
   "execution_count": 124,
   "id": "7845dcc6",
   "metadata": {
    "ExecuteTime": {
     "end_time": "2021-09-03T21:57:36.681968Z",
     "start_time": "2021-09-03T21:57:36.543370Z"
    }
   },
   "outputs": [
    {
     "name": "stdout",
     "output_type": "stream",
     "text": [
      "After OverSampling, the shape of train_X: (31546, 104)\n",
      "After OverSampling, the shape of train_y: (31546,) \n",
      "\n",
      "After OverSampling, counts of label converted: 15773\n",
      "After OverSampling, counts of label not converted: 15773\n"
     ]
    }
   ],
   "source": [
    "print('After OverSampling, the shape of train_X: {}'.format(X_train_sm.shape))\n",
    "print('After OverSampling, the shape of train_y: {} \\n'.format(y_train_sm.shape))\n",
    "\n",
    "print(\"After OverSampling, counts of label converted: {}\".format(sum(y_train_sm==1)))\n",
    "print(\"After OverSampling, counts of label not converted: {}\".format(sum(y_train_sm==0)))\n"
   ]
  },
  {
   "cell_type": "code",
   "execution_count": 134,
   "id": "157f54c5",
   "metadata": {
    "ExecuteTime": {
     "end_time": "2021-09-03T17:43:15.852229Z",
     "start_time": "2021-09-03T17:43:11.955739Z"
    }
   },
   "outputs": [
    {
     "data": {
      "image/png": "[encoded data removed]",
      "text/plain": [
       "<Figure size 1728x1440 with 2 Axes>"
      ]
     },
     "metadata": {},
     "output_type": "display_data"
    }
   ],
   "source": [
    "fig, ax = plt.subplots(figsize=(24, 20))\n",
    "\n",
    "sns.heatmap(X_train_sm[num_feat].corr(), cmap='coolwarm_r',)\n",
    "ax.set_title('Resample correlation Matrix')\n",
    "plt.show()"
   ]
  },
  {
   "cell_type": "markdown",
   "id": "05a8f27c",
   "metadata": {},
   "source": [
    "## Build classifier"
   ]
  },
  {
   "cell_type": "code",
   "execution_count": 133,
   "id": "d1b0ebd3",
   "metadata": {
    "ExecuteTime": {
     "end_time": "2021-09-03T22:00:45.732252Z",
     "start_time": "2021-09-03T22:00:45.721787Z"
    }
   },
   "outputs": [],
   "source": [
    "from sklearn.metrics import confusion_matrix, precision_recall_curve, classification_report, precision_score, recall_score, accuracy_score"
   ]
  },
  {
   "cell_type": "code",
   "execution_count": 126,
   "id": "4950ae06",
   "metadata": {
    "ExecuteTime": {
     "end_time": "2021-09-03T21:58:45.705267Z",
     "start_time": "2021-09-03T21:58:45.692063Z"
    }
   },
   "outputs": [],
   "source": [
    "from sklearn.tree import DecisionTreeClassifier"
   ]
  },
  {
   "cell_type": "code",
   "execution_count": 127,
   "id": "8fd1901b",
   "metadata": {
    "ExecuteTime": {
     "end_time": "2021-09-03T21:59:07.532542Z",
     "start_time": "2021-09-03T21:59:07.375124Z"
    }
   },
   "outputs": [
    {
     "data": {
      "text/plain": [
       "DecisionTreeClassifier()"
      ]
     },
     "execution_count": 127,
     "metadata": {},
     "output_type": "execute_result"
    }
   ],
   "source": [
    "dt = DecisionTreeClassifier()\n",
    "dt.fit(X_train_sm, y_train_sm)"
   ]
  },
  {
   "cell_type": "code",
   "execution_count": 131,
   "id": "1ad687ee",
   "metadata": {
    "ExecuteTime": {
     "end_time": "2021-09-03T22:00:06.871640Z",
     "start_time": "2021-09-03T22:00:06.844051Z"
    }
   },
   "outputs": [],
   "source": [
    "y_pred = dt.predict(X_test)\n",
    "cnf_matrix = confusion_matrix(y_test, y_pred)\n"
   ]
  },
  {
   "cell_type": "code",
   "execution_count": 134,
   "id": "672fb5a5",
   "metadata": {
    "ExecuteTime": {
     "end_time": "2021-09-03T22:00:48.832443Z",
     "start_time": "2021-09-03T22:00:48.675246Z"
    }
   },
   "outputs": [
    {
     "name": "stdout",
     "output_type": "stream",
     "text": [
      "               precision    recall  f1-score   support\n",
      "\n",
      "Not Converted       1.00      1.00      1.00      5277\n",
      "    Converted       1.00      1.00      1.00       367\n",
      "\n",
      "     accuracy                           1.00      5644\n",
      "    macro avg       1.00      1.00      1.00      5644\n",
      " weighted avg       1.00      1.00      1.00      5644\n",
      "\n"
     ]
    },
    {
     "data": {
      "image/png": "[encoded data removed]",
      "text/plain": [
       "<Figure size 432x288 with 2 Axes>"
      ]
     },
     "metadata": {},
     "output_type": "display_data"
    }
   ],
   "source": [
    "sns.heatmap(pd.DataFrame(cnf_matrix), annot=True, cmap=\"YlGnBu\", fmt='g')\n",
    "plt.ylabel('Actual Label')\n",
    "plt.xlabel('Predicted Label')\n",
    "\n",
    "labels = ['Not Converted', 'Converted']\n",
    "print(classification_report(y_test, y_pred, target_names=labels))"
   ]
  },
  {
   "cell_type": "code",
   "execution_count": null,
   "id": "8aeb3220",
   "metadata": {},
   "outputs": [],
   "source": []
  },
  {
   "cell_type": "code",
   "execution_count": 137,
   "id": "3f6ef1d1",
   "metadata": {
    "ExecuteTime": {
     "end_time": "2021-09-03T17:43:42.465869Z",
     "start_time": "2021-09-03T17:43:30.578140Z"
    }
   },
   "outputs": [
    {
     "name": "stdout",
     "output_type": "stream",
     "text": [
      "Fitting 5 folds for each of 10 candidates, totalling 50 fits\n"
     ]
    },
    {
     "data": {
      "text/plain": [
       "GridSearchCV(cv=5, estimator=LogisticRegression(), n_jobs=3,\n",
       "             param_grid={'C': array([ 1.,  2.,  3.,  4.,  5.,  6.,  7.,  8.,  9., 10.])},\n",
       "             verbose=5)"
      ]
     },
     "execution_count": 137,
     "metadata": {},
     "output_type": "execute_result"
    }
   ],
   "source": [
    "from sklearn.model_selection import GridSearchCV\n",
    "from sklearn.linear_model import LogisticRegression\n",
    "\n",
    "\n",
    "parameters = {\n",
    "    'C': np.linspace(1, 10, 10)\n",
    "             }\n",
    "lr = LogisticRegression()\n",
    "gridserach = GridSearchCV(lr, parameters, cv=5, verbose=5, n_jobs=3)\n",
    "gridserach.fit(X_train_sm, y_train_sm.ravel())"
   ]
  },
  {
   "cell_type": "code",
   "execution_count": 141,
   "id": "a2a0bade",
   "metadata": {
    "ExecuteTime": {
     "end_time": "2021-09-03T17:44:02.951194Z",
     "start_time": "2021-09-03T17:44:02.940768Z"
    }
   },
   "outputs": [
    {
     "data": {
      "text/plain": [
       "{'C': 10.0}"
      ]
     },
     "execution_count": 141,
     "metadata": {},
     "output_type": "execute_result"
    }
   ],
   "source": [
    "gridserach.best_params_"
   ]
  },
  {
   "cell_type": "code",
   "execution_count": 142,
   "id": "bf83cb5d",
   "metadata": {
    "ExecuteTime": {
     "end_time": "2021-09-03T17:44:03.745207Z",
     "start_time": "2021-09-03T17:44:03.737234Z"
    }
   },
   "outputs": [
    {
     "data": {
      "text/plain": [
       "0.9999682992550325"
      ]
     },
     "execution_count": 142,
     "metadata": {},
     "output_type": "execute_result"
    }
   ],
   "source": [
    "gridserach.best_score_"
   ]
  },
  {
   "cell_type": "code",
   "execution_count": 143,
   "id": "7eb81071",
   "metadata": {
    "ExecuteTime": {
     "end_time": "2021-09-03T17:44:04.864526Z",
     "start_time": "2021-09-03T17:44:04.334662Z"
    }
   },
   "outputs": [
    {
     "name": "stderr",
     "output_type": "stream",
     "text": [
      "[Parallel(n_jobs=1)]: Using backend SequentialBackend with 1 concurrent workers.\n",
      "[Parallel(n_jobs=1)]: Done   1 out of   1 | elapsed:    0.5s remaining:    0.0s\n",
      "[Parallel(n_jobs=1)]: Done   1 out of   1 | elapsed:    0.5s finished\n"
     ]
    },
    {
     "data": {
      "text/plain": [
       "LogisticRegression(C=10, verbose=5)"
      ]
     },
     "execution_count": 143,
     "metadata": {},
     "output_type": "execute_result"
    }
   ],
   "source": [
    "lr1 = LogisticRegression(C=10, verbose=5)\n",
    "lr1.fit(X_train_sm, y_train_sm.ravel())"
   ]
  },
  {
   "cell_type": "code",
   "execution_count": 144,
   "id": "4d030187",
   "metadata": {
    "ExecuteTime": {
     "end_time": "2021-09-03T17:44:04.898748Z",
     "start_time": "2021-09-03T17:44:04.866393Z"
    }
   },
   "outputs": [],
   "source": [
    "y_pre = lr1.predict(X_test)\n",
    "\n",
    "cnf_matrix = confusion_matrix(y_test, y_pre)\n"
   ]
  },
  {
   "cell_type": "code",
   "execution_count": 145,
   "id": "af1e9f08",
   "metadata": {
    "ExecuteTime": {
     "end_time": "2021-09-03T17:44:05.368602Z",
     "start_time": "2021-09-03T17:44:05.362403Z"
    }
   },
   "outputs": [
    {
     "data": {
      "text/plain": [
       "array([[5277,    0],\n",
       "       [   2,  365]])"
      ]
     },
     "execution_count": 145,
     "metadata": {},
     "output_type": "execute_result"
    }
   ],
   "source": [
    "cnf_matrix"
   ]
  },
  {
   "cell_type": "code",
   "execution_count": 146,
   "id": "a636aabe",
   "metadata": {
    "ExecuteTime": {
     "end_time": "2021-09-03T17:44:06.326840Z",
     "start_time": "2021-09-03T17:44:06.186933Z"
    }
   },
   "outputs": [
    {
     "name": "stdout",
     "output_type": "stream",
     "text": [
      "               precision    recall  f1-score   support\n",
      "\n",
      "Not Converted       1.00      1.00      1.00      5277\n",
      "    Converted       1.00      0.99      1.00       367\n",
      "\n",
      "     accuracy                           1.00      5644\n",
      "    macro avg       1.00      1.00      1.00      5644\n",
      " weighted avg       1.00      1.00      1.00      5644\n",
      "\n"
     ]
    },
    {
     "data": {
      "image/png": "[encoded data removed]",
      "text/plain": [
       "<Figure size 432x288 with 2 Axes>"
      ]
     },
     "metadata": {},
     "output_type": "display_data"
    }
   ],
   "source": [
    "sns.heatmap(pd.DataFrame(cnf_matrix), annot=True, cmap=\"YlGnBu\", fmt='g')\n",
    "plt.ylabel('Actual Label')\n",
    "plt.xlabel('Predicted Label')\n",
    "\n",
    "labels = ['Not Converted', 'Converted']\n",
    "print(classification_report(y_test, y_pre, target_names=labels))"
   ]
  },
  {
   "cell_type": "markdown",
   "id": "d69e659e",
   "metadata": {},
   "source": [
    "Thank you for letting me do this data challenge. It is a great opportunity for me to learn."
   ]
  }
 ],
 "metadata": {
  "kernelspec": {
   "display_name": "Python 3",
   "language": "python",
   "name": "python3"
  },
  "language_info": {
   "codemirror_mode": {
    "name": "ipython",
    "version": 3
   },
   "file_extension": ".py",
   "mimetype": "text/x-python",
   "name": "python",
   "nbconvert_exporter": "python",
   "pygments_lexer": "ipython3",
   "version": "3.8.10"
  },
  "toc": {
   "base_numbering": 1,
   "nav_menu": {},
   "number_sections": true,
   "sideBar": true,
   "skip_h1_title": false,
   "title_cell": "Table of Contents",
   "title_sidebar": "Contents",
   "toc_cell": false,
   "toc_position": {},
   "toc_section_display": true,
   "toc_window_display": false
  }
 },
 "nbformat": 4,
 "nbformat_minor": 5
}
